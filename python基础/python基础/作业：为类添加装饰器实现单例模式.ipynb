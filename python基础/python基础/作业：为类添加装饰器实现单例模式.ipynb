{
 "cells": [
  {
   "cell_type": "code",
   "execution_count": 1,
   "id": "082e4b95",
   "metadata": {},
   "outputs": [],
   "source": [
    "# 为类添加装饰器实现(单例模式)\n",
    "# 1、单例类只能有一个实例。\n",
    "# 2、单例类必须自己创建自己的唯一实例。\n",
    "# 3、单例类必须给所有其他对象提供这一实例。"
   ]
  },
  {
   "cell_type": "code",
   "execution_count": 4,
   "id": "5f92e198",
   "metadata": {},
   "outputs": [
    {
     "name": "stdout",
     "output_type": "stream",
     "text": [
      "<__main__.Test object at 0x000002A174FBB130>\n",
      "<__main__.Test object at 0x000002A174FBB130>\n"
     ]
    }
   ],
   "source": [
    "def danli(cls):    #传入类\n",
    "        instance = {}  #判断类名是否存在\n",
    "        def _danli(*args,**kargs):  \n",
    "            if cls not in instance:\n",
    "                instance[cls] = cls(*args, **kargs)\n",
    "            return instance[cls]\n",
    "        return _danli\n",
    "\n",
    "    \n",
    "@danli\n",
    "class Test():  #为类添加装饰器\n",
    "    def __init__(self,name):\n",
    "        self.name= name\n",
    "        \n",
    "test = Test('张三') \n",
    "print(test)\n",
    "test2 = Test('李四') \n",
    "print(test2)"
   ]
  },
  {
   "cell_type": "code",
   "execution_count": 2,
   "id": "fa12d2a9",
   "metadata": {},
   "outputs": [
    {
     "data": {
      "text/plain": [
       "True"
      ]
     },
     "execution_count": 2,
     "metadata": {},
     "output_type": "execute_result"
    }
   ],
   "source": [
    "test is test2"
   ]
  },
  {
   "cell_type": "code",
   "execution_count": null,
   "id": "d1308ed8",
   "metadata": {},
   "outputs": [],
   "source": []
  }
 ],
 "metadata": {
  "kernelspec": {
   "display_name": "Python 3 (ipykernel)",
   "language": "python",
   "name": "python3"
  },
  "language_info": {
   "codemirror_mode": {
    "name": "ipython",
    "version": 3
   },
   "file_extension": ".py",
   "mimetype": "text/x-python",
   "name": "python",
   "nbconvert_exporter": "python",
   "pygments_lexer": "ipython3",
   "version": "3.9.12"
  }
 },
 "nbformat": 4,
 "nbformat_minor": 5
}
