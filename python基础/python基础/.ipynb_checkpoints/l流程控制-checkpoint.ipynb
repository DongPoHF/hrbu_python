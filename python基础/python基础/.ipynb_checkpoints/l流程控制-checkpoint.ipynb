{
 "cells": [
  {
   "cell_type": "code",
   "execution_count": 2,
   "id": "f80c498f",
   "metadata": {},
   "outputs": [
    {
     "name": "stdout",
     "output_type": "stream",
     "text": [
      "未起床\n"
     ]
    }
   ],
   "source": [
    "i=0\n",
    "j=0\n",
    "k=0\n",
    "if i==1:\n",
    "    print('起床')\n",
    "    if j ==1:\n",
    "        print('上班打卡')\n",
    "        if k==1:\n",
    "            print('yes')\n",
    "        else:\n",
    "            print('no')       \n",
    "    else:\n",
    "        print('迟到打卡')\n",
    "    \n",
    "else:\n",
    "    print('未起床')"
   ]
  },
  {
   "cell_type": "code",
   "execution_count": 9,
   "id": "62e29e24",
   "metadata": {},
   "outputs": [
    {
     "name": "stdout",
     "output_type": "stream",
     "text": [
      "不及格\n"
     ]
    }
   ],
   "source": [
    "score=58\n",
    "if score>=90 and score<=100:\n",
    "    print('优秀')\n",
    "elif score>=60 and score<90:\n",
    "    print('及格')\n",
    "else:\n",
    "    print('不及格')\n",
    "    "
   ]
  },
  {
   "cell_type": "code",
   "execution_count": 11,
   "id": "4812b7a9",
   "metadata": {},
   "outputs": [
    {
     "name": "stdout",
     "output_type": "stream",
     "text": [
      "0\n",
      "1\n",
      "2\n",
      "3\n",
      "4\n",
      "循环结束\n"
     ]
    }
   ],
   "source": [
    "i=0\n",
    "while i< 5:\n",
    "    print(i)\n",
    "    i +=1\n",
    "else:\n",
    "    print('循环结束')"
   ]
  },
  {
   "cell_type": "code",
   "execution_count": 14,
   "id": "9cfbd4a7",
   "metadata": {},
   "outputs": [
    {
     "name": "stdout",
     "output_type": "stream",
     "text": [
      "0\n",
      "25\n",
      "50\n",
      "75\n",
      "100\n",
      "125\n",
      "150\n",
      "175\n",
      "200\n",
      "225\n"
     ]
    }
   ],
   "source": [
    "# 翻页 页码 10页\n",
    "i = 0\n",
    "while i<=225:\n",
    "    print(i)\n",
    "    i +=25\n",
    "    "
   ]
  },
  {
   "cell_type": "code",
   "execution_count": 26,
   "id": "3bbd4236",
   "metadata": {},
   "outputs": [
    {
     "name": "stdout",
     "output_type": "stream",
     "text": [
      "http://news.66wz.com/system/count//0002007/000000000000/000/012/c0002007000000000000_000012057.shtml\n",
      "http://news.66wz.com/system/count//0002007/000000000000/000/012/c0002007000000000000_000012056.shtml\n",
      "http://news.66wz.com/system/count//0002007/000000000000/000/012/c0002007000000000000_000012055.shtml\n",
      "http://news.66wz.com/system/count//0002007/000000000000/000/012/c0002007000000000000_000012054.shtml\n",
      "http://news.66wz.com/system/count//0002007/000000000000/000/012/c0002007000000000000_000012053.shtml\n",
      "http://news.66wz.com/system/count//0002007/000000000000/000/012/c0002007000000000000_000012052.shtml\n",
      "http://news.66wz.com/system/count//0002007/000000000000/000/012/c0002007000000000000_000012051.shtml\n",
      "http://news.66wz.com/system/count//0002007/000000000000/000/012/c0002007000000000000_000012050.shtml\n",
      "http://news.66wz.com/system/count//0002007/000000000000/000/012/c0002007000000000000_000012049.shtml\n",
      "http://news.66wz.com/system/count//0002007/000000000000/000/012/c0002007000000000000_000012048.shtml\n"
     ]
    }
   ],
   "source": [
    " # 倒叙出现的网页翻页 规律\n",
    "# 递减1 强制转换 拼接  10页\n",
    "str1=\"http://news.66wz.com/system/count//0002007/000000000000/000/012/c0002007000000000000_0000\"\n",
    "i= 12057\n",
    "while i >12047:\n",
    "    print(str1+str(i)+'.shtml')\n",
    "    i -=1"
   ]
  },
  {
   "cell_type": "code",
   "execution_count": 28,
   "id": "4feaeb65",
   "metadata": {},
   "outputs": [
    {
     "name": "stdout",
     "output_type": "stream",
     "text": [
      "a A\n",
      "b B\n"
     ]
    }
   ],
   "source": [
    "dict_1={'a':'A','b':'B'}\n",
    "for k in dict_1:\n",
    "    print(k,dict_1[k])"
   ]
  },
  {
   "cell_type": "code",
   "execution_count": null,
   "id": "95f7cdc9",
   "metadata": {},
   "outputs": [],
   "source": []
  }
 ],
 "metadata": {
  "kernelspec": {
   "display_name": "Python 3 (ipykernel)",
   "language": "python",
   "name": "python3"
  },
  "language_info": {
   "codemirror_mode": {
    "name": "ipython",
    "version": 3
   },
   "file_extension": ".py",
   "mimetype": "text/x-python",
   "name": "python",
   "nbconvert_exporter": "python",
   "pygments_lexer": "ipython3",
   "version": "3.9.12"
  }
 },
 "nbformat": 4,
 "nbformat_minor": 5
}
