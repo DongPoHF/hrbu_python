{
 "cells": [
  {
   "cell_type": "markdown",
   "id": "08bafdbd",
   "metadata": {},
   "source": [
    "### duck typing 多态 (自学知识点)"
   ]
  },
  {
   "cell_type": "markdown",
   "id": "88185b90",
   "metadata": {},
   "source": [
    "#### Duck Typing 的原话是，当看到一只鸟走起来像鸭子、游泳起来像鸭子、叫起来也像鸭子，那么这只鸟就可以被称为鸭子。\n",
    "它只关心事物的外部行为而非内部结构。\n",
    "#### Python没有类似于Java的动态绑定机制，所以谈不上基于父类引用的多态实现\n",
    "\n",
    "#### 多态： 一类事物具有多种形态(一个抽象类有很多子类，因而多态的概念依赖于继承)\n",
    "\n",
    "\n",
    "### 在python中体现的多态:\n",
    " 几个类拥有同名的方法,可以写一个函数,来统一进行调用 - 归一化设计\n",
    " \n",
    "### 鸭子类型  : 不需要解决类的对象的传参问题,就可以直接利用已经实现的\"不同类之间的相同的方法都用同一个名字\""
   ]
  },
  {
   "cell_type": "code",
   "execution_count": 5,
   "id": "bb158f46",
   "metadata": {},
   "outputs": [
    {
     "name": "stdout",
     "output_type": "stream",
     "text": [
      "Dog is running\n",
      "Cat is running\n",
      "Pig is running\n"
     ]
    }
   ],
   "source": [
    "class Animal():\n",
    "    \n",
    "    @staticmethod\n",
    "    def run(Animal):\n",
    "        Animal.run()\n",
    "\n",
    "        \n",
    "class Dog(Animal):\n",
    "    def run(self):\n",
    "        print('Dog is running')\n",
    "        \n",
    "class Cat(Animal):\n",
    "    def run(self):\n",
    "        print('Cat is running')\n",
    "\n",
    "class Pig():\n",
    "    def run(self):\n",
    "        print('Pig is running')\n",
    "        \n",
    "Animal.run(Dog())\n",
    "Animal.run(Cat())\n",
    "Animal.run(Pig())"
   ]
  },
  {
   "cell_type": "code",
   "execution_count": 4,
   "id": "2b9b1327",
   "metadata": {},
   "outputs": [
    {
     "name": "stdout",
     "output_type": "stream",
     "text": [
      "鸭子飞\n",
      "天鹅飞\n",
      "飞机飞\n"
     ]
    }
   ],
   "source": [
    "# 调用同一个函数fly(), 传入不同的参数（对象），可以达成不同的功能\n",
    "class Duck(object):                                  # 鸭子类\n",
    "    def fly(self):\n",
    "        print(\"鸭子飞\")\n",
    "\n",
    "class Swan(object):                                  # 天鹅类\n",
    "    def fly(self):\n",
    "        print(\"天鹅飞\")\n",
    "\n",
    "class Plane(object):                                 # 飞机类\n",
    "    def fly(self):\n",
    "        print(\"飞机飞\")\n",
    "\n",
    "def fly(obj):                                        # 实现飞的功能函数\n",
    "    obj.fly()\n",
    "\n",
    "duck = Duck()\n",
    "fly(duck)\n",
    "\n",
    "swan = Swan()\n",
    "fly(swan)\n",
    "\n",
    "plane = Plane()\n",
    "fly(plane)"
   ]
  },
  {
   "cell_type": "code",
   "execution_count": null,
   "id": "9d9a76fa",
   "metadata": {},
   "outputs": [],
   "source": []
  }
 ],
 "metadata": {
  "kernelspec": {
   "display_name": "Python 3 (ipykernel)",
   "language": "python",
   "name": "python3"
  },
  "language_info": {
   "codemirror_mode": {
    "name": "ipython",
    "version": 3
   },
   "file_extension": ".py",
   "mimetype": "text/x-python",
   "name": "python",
   "nbconvert_exporter": "python",
   "pygments_lexer": "ipython3",
   "version": "3.9.12"
  }
 },
 "nbformat": 4,
 "nbformat_minor": 5
}
