{
 "cells": [
  {
   "cell_type": "markdown",
   "id": "a18f2315",
   "metadata": {},
   "source": [
    "### 方法的分类\n",
    "#### 实例化/对象方法\n",
    "只有实例化对象之后才可以使用的方法，该方法的第一个形参接收一定是对象本身\n",
    "#### 绑定类方法/静态方法\n",
    "无需实例化，可以通过类直接调用的方法，方法中的参数既不接收对象，也不接受类。\n",
    "一般可以独立使用，跟类中其他成员关联不大。\n",
    "#### 类方法\n",
    "无需实例化，可以通过类直接调用方法。\n",
    "但是方法的第一个参数接受的一定是类本身，这种方法一般情况下需要借助其他成员操作"
   ]
  },
  {
   "cell_type": "code",
   "execution_count": 4,
   "id": "50120a8e",
   "metadata": {},
   "outputs": [
    {
     "name": "stdout",
     "output_type": "stream",
     "text": [
      "<__main__.Person object at 0x00000250A739A4C0>\n",
      "说话功能，非绑定类方法\n",
      "走路方法，绑定类方法\n",
      "<class '__main__.Person'>\n",
      "喝水方法，类方法\n"
     ]
    }
   ],
   "source": [
    "# 包含各种方法的类\n",
    "class Person:\n",
    "    #绑定类的方法，静态方法\n",
    "    @staticmethod    #可以省略不写\n",
    "    def walk():\n",
    "        print('走路方法，绑定类方法')\n",
    "    # 非绑定类方法，对象方法\n",
    "    def say(self):\n",
    "        print(self)\n",
    "        print('说话功能，非绑定类方法')\n",
    "    #类方法\n",
    "    @classmethod  #必须写\n",
    "    def drink(cls):\n",
    "        print(cls)\n",
    "        print('喝水方法，类方法')\n",
    "        \n",
    "#非绑定类方法(对象/实例化)\n",
    "zs = Person()\n",
    "zs.say()\n",
    "\n",
    "#绑定类方法，静态方法\n",
    "Person.walk()\n",
    "\n",
    "#调用类方法\n",
    "Person.drink()"
   ]
  },
  {
   "cell_type": "markdown",
   "id": "75b18b2f",
   "metadata": {},
   "source": [
    "### 抽象类\n",
    "具有抽象方法的类 就是抽象类<br>\n",
    "抽象方法就是没有完成的方法，只有方法名称和参数，没有方法内容的方法<br>\n",
    "作用：适用于领导者指定开发规范及多人协作完成类<br>\n",
    "##### abc sbstract class 抽象类的缩写"
   ]
  },
  {
   "cell_type": "code",
   "execution_count": 6,
   "id": "10d75ff4",
   "metadata": {},
   "outputs": [],
   "source": [
    "# 使用抽象类必须使用的abc模块\n",
    "import abc\n",
    "\n",
    "#书写抽象类必须指定抽象类的元类  固定格式\n",
    "class Animal(metaclass = abc.ABCMeta):\n",
    "    \n",
    "    # 定义一个抽象的实例化/非绑定类的方法\n",
    "    @abc.abstractmethod\n",
    "    def walk(self):\n",
    "        pass\n",
    "    \n",
    "    #定义一个抽象的类方法 \n",
    "    @abc.abstractclassmethod\n",
    "    def say(cls):\n",
    "        pass\n",
    "    \n",
    "    #定义一个抽象的静态方法/绑定类方法\n",
    "    @abc.abstractstaticmethod\n",
    "    def drink():\n",
    "        pass"
   ]
  },
  {
   "cell_type": "code",
   "execution_count": 12,
   "id": "ac8254ea",
   "metadata": {},
   "outputs": [],
   "source": [
    "# 某个开放人员负责人类的编写 ---> Boss的框架去写一点都不要差\n",
    "class Human(Animal):\n",
    "    def walk(self):\n",
    "        print('Boss的第一个任务我完成了')\n",
    "        \n",
    "    @classmethod\n",
    "    def say(cls):\n",
    "        print('say ok')\n",
    "        \n",
    "    @staticmethod \n",
    "    def drink():\n",
    "        print('drink func')"
   ]
  },
  {
   "cell_type": "code",
   "execution_count": 13,
   "id": "d27a742b",
   "metadata": {},
   "outputs": [],
   "source": [
    "zs = Human()"
   ]
  },
  {
   "cell_type": "code",
   "execution_count": 15,
   "id": "4f3b3dcb",
   "metadata": {},
   "outputs": [
    {
     "name": "stdout",
     "output_type": "stream",
     "text": [
      "say ok\n"
     ]
    }
   ],
   "source": [
    "zs.say()"
   ]
  },
  {
   "cell_type": "code",
   "execution_count": 16,
   "id": "ad384e86",
   "metadata": {},
   "outputs": [],
   "source": [
    "# 某2个开放人员负责人类的编写 ---> Boss的框架去写一点都不要差\n",
    "class Dog(Animal):\n",
    "    def walk(self):\n",
    "        print('Boss的第一个任务我完成了')\n",
    "        \n",
    "    @classmethod\n",
    "    def say(cls):\n",
    "        print('say ok')\n",
    "        \n",
    "    @staticmethod \n",
    "    def drink():\n",
    "        print('drink func')"
   ]
  },
  {
   "cell_type": "code",
   "execution_count": 17,
   "id": "b6208635",
   "metadata": {},
   "outputs": [],
   "source": [
    "# 某3个开放人员负责人类的编写 ---> Boss的框架去写一点都不要差\n",
    "class Cat(Animal):\n",
    "    def walk(self):\n",
    "        print('Boss的第一个任务我完成了')\n",
    "        \n",
    "    @classmethod\n",
    "    def say(cls):\n",
    "        print('say ok')\n",
    "        \n",
    "    @staticmethod \n",
    "    def drink():\n",
    "        print('drink func')"
   ]
  },
  {
   "cell_type": "markdown",
   "id": "7952ddff",
   "metadata": {},
   "source": []
  }
 ],
 "metadata": {
  "kernelspec": {
   "display_name": "Python 3 (ipykernel)",
   "language": "python",
   "name": "python3"
  },
  "language_info": {
   "codemirror_mode": {
    "name": "ipython",
    "version": 3
   },
   "file_extension": ".py",
   "mimetype": "text/x-python",
   "name": "python",
   "nbconvert_exporter": "python",
   "pygments_lexer": "ipython3",
   "version": "3.9.12"
  }
 },
 "nbformat": 4,
 "nbformat_minor": 5
}
