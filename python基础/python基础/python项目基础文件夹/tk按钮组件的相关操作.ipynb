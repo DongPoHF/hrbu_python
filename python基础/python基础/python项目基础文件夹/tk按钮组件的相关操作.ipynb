{
 "cells": [
  {
   "cell_type": "markdown",
   "id": "19b68d17",
   "metadata": {},
   "source": [
    "##### tkinter的使用方法\n",
    "##### tkinter是python自带的GUI库，是对图形TK的封装\n",
    "##### tkinter是跨平台的GUI库，在win，Linux，macos下运行"
   ]
  },
  {
   "cell_type": "code",
   "execution_count": 4,
   "id": "8c369add",
   "metadata": {},
   "outputs": [],
   "source": [
    "# # 导入tkinter模块\n",
    "# import tkinter\n",
    "\n",
    "# #创建一个窗口\n",
    "# root = tkinter.Tk()\n",
    "\n",
    "# #必须加入主窗口的消息循环\n",
    "# root.mainloop()"
   ]
  },
  {
   "cell_type": "markdown",
   "id": "54dae2a3",
   "metadata": {},
   "source": [
    "### 组件的概念\n",
    "#### 按钮组件\n",
    "Button(按钮组件) <br>\n",
    "RadioButton(单选按钮)<br>\n",
    "CheckButton(选择按钮)<br>\n",
    "ListBox(列表框)<br>\n",
    "使用方法：tkinter.Button(用于存放的父组件,属性参数...)<br>\n",
    "具备以下属性：<br>\n",
    "anchor(设置按钮的文字对齐方式，相对于按钮的中心位置)<br>\n",
    "background(bg) 设置按钮的背景颜色<br>\n",
    "foreground(fg) 前景色<br>\n",
    "cursor 设置鼠标在按钮上的样式<br>\n",
    "command 设定按钮点击触发的函数<br>\n",
    "bitmp 设置按钮的显示位图<br>\n",
    "font 字体<br>\n",
    "width 按钮的宽度(字符的个数)<br>\n",
    "height 按钮的高度(字符的个数)<br>\n",
    "state  按钮的状态<br>\n",
    "text  设置按钮上的文字<br>\n",
    "imge  设置按钮上的图片<br>\n",
    "https://www.iconfont.cn/"
   ]
  },
  {
   "cell_type": "code",
   "execution_count": 7,
   "id": "881487e7",
   "metadata": {},
   "outputs": [],
   "source": [
    "# root = tkinter.Tk()\n",
    "# # 添加组件(按钮组件)\n",
    "# btn = tkinter.Button(root,text='click')\n",
    "# # 摆放组件(布局)\n",
    "# btn.pack()\n",
    "\n",
    "# root.mainloop()"
   ]
  },
  {
   "cell_type": "code",
   "execution_count": 26,
   "id": "25b10729",
   "metadata": {},
   "outputs": [],
   "source": [
    "import tkinter\n",
    "\n",
    "root = tkinter.Tk()\n",
    "root.minsize(400,400)  # 固定最小窗口\n",
    "# root.maxsize(400,400)  # 固定最大窗口 \n",
    "\n",
    "# 添加按钮组件\n",
    "# btn = tkinter.Button(root,text='按钮1')\n",
    "# btn.pack()\n",
    "\n",
    "# 按钮组件的bg 与 fg 以及边框bd 设置\n",
    "# btn = tkinter.Button(root,text = '按钮',bg = 'pink',fg = 'red',bd=15)# 对照色表\n",
    "# btn.pack()\n",
    "\n",
    "\n",
    "#按钮组件的触发函数(事件)\n",
    "# def btn_func():\n",
    "#     print('点击指令')\n",
    "# btn = tkinter.Button(root,text= 'click',command=btn_func)\n",
    "# btn.pack()\n",
    "\n",
    "# font 字体的设置(字体，字号，斜体，加粗)\n",
    "# btn = tkinter.Button(root,text= '按钮',font=('楷体',25,'italic','bold'))\n",
    "# btn.pack()\n",
    "\n",
    "#宽高设置\n",
    "# btn = tkinter.Button(root,text='cc',width = 20 ,height = 5)\n",
    "# btn.pack()\n",
    "\n",
    "#按钮的状态 (不可点击)\n",
    "# btn = tkinter.Button(root,text='cc',state = 'disabled')\n",
    "# btn.pack()\n",
    "\n",
    "#图片\n",
    "# img = tkinter.PhotoImage(file='./001.png')\n",
    "# btn = tkinter.Button(root,text='cc',image = img)\n",
    "# btn.pack()\n",
    "\n",
    "root.mainloop()"
   ]
  },
  {
   "cell_type": "code",
   "execution_count": null,
   "id": "5ba260a9",
   "metadata": {},
   "outputs": [],
   "source": []
  }
 ],
 "metadata": {
  "kernelspec": {
   "display_name": "Python 3 (ipykernel)",
   "language": "python",
   "name": "python3"
  },
  "language_info": {
   "codemirror_mode": {
    "name": "ipython",
    "version": 3
   },
   "file_extension": ".py",
   "mimetype": "text/x-python",
   "name": "python",
   "nbconvert_exporter": "python",
   "pygments_lexer": "ipython3",
   "version": "3.9.12"
  }
 },
 "nbformat": 4,
 "nbformat_minor": 5
}
