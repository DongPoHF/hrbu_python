{
 "cells": [
  {
   "cell_type": "markdown",
   "id": "0556b606",
   "metadata": {},
   "source": [
    "### 组件3 标签(Label)\n",
    "标签用于在页面中显示文字或者图片\n",
    "tkinter.Label(父组件,属性.....)\n",
    "### 属性表\n",
    "|属性名|含义|\n",
    "|----|----|\n",
    "|anchor|设置文本相对于标签中心的位置|\n",
    "|background|设置标签的背景色|\n",
    "|foreground|设置标签的前景色|\n",
    "|borderwidth|设置标签边框的宽度|\n",
    "|width|设置标签的宽度|\n",
    "|height|设置标签的高度|\n",
    "|text|设置标签中的文本内容|\n",
    "|font|设置标签中文字的字体类型|\n",
    "|bitmap|设置标签的现实的位图|\n",
    "|image|设置标签中的图片|\n",
    "|justify|设置标签中多行文本的对齐方式|\n",
    "|textvariable|设置文本对应的变量|"
   ]
  },
  {
   "cell_type": "code",
   "execution_count": 3,
   "id": "2c8ca3ac",
   "metadata": {},
   "outputs": [],
   "source": [
    "import tkinter"
   ]
  },
  {
   "cell_type": "code",
   "execution_count": 19,
   "id": "10b3a754",
   "metadata": {},
   "outputs": [],
   "source": [
    "root = tkinter.Tk()\n",
    "root.minsize(400,400)\n",
    "\n",
    "#label\n",
    "# label = tkinter.Label(root,text='test text')\n",
    "# label.pack()\n",
    "\n",
    "\n",
    "#bg与fg 与bd\n",
    "# label = tkinter.Label(root,text='tt',bg='green',fg='red',bd=20)\n",
    "# label.pack()\n",
    "\n",
    "#w(宽) 和 h(高)\n",
    "# label= tkinter.Label(root,\n",
    "#                     text='空山不见人，但闻人语响。\\n返景入深林，复照青苔上。\\n',\n",
    "#                     bg = 'green',\n",
    "#                     fg = 'red',\n",
    "#                     width = 20,\n",
    "#                      height=10                  \n",
    "#                     )\n",
    "# label.pack()\n",
    "\n",
    "\n",
    "#font 字体\n",
    "# label = tkinter.Label(root,text='空山不见人',font=('楷体',20))\n",
    "# label.pack()\n",
    "\n",
    "# image 图片\n",
    "# img = tkinter.PhotoImage(file='002.gif')\n",
    "# label = tkinter.Label(root,image=img)\n",
    "# label.pack()\n",
    "\n",
    "\n",
    "#justify 对齐方式 left right center\n",
    "# label = tkinter.Label(root,\n",
    "#                       text='我欲乘风归去,\\n又恐琼楼玉宇,\\n高处不胜寒。\\n起舞弄清影,\\n何似在人间\\n',\n",
    "#                       justify='left',\n",
    "#                       font=('楷体',20,'bold')                   \n",
    "#                      )\n",
    "# label.pack()\n",
    "\n",
    "#textvariable 变量\n",
    "txt=tkinter.StringVar()\n",
    "txt.set('aaaaa')\n",
    "label = tkinter.Label(root,textvariable=txt)\n",
    "label.pack()\n",
    "\n",
    "\n",
    "root.mainloop()"
   ]
  },
  {
   "cell_type": "code",
   "execution_count": null,
   "id": "3102ccfd",
   "metadata": {},
   "outputs": [],
   "source": []
  }
 ],
 "metadata": {
  "kernelspec": {
   "display_name": "Python 3 (ipykernel)",
   "language": "python",
   "name": "python3"
  },
  "language_info": {
   "codemirror_mode": {
    "name": "ipython",
    "version": 3
   },
   "file_extension": ".py",
   "mimetype": "text/x-python",
   "name": "python",
   "nbconvert_exporter": "python",
   "pygments_lexer": "ipython3",
   "version": "3.9.12"
  }
 },
 "nbformat": 4,
 "nbformat_minor": 5
}
