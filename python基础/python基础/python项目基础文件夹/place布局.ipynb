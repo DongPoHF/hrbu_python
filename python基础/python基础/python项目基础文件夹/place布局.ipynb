{
 "cells": [
  {
   "cell_type": "markdown",
   "id": "94342f2a",
   "metadata": {},
   "source": [
    "### place布局方法\n",
    "通过绝对或者相对位置坐标确定组件位置\n",
    "### place()布局的通用公式位：\n",
    "组件对象.place(option,.....)\n",
    "### place的选线\n",
    "|名称|描述|取值范围|\n",
    "|----|----|----|\n",
    "|anchor|相对于摆放组件的坐标位置|N,E,S,W等方向坐标|\n",
    "|height|以像素单位的高度(绝对布局专用)|像素|\n",
    "|width|以像素单位的宽度(绝对布局专用)|像素|\n",
    "|relheight|组件相对于窗口的高度(相对布局)|0~1|\n",
    "|relwidth|组件相对于窗口的宽度(相对布局)|0~1|\n",
    "|relx|水平偏移为0-1的浮动(相对布局)|0-1|\n",
    "|rely|垂直偏移为0-1的浮动(相对布局)|0-1|\n",
    "|x|组件左上角的x坐标(绝对布局)|像素|\n",
    "|y|组件左上角的y坐标(绝对布局)|像素|"
   ]
  },
  {
   "cell_type": "code",
   "execution_count": 2,
   "id": "7cdf3142",
   "metadata": {},
   "outputs": [],
   "source": [
    "import tkinter"
   ]
  },
  {
   "cell_type": "code",
   "execution_count": 3,
   "id": "3ea9bd91",
   "metadata": {},
   "outputs": [],
   "source": [
    "root=tkinter.Tk()\n",
    "root.minsize(400,400)\n",
    "#绝对布局\n",
    "# btn1 = tkinter.Button(root,text='按钮1')\n",
    "# btn2 = tkinter.Button(root,text='按钮2')\n",
    "# btn3 = tkinter.Button(root,text='按钮3')\n",
    "# btn4 = tkinter.Button(root,text='按钮4')\n",
    "\n",
    "# btn1.place(x=50,y=50,width=50,height=50)  #组件左上角\n",
    "# btn2.place(x=100,y=50,width=50,height=50)\n",
    "# btn3.place(x=150,y=50,width=50,height=50)\n",
    "# btn4.place(x=200,y=50,width=50,height=50)\n",
    "\n",
    "#相对布局\n",
    "btn1 = tkinter.Button(root,text='按钮1')\n",
    "btn2 = tkinter.Button(root,text='按钮2')\n",
    "\n",
    "btn1.place(relx=0.05,rely=0.1,relwidth=0.2,relheight=0.2)\n",
    "btn2.place(relx=0.3,rely=0.3,relwidth=0.2,relheight=0.2)\n",
    "\n",
    "root.mainloop()"
   ]
  },
  {
   "cell_type": "code",
   "execution_count": null,
   "id": "5a0f3870",
   "metadata": {},
   "outputs": [],
   "source": []
  }
 ],
 "metadata": {
  "kernelspec": {
   "display_name": "Python 3 (ipykernel)",
   "language": "python",
   "name": "python3"
  },
  "language_info": {
   "codemirror_mode": {
    "name": "ipython",
    "version": 3
   },
   "file_extension": ".py",
   "mimetype": "text/x-python",
   "name": "python",
   "nbconvert_exporter": "python",
   "pygments_lexer": "ipython3",
   "version": "3.9.12"
  }
 },
 "nbformat": 4,
 "nbformat_minor": 5
}
