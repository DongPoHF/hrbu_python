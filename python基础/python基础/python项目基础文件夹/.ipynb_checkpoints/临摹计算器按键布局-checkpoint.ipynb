{
 "cells": [
  {
   "cell_type": "code",
   "execution_count": 1,
   "id": "a13d893b",
   "metadata": {},
   "outputs": [],
   "source": [
    "import tkinter"
   ]
  },
  {
   "cell_type": "code",
   "execution_count": 25,
   "id": "2e58bddf",
   "metadata": {},
   "outputs": [],
   "source": [
    "root = tkinter.Tk()\n",
    "\n",
    "### 计算器桌面配置\n",
    "root.minsize(410,767)\n",
    "root.maxsize(410,767)\n",
    "### 计算器按键\n",
    "btn0=tkinter.Button(root,text='0',font=('微软雅黑',13))\n",
    "btn1=tkinter.Button(root,text='1',font=('微软雅黑',13))\n",
    "btn2=tkinter.Button(root,text='2',font=('微软雅黑',13))\n",
    "btn3=tkinter.Button(root,text='3',font=('微软雅黑',13))\n",
    "btn4=tkinter.Button(root,text='4',font=('微软雅黑',13))\n",
    "btn5=tkinter.Button(root,text='5',font=('微软雅黑',13))\n",
    "btn6=tkinter.Button(root,text='6',font=('微软雅黑',13))\n",
    "btn7=tkinter.Button(root,text='7',font=('微软雅黑',13))\n",
    "btn8=tkinter.Button(root,text='8',font=('微软雅黑',13))\n",
    "btn9=tkinter.Button(root,text='9',font=('微软雅黑',13))\n",
    "btnmc=tkinter.Button(root,text='MC',font=('微软雅黑',9),bd=0)\n",
    "btneq=tkinter.Button(root,text='=',font=('微软雅黑',18),bg='Grey',fg='white')\n",
    "\n",
    "\n",
    "### 按键的布局(place方法绝对布局)\n",
    "btn0.place(x=106,y=682,height=80,width=100)\n",
    "btn1.place(x=4,y=597,height=80,width=100)\n",
    "btn2.place(x=106,y=597,height=80,width=100)\n",
    "btn3.place(x=208,y=597,height=80,width=100)\n",
    "btn4.place(x=4,y=513,height=80,width=100)\n",
    "btn5.place(x=106,y=513,height=80,width=100)\n",
    "btn6.place(x=208,y=513,height=80,width=100)\n",
    "btn7.place(x=4,y=428,height=80,width=100)\n",
    "btn8.place(x=106,y=428,height=80,width=100)\n",
    "btn9.place(x=208,y=428,height=80,width=100)\n",
    "btnmc.place(x=4,y=207,height=50,width=65)\n",
    "btneq.place(x=310,y=682,height=80,width=100)\n",
    "\n",
    "\n",
    "\n",
    "root.mainloop()"
   ]
  },
  {
   "cell_type": "code",
   "execution_count": null,
   "id": "89d7957f",
   "metadata": {},
   "outputs": [],
   "source": []
  }
 ],
 "metadata": {
  "kernelspec": {
   "display_name": "Python 3 (ipykernel)",
   "language": "python",
   "name": "python3"
  },
  "language_info": {
   "codemirror_mode": {
    "name": "ipython",
    "version": 3
   },
   "file_extension": ".py",
   "mimetype": "text/x-python",
   "name": "python",
   "nbconvert_exporter": "python",
   "pygments_lexer": "ipython3",
   "version": "3.9.12"
  }
 },
 "nbformat": 4,
 "nbformat_minor": 5
}
