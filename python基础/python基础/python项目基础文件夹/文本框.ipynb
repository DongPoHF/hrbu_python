{
 "cells": [
  {
   "cell_type": "markdown",
   "id": "de943916",
   "metadata": {},
   "source": [
    "###  组件2 文本框（Entry）和多行文本（Text）\n",
    "#### 单行文本\n",
    "tkinter.Entry(用于存放父组件，属性参数....)\n",
    "#### 多行文本\n",
    "tkinter.Text(用于存放父组件,属性参数....)\n",
    "\n",
    "#### 属性表\n",
    "|属性名|含义|\n",
    "| ---- | ---- |\n",
    "|background(bg)|设置文本框的背景色| \n",
    "|foreground(fg)|设置文本框的前景色|   \n",
    "|borderwidth(bd)|设置文本框的边框|\n",
    "|font|设置文本框的字体| \n",
    "|width|设置文本框的宽度(字符的个数)|\n",
    "|height|设置文本框的高度(字符的个数)，仅限于Text|\n",
    "|selectbackground|选中文字时文本框的背景颜色|\n",
    "|selectforeground|选中文字时文本框的前景颜色|\n",
    "|show|指定文本框显示的字符，例：* 表示密码框|\n",
    "|textvariable|设置文本相应的变量|"
   ]
  },
  {
   "cell_type": "code",
   "execution_count": 11,
   "id": "5dcad66a",
   "metadata": {},
   "outputs": [],
   "source": [
    "import tkinter"
   ]
  },
  {
   "cell_type": "code",
   "execution_count": 22,
   "id": "9159d91f",
   "metadata": {},
   "outputs": [],
   "source": [
    "root = tkinter.Tk()\n",
    "root.minsize(400,400)\n",
    "\n",
    "# ent = tkinter.Entry(root)\n",
    "# ent.pack()\n",
    "\n",
    "#bg 背景色，fg前景色，bd边框\n",
    "# ent = tkinter.Entry(root,bg = 'green',fg = 'red',bd = 10)\n",
    "# ent.pack()\n",
    "\n",
    "#字体效果\n",
    "# ent = tkinter.Entry(root,font=('微软雅黑',20))\n",
    "# ent.pack()\n",
    "\n",
    "#width 宽度\n",
    "# ent = tkinter.Entry(root,width=40)\n",
    "# ent.pack()\n",
    "\n",
    "#state normal正常 disabled 不可用 readonly只读\n",
    "# ent = tkinter.Entry(root,state = 'disabled')\n",
    "# ent.pack()\n",
    "\n",
    "#textvariable 文本变量\n",
    "# 三种变量StringVar字符串 IntVar整型 FloatVar浮点型\n",
    "#创建类型\n",
    "# txt = tkinter.StringVar()\n",
    "# 设置值\n",
    "# txt.set('请输入您的姓名')\n",
    "# ent = tkinter.Entry(root,textvariable=txt)\n",
    "\n",
    "# #获取单行文本信息事件\n",
    "# def gettxt():\n",
    "#     print(txt.get())\n",
    "# btn= tkinter.Button(root,text='获取输入内容',command=gettxt)\n",
    "# ent.pack()\n",
    "# btn.pack()\n",
    "\n",
    "\n",
    "#selectbackground 选中内容的背景颜色\n",
    "#selectforeground 选中内容的前景颜色\n",
    "# ent = tkinter.Entry(root,\n",
    "#                     selectbackground='green',\n",
    "#                     selectforeground='red',)\n",
    "# ent.pack()\n",
    "\n",
    "\n",
    "#show 密码字符\n",
    "ent = tkinter.Entry(root,show='*')\n",
    "ent.pack()\n",
    "\n",
    "root.mainloop()"
   ]
  },
  {
   "cell_type": "code",
   "execution_count": null,
   "id": "3be3cb5e",
   "metadata": {},
   "outputs": [],
   "source": []
  }
 ],
 "metadata": {
  "kernelspec": {
   "display_name": "Python 3 (ipykernel)",
   "language": "python",
   "name": "python3"
  },
  "language_info": {
   "codemirror_mode": {
    "name": "ipython",
    "version": 3
   },
   "file_extension": ".py",
   "mimetype": "text/x-python",
   "name": "python",
   "nbconvert_exporter": "python",
   "pygments_lexer": "ipython3",
   "version": "3.9.12"
  }
 },
 "nbformat": 4,
 "nbformat_minor": 5
}
