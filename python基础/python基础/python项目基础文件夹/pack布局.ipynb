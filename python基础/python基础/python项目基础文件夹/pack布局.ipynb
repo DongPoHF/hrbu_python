{
 "cells": [
  {
   "cell_type": "markdown",
   "id": "1654142c",
   "metadata": {},
   "source": [
    "## pack布局方法\n",
    "pack几何管理布局方式\n",
    "### pack() 布局的通用公式\n",
    "组件对象.pack(设置,....)\n",
    "\n",
    "|名称|描述|取值范围|\n",
    "|----|----|----|\n",
    "|side|停靠在父组件的哪个边上|left，right，top,bottom|\n",
    "|anchor|相对于摆放的位置布局，左对齐w，右对齐e，顶对其n，底对齐s|n,s,w,e,nw,sw,se,ne,center|\n",
    "|ipadx,ipady|组件内部在x(y)方向上填充空间大小(像素(像素尺))|非负数的浮点型数默认0.0|\n",
    "|padx,pady|组件外部在x(y)方向上填充空间大小(像素(像素尺))|非负数的浮点型数默认0.0|"
   ]
  },
  {
   "cell_type": "code",
   "execution_count": 1,
   "id": "8210acf1",
   "metadata": {},
   "outputs": [],
   "source": [
    "import tkinter"
   ]
  },
  {
   "cell_type": "code",
   "execution_count": 15,
   "id": "b7a076bb",
   "metadata": {},
   "outputs": [],
   "source": [
    "root = tkinter.Tk()\n",
    "root.minsize(400,400)\n",
    "\n",
    "#添加按钮组件并摆放\n",
    "# btn1 = tkinter.Button(root,text='按钮1')\n",
    "# #side 设置摆放的方位\n",
    "# btn1.pack(side='left')\n",
    "\n",
    "# btn2=tkinter.Button(root,text='按钮2')\n",
    "# btn2.pack(side='right')\n",
    "\n",
    "# btn3=tkinter.Button(root,text='按钮3')\n",
    "# btn3.pack(side='top')\n",
    "\n",
    "# btn4=tkinter.Button(root,text='按钮3')\n",
    "# btn4.pack(side='bottom')\n",
    "\n",
    "#fill填充\n",
    "# btn1 = tkinter.Button(root,text='按钮')\n",
    "# btn1.pack(side='left',fill='y') # fill='x'   fill='both'  填满\n",
    "\n",
    "#anchor 方位设置\n",
    "# btn1 = tkinter.Button(root,text='按钮2')\n",
    "# btn1.pack(anchor='se')\n",
    "\n",
    "#ipadx , ipady 组件内部填充空间\n",
    "btn1 = tkinter.Button(root,text='按钮')\n",
    "btn1.pack(ipadx=20,ipady=10)\n",
    "\n",
    "#padx pady 设置组件之间间距\n",
    "# btn1 = tkinter.Button(root,text='按钮1')\n",
    "# btn2 = tkinter.Button(root,text='按钮2')\n",
    "\n",
    "# #布局\n",
    "# btn1.pack(pady=40)\n",
    "# btn2.pack()\n",
    "\n",
    "\n",
    "\n",
    "root.mainloop()"
   ]
  },
  {
   "cell_type": "code",
   "execution_count": null,
   "id": "881c7540",
   "metadata": {},
   "outputs": [],
   "source": []
  },
  {
   "cell_type": "code",
   "execution_count": null,
   "id": "9917e9ea",
   "metadata": {},
   "outputs": [],
   "source": []
  },
  {
   "cell_type": "code",
   "execution_count": null,
   "id": "53220a75",
   "metadata": {},
   "outputs": [],
   "source": []
  }
 ],
 "metadata": {
  "kernelspec": {
   "display_name": "Python 3 (ipykernel)",
   "language": "python",
   "name": "python3"
  },
  "language_info": {
   "codemirror_mode": {
    "name": "ipython",
    "version": 3
   },
   "file_extension": ".py",
   "mimetype": "text/x-python",
   "name": "python",
   "nbconvert_exporter": "python",
   "pygments_lexer": "ipython3",
   "version": "3.9.12"
  }
 },
 "nbformat": 4,
 "nbformat_minor": 5
}
