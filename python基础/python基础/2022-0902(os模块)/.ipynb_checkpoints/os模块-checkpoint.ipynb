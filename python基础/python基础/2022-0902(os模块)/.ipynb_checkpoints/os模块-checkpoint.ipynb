{
 "cells": [
  {
   "cell_type": "code",
   "execution_count": 1,
   "id": "f6483716",
   "metadata": {},
   "outputs": [],
   "source": [
    "# os 操作系统的简称\n",
    "# os模块是对操作系统进行操作，使用该模块必须先导入"
   ]
  },
  {
   "cell_type": "code",
   "execution_count": 1,
   "id": "5f180098",
   "metadata": {},
   "outputs": [],
   "source": [
    "import os"
   ]
  },
  {
   "cell_type": "markdown",
   "id": "11d3f253",
   "metadata": {},
   "source": [
    "### os模块中的函数"
   ]
  },
  {
   "cell_type": "code",
   "execution_count": 60,
   "id": "e6649758",
   "metadata": {},
   "outputs": [
    {
     "data": {
      "text/plain": [
       "'C:\\\\Users\\\\xiaoying\\\\anaconda\\\\python基础\\\\2022-0902'"
      ]
     },
     "execution_count": 60,
     "metadata": {},
     "output_type": "execute_result"
    }
   ],
   "source": [
    "#getcwd()\n",
    "#功能：获取当前的工作目录\n",
    "#格式：os.getcwd()\n",
    "#返回值:绝对路径的字符串\n",
    "path=os.getcwd()\n",
    "path\n",
    "# def pic(a,b,c):\n",
    "#     full_a_path = path +'\\\\'+ a\n",
    "#     print('正在解压',full_a_path,'文件')"
   ]
  },
  {
   "cell_type": "code",
   "execution_count": 59,
   "id": "50c2b9a0",
   "metadata": {},
   "outputs": [
    {
     "name": "stdout",
     "output_type": "stream",
     "text": [
      "原有的工作路径 D:\\\n",
      "修改的工作路径 C:\\Users\\xiaoying\\anaconda\\python基础\\2022-0902\n"
     ]
    }
   ],
   "source": [
    "#chdir()\n",
    "#功能：修改当前的工作目录\n",
    "#格式：os.chdir()\n",
    "#返回值：None\n",
    "# path = os.getcwd()\n",
    "# print('原有的工作路径',path)\n",
    "# paths = os.chdir('C:\\\\Users\\\\xiaoying\\\\anaconda\\\\python基础\\\\2022-0902\\\\')\n",
    "# path = os.getcwd()\n",
    "# print('修改的工作路径',path)"
   ]
  },
  {
   "cell_type": "code",
   "execution_count": 63,
   "id": "ddd2c905",
   "metadata": {},
   "outputs": [
    {
     "data": {
      "text/plain": [
       "['.ipynb_checkpoints', 'os模块.ipynb', 'random.ipynb']"
      ]
     },
     "execution_count": 63,
     "metadata": {},
     "output_type": "execute_result"
    }
   ],
   "source": [
    "#listdir()\n",
    "#功能：获取指定文件夹中的所有文件和文件夹组成的列表\n",
    "#格式：os.listdir(路径)\n",
    "#返回值：目录中的内容名称列表\n",
    "path_list= os.listdir('C:\\\\Users\\\\xiaoying\\\\anaconda\\\\python基础\\\\2022-0902\\\\')\n",
    "path_list"
   ]
  },
  {
   "cell_type": "code",
   "execution_count": 3,
   "id": "071e6d36",
   "metadata": {
    "collapsed": true
   },
   "outputs": [
    {
     "ename": "FileExistsError",
     "evalue": "[WinError 183] 当文件已存在时，无法创建该文件。: 'C:\\\\Users\\\\xiaoying\\\\anaconda\\\\python基础\\\\2022-0902\\\\test\\\\'",
     "output_type": "error",
     "traceback": [
      "\u001b[1;31m---------------------------------------------------------------------------\u001b[0m",
      "\u001b[1;31mFileExistsError\u001b[0m                           Traceback (most recent call last)",
      "Input \u001b[1;32mIn [3]\u001b[0m, in \u001b[0;36m<cell line: 5>\u001b[1;34m()\u001b[0m\n\u001b[0;32m      1\u001b[0m \u001b[38;5;66;03m#mkdir()\u001b[39;00m\n\u001b[0;32m      2\u001b[0m \u001b[38;5;66;03m#功能：创建一个目录/文件夹\u001b[39;00m\n\u001b[0;32m      3\u001b[0m \u001b[38;5;66;03m#格式：os.mkdir(目录的路径)\u001b[39;00m\n\u001b[0;32m      4\u001b[0m \u001b[38;5;66;03m#返回值：None\u001b[39;00m\n\u001b[1;32m----> 5\u001b[0m \u001b[43mos\u001b[49m\u001b[38;5;241;43m.\u001b[39;49m\u001b[43mmkdir\u001b[49m\u001b[43m(\u001b[49m\u001b[38;5;124;43m'\u001b[39;49m\u001b[38;5;124;43mC:\u001b[39;49m\u001b[38;5;130;43;01m\\\\\u001b[39;49;00m\u001b[38;5;124;43mUsers\u001b[39;49m\u001b[38;5;130;43;01m\\\\\u001b[39;49;00m\u001b[38;5;124;43mxiaoying\u001b[39;49m\u001b[38;5;130;43;01m\\\\\u001b[39;49;00m\u001b[38;5;124;43manaconda\u001b[39;49m\u001b[38;5;130;43;01m\\\\\u001b[39;49;00m\u001b[38;5;124;43mpython基础\u001b[39;49m\u001b[38;5;130;43;01m\\\\\u001b[39;49;00m\u001b[38;5;124;43m2022-0902\u001b[39;49m\u001b[38;5;130;43;01m\\\\\u001b[39;49;00m\u001b[38;5;124;43mtest\u001b[39;49m\u001b[38;5;130;43;01m\\\\\u001b[39;49;00m\u001b[38;5;124;43m'\u001b[39;49m\u001b[43m)\u001b[49m\n",
      "\u001b[1;31mFileExistsError\u001b[0m: [WinError 183] 当文件已存在时，无法创建该文件。: 'C:\\\\Users\\\\xiaoying\\\\anaconda\\\\python基础\\\\2022-0902\\\\test\\\\'"
     ]
    }
   ],
   "source": [
    "#mkdir()\n",
    "#功能：创建一个目录/文件夹\n",
    "#格式：os.mkdir(目录的路径)\n",
    "#返回值：None\n",
    "os.mkdir('C:\\\\Users\\\\xiaoying\\\\anaconda\\\\python基础\\\\2022-0902\\\\test\\\\')"
   ]
  },
  {
   "cell_type": "code",
   "execution_count": 6,
   "id": "20f64b12",
   "metadata": {},
   "outputs": [],
   "source": [
    "#makesdirs()\n",
    "#功能：递归创建文件夹\n",
    "#格式：os.makedirs(路径)\n",
    "os.makedirs('aa/bb/cc/')"
   ]
  },
  {
   "cell_type": "code",
   "execution_count": 7,
   "id": "3bd2edfa",
   "metadata": {},
   "outputs": [],
   "source": [
    "#rmdir()\n",
    "#功能：移除一个目录(必须是空目录)\n",
    "#格式：os.rmdir(目录路径)\n",
    "# os.rmdir('./aa')"
   ]
  },
  {
   "cell_type": "code",
   "execution_count": 7,
   "id": "d8b35420",
   "metadata": {},
   "outputs": [],
   "source": [
    "#removedirs()\n",
    "#功能：递归删除文件夹\n",
    "#os.removedirs(目录路径)\n",
    "#返回值：None\n",
    "os.removedirs('./aa/bb/cc/')"
   ]
  },
  {
   "cell_type": "code",
   "execution_count": 5,
   "id": "068323ec",
   "metadata": {},
   "outputs": [],
   "source": [
    "#rename()\n",
    "#功能：修改文件和文件夹的名称\n",
    "#格式：os.rename(源文件或文件夹,目标文件或文件夹)\n",
    "os.rename('./untitled.txt','aa.txt')"
   ]
  },
  {
   "cell_type": "code",
   "execution_count": 8,
   "id": "6e5bb66e",
   "metadata": {},
   "outputs": [
    {
     "data": {
      "text/plain": [
       "os.stat_result(st_mode=33206, st_ino=15762598695941647, st_dev=1080113016, st_nlink=1, st_uid=0, st_gid=0, st_size=4, st_atime=1662089715, st_mtime=1662089652, st_ctime=1662089648)"
      ]
     },
     "execution_count": 8,
     "metadata": {},
     "output_type": "execute_result"
    }
   ],
   "source": [
    "#stat()\n",
    "#功能：获取文件的相关信息\n",
    "#格式：os.stat(文件路径)\n",
    "#返回值：包含文件信息的元组\n",
    "os.stat('./aa.txt')"
   ]
  },
  {
   "cell_type": "code",
   "execution_count": 9,
   "id": "a6747133",
   "metadata": {},
   "outputs": [
    {
     "data": {
      "text/plain": [
       "0"
      ]
     },
     "execution_count": 9,
     "metadata": {},
     "output_type": "execute_result"
    }
   ],
   "source": [
    "#system()\n",
    "#功能：执行系统命令\n",
    "#格式：os.system()\n",
    "#返回值：整型\n",
    "os.system('ipconfig')"
   ]
  },
  {
   "cell_type": "code",
   "execution_count": 10,
   "id": "f87350d7",
   "metadata": {},
   "outputs": [
    {
     "data": {
      "text/plain": [
       "'.'"
      ]
     },
     "execution_count": 10,
     "metadata": {},
     "output_type": "execute_result"
    }
   ],
   "source": [
    "#os 模块的值\n",
    "#获取当前的相对路径  .\n",
    "os.curdir"
   ]
  },
  {
   "cell_type": "code",
   "execution_count": 11,
   "id": "0f03363b",
   "metadata": {},
   "outputs": [
    {
     "data": {
      "text/plain": [
       "'..'"
      ]
     },
     "execution_count": 11,
     "metadata": {},
     "output_type": "execute_result"
    }
   ],
   "source": [
    "#获取上一层的相对路径  ..\n",
    "os.pardir"
   ]
  },
  {
   "cell_type": "code",
   "execution_count": 12,
   "id": "d9979dcc",
   "metadata": {},
   "outputs": [
    {
     "data": {
      "text/plain": [
       "<module 'ntpath' from 'D:\\\\anaconda\\\\lib\\\\ntpath.py'>"
      ]
     },
     "execution_count": 12,
     "metadata": {},
     "output_type": "execute_result"
    }
   ],
   "source": [
    "#os.path\n",
    "#功能\n",
    "os.path"
   ]
  },
  {
   "cell_type": "code",
   "execution_count": 14,
   "id": "10a8c775",
   "metadata": {},
   "outputs": [
    {
     "data": {
      "text/plain": [
       "'nt'"
      ]
     },
     "execution_count": 14,
     "metadata": {},
     "output_type": "execute_result"
    }
   ],
   "source": [
    "#功能：检测当前系统内核\n",
    "os.name "
   ]
  },
  {
   "cell_type": "code",
   "execution_count": 15,
   "id": "5ff03201",
   "metadata": {},
   "outputs": [
    {
     "data": {
      "text/plain": [
       "'\\\\'"
      ]
     },
     "execution_count": 15,
     "metadata": {},
     "output_type": "execute_result"
    }
   ],
   "source": [
    "#功能：获取当前系统路径的分隔符   \n",
    "os.sep"
   ]
  },
  {
   "cell_type": "code",
   "execution_count": 16,
   "id": "a4310ea1",
   "metadata": {},
   "outputs": [
    {
     "data": {
      "text/plain": [
       "'.'"
      ]
     },
     "execution_count": 16,
     "metadata": {},
     "output_type": "execute_result"
    }
   ],
   "source": [
    "#功能：文件名与后缀之间的符号\n",
    "os.extsep"
   ]
  },
  {
   "cell_type": "code",
   "execution_count": 17,
   "id": "5e58946a",
   "metadata": {},
   "outputs": [
    {
     "data": {
      "text/plain": [
       "'\\r\\n'"
      ]
     },
     "execution_count": 17,
     "metadata": {},
     "output_type": "execute_result"
    }
   ],
   "source": [
    "#换行符\n",
    "os.linesep"
   ]
  },
  {
   "cell_type": "code",
   "execution_count": null,
   "id": "0fb23509",
   "metadata": {},
   "outputs": [],
   "source": []
  }
 ],
 "metadata": {
  "kernelspec": {
   "display_name": "Python 3 (ipykernel)",
   "language": "python",
   "name": "python3"
  },
  "language_info": {
   "codemirror_mode": {
    "name": "ipython",
    "version": 3
   },
   "file_extension": ".py",
   "mimetype": "text/x-python",
   "name": "python",
   "nbconvert_exporter": "python",
   "pygments_lexer": "ipython3",
   "version": "3.9.12"
  }
 },
 "nbformat": 4,
 "nbformat_minor": 5
}
