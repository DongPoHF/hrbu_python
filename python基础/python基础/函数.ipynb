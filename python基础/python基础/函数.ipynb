{
 "cells": [
  {
   "cell_type": "code",
   "execution_count": 8,
   "id": "82af0134",
   "metadata": {},
   "outputs": [],
   "source": [
    "#计算圆\n",
    "def area(r):\n",
    "    res=3.14*r*r\n",
    "    print(res)"
   ]
  },
  {
   "cell_type": "code",
   "execution_count": 9,
   "id": "c003e576",
   "metadata": {},
   "outputs": [
    {
     "name": "stdout",
     "output_type": "stream",
     "text": [
      "12.56\n"
     ]
    }
   ],
   "source": [
    "area(2)"
   ]
  },
  {
   "cell_type": "code",
   "execution_count": 10,
   "id": "c5fc922e",
   "metadata": {},
   "outputs": [],
   "source": [
    "#非关键字和关键字参数收集\n",
    "def funtion(i,v,h,**args):\n",
    "    print(i,v,h)\n",
    "    print(args)"
   ]
  },
  {
   "cell_type": "code",
   "execution_count": 11,
   "id": "18a53450",
   "metadata": {},
   "outputs": [
    {
     "name": "stdout",
     "output_type": "stream",
     "text": [
      "1 2 3\n",
      "{'a': 'zzz', 'b': 'ccc'}\n"
     ]
    }
   ],
   "source": [
    "funtion(1,2,3,a='zzz',b='ccc')"
   ]
  },
  {
   "cell_type": "code",
   "execution_count": 19,
   "id": "c98da6a0",
   "metadata": {},
   "outputs": [],
   "source": [
    "#蒸馒头函数\n",
    "def hm(yl1,yl2):\n",
    "    print('加入',yl1,'和',yl2)\n",
    "    print('揉面')\n",
    "    res='面团'\n",
    "    fj(res)\n",
    "#发酵\n",
    "def fj (mt):\n",
    "    print('获取到了',mt)\n",
    "    print( '将',mt,'加入酵母')\n",
    "    print('将加入酵母的',mt,'发酵3h')\n",
    "    res='发面'\n",
    "    jm (res)\n",
    "#建馍\n",
    "def jm (fm):\n",
    "    print (fm,'的揉制并制作成馒头生坯')\n",
    "    res ='馒头生坯'\n",
    "    result (res)\n",
    "#馒头的结果\n",
    "def result (sp):\n",
    "    print('获取到了',sp)\n",
    "    print('蒸制成型')"
   ]
  },
  {
   "cell_type": "code",
   "execution_count": 20,
   "id": "99995a9d",
   "metadata": {
    "collapsed": true
   },
   "outputs": [
    {
     "name": "stdout",
     "output_type": "stream",
     "text": [
      "加入 面 和 水\n",
      "揉面\n",
      "获取到了 面团\n",
      "将 面团 加入酵母\n",
      "将加入酵母的 面团 发酵3h\n",
      "发面 的揉制并制作成馒头生坯\n",
      "获取到了 馒头生坯\n",
      "蒸制成型\n"
     ]
    }
   ],
   "source": [
    "hm(yl1='面',yl2='水')"
   ]
  },
  {
   "cell_type": "code",
   "execution_count": 21,
   "id": "12cc8c73",
   "metadata": {},
   "outputs": [],
   "source": [
    "#蒸馒头函数\n",
    "def hm(yl1,yl2):\n",
    "    print('加入',yl1,'和',yl2)\n",
    "    print('揉面')\n",
    "    res='面团'\n",
    "    return res\n",
    "#发酵\n",
    "def fj (mt):\n",
    "    print('获取到了',mt)\n",
    "    print( '将',mt,'加入酵母')\n",
    "    print('将加入酵母的',mt,'发酵3h')\n",
    "    res='发面'\n",
    "    return res\n",
    "#建馍\n",
    "def jm (fm):\n",
    "    print (fm,'的揉制并制作成馒头生坯')\n",
    "    res ='馒头生坯'\n",
    "    return res\n",
    "#馒头的结果\n",
    "def result (sp):\n",
    "    print('获取到了',sp)\n",
    "    print('蒸制成型')\n",
    "    return '馒头'"
   ]
  },
  {
   "cell_type": "code",
   "execution_count": 22,
   "id": "359d5f5b",
   "metadata": {
    "collapsed": true
   },
   "outputs": [
    {
     "name": "stdout",
     "output_type": "stream",
     "text": [
      "加入 面 和 水\n",
      "揉面\n",
      "获取到了 面团\n",
      "将 面团 加入酵母\n",
      "将加入酵母的 面团 发酵3h\n",
      "发面 的揉制并制作成馒头生坯\n",
      "获取到了 馒头生坯\n",
      "蒸制成型\n",
      "馒头\n"
     ]
    }
   ],
   "source": [
    "mt=hm(yl1='面',yl2='水')\n",
    "fm=fj(mt)\n",
    "models = jm(fm)\n",
    "res = result(models)\n",
    "print(res)"
   ]
  },
  {
   "cell_type": "code",
   "execution_count": null,
   "id": "46a55bf9",
   "metadata": {},
   "outputs": [],
   "source": []
  }
 ],
 "metadata": {
  "kernelspec": {
   "display_name": "Python 3 (ipykernel)",
   "language": "python",
   "name": "python3"
  },
  "language_info": {
   "codemirror_mode": {
    "name": "ipython",
    "version": 3
   },
   "file_extension": ".py",
   "mimetype": "text/x-python",
   "name": "python",
   "nbconvert_exporter": "python",
   "pygments_lexer": "ipython3",
   "version": "3.9.12"
  }
 },
 "nbformat": 4,
 "nbformat_minor": 5
}
