{
 "cells": [
  {
   "cell_type": "code",
   "execution_count": 2,
   "id": "ab567eec",
   "metadata": {},
   "outputs": [
    {
     "name": "stdout",
     "output_type": "stream",
     "text": [
      "aaaaa\n"
     ]
    }
   ],
   "source": [
    "#__str__\n",
    "# 触发时机：使用print(对象)或者str(对象)的时候触发\n",
    "#参数：默认的self\n",
    "#返回值：返回值必须是一个字符串\n",
    "class Test:\n",
    "    def __str__(self):\n",
    "        name='aaa'\n",
    "        return 'aaaaa'\n",
    "\n",
    "tt = Test()\n",
    "print(tt)"
   ]
  },
  {
   "cell_type": "code",
   "execution_count": 7,
   "id": "e7da7a1d",
   "metadata": {},
   "outputs": [
    {
     "name": "stdout",
     "output_type": "stream",
     "text": [
      "\n",
      "你好世界,\t\n",
      "'\\n你好世界,\\t'\n"
     ]
    },
    {
     "data": {
      "text/plain": [
       "'1+1'"
      ]
     },
     "execution_count": 7,
     "metadata": {},
     "output_type": "execute_result"
    }
   ],
   "source": [
    "test = '\\n你好世界,\\t'\n",
    "print(str(test))\n",
    "print(repr(test))\n",
    "\n",
    "#eval()\n",
    "#函数：将字符串当作python代码使用\n",
    "#格式：eval(字符串)\n",
    "# test = '1+1'\n",
    "# eval(test)\n",
    "#  eval(repr(test))"
   ]
  },
  {
   "cell_type": "code",
   "execution_count": 9,
   "id": "fc70473d",
   "metadata": {},
   "outputs": [
    {
     "data": {
      "text/plain": [
       "'\\taaaaa'"
      ]
     },
     "execution_count": 9,
     "metadata": {},
     "output_type": "execute_result"
    }
   ],
   "source": [
    "#__repr__\n",
    "#触发时机：在使用repr(对象)的时候触发\n",
    "#参数：self\n",
    "#返回值：必须是字符串\n",
    "class Test:\n",
    "    def __repr__(self):\n",
    "        name='aaa'\n",
    "        return '\\taaaaa'\n",
    "\n",
    "tt = Test()\n",
    "repr(tt)"
   ]
  },
  {
   "cell_type": "code",
   "execution_count": 11,
   "id": "60dc4e7e",
   "metadata": {},
   "outputs": [
    {
     "data": {
      "text/plain": [
       "False"
      ]
     },
     "execution_count": 11,
     "metadata": {},
     "output_type": "execute_result"
    }
   ],
   "source": [
    "#__bool__\n",
    "#触发时机：使用bool(对象)的时候触发\n",
    "#参数：self\n",
    "#返回值：布尔值\n",
    "#作用：视情况而定\n",
    "class Test:\n",
    "    def __bool__(self):\n",
    "        name='aaa'\n",
    "        return False\n",
    "\n",
    "tt = Test()\n",
    "bool(tt)"
   ]
  },
  {
   "cell_type": "code",
   "execution_count": null,
   "id": "1b1fb3ad",
   "metadata": {},
   "outputs": [],
   "source": []
  }
 ],
 "metadata": {
  "kernelspec": {
   "display_name": "Python 3 (ipykernel)",
   "language": "python",
   "name": "python3"
  },
  "language_info": {
   "codemirror_mode": {
    "name": "ipython",
    "version": 3
   },
   "file_extension": ".py",
   "mimetype": "text/x-python",
   "name": "python",
   "nbconvert_exporter": "python",
   "pygments_lexer": "ipython3",
   "version": "3.9.12"
  }
 },
 "nbformat": 4,
 "nbformat_minor": 5
}
