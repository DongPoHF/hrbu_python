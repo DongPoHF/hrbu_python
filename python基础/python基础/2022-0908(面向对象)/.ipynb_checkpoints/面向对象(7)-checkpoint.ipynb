{
 "cells": [
  {
   "cell_type": "code",
   "execution_count": 1,
   "id": "d43c3ec8",
   "metadata": {},
   "outputs": [],
   "source": [
    "#描述符相关的魔术方法\n",
    "#__get__()\n",
    "#触发时机：在获取指定描述符操作的成员属性值得时候出发\n",
    "#参数：1.描述符对象本身 2.描述符描述的属性所在的对象 3.描述符描述的对象的类\n",
    "#返回值：必须有返回值，不然无法获取相应的属性值\n",
    "\n",
    "\n",
    "#__set__()\n",
    "#触发时机：在设置或者添加指定操作符操作的成员属性的时候触发\n",
    "#参数：1.描述符对象本身 2.描述符描述的属性所在的对象 3.要设置的值\n",
    "#返回值：无\n",
    "\n",
    "\n",
    "#__delete__()\n",
    "#触发时机：在删除指定描述符操作的成员属性时候触发\n",
    "#参数：1.描述符对象本身 2.描述符描述的属性所在的对象\n",
    "#返回值：无\n"
   ]
  },
  {
   "cell_type": "code",
   "execution_count": 17,
   "id": "a886e61e",
   "metadata": {},
   "outputs": [
    {
     "name": "stdout",
     "output_type": "stream",
     "text": [
      "删除成功\n"
     ]
    }
   ],
   "source": [
    "# 类描述符\n",
    "class Description:\n",
    "    \n",
    "    def __init__(self):\n",
    "        #为当前对象添加成员\n",
    "        self.value = '123456789'\n",
    "    \n",
    "    #获取成员属性的描述符操作魔术方法\n",
    "    def __get__(self,obj,cls):\n",
    "        \n",
    "#         print(self)\n",
    "#         print(obj)\n",
    "#         print(cls)\n",
    "        \n",
    "        return self.value[:4]\n",
    "    \n",
    "    #描述符方法设置成员的描述符\n",
    "    def __set__(self,obj,val):\n",
    "      #  print(val)\n",
    "        val = val[:10]\n",
    "        self.value=val\n",
    "    #    print(self.value)\n",
    "    \n",
    "    \n",
    "    #描述符的删除魔术方法\n",
    "    def __delete__(self,obj):\n",
    "        # 不允许删除\n",
    "     #   print('该属性禁止删除')\n",
    "    \n",
    "        #可以删除\n",
    "        del self.value\n",
    "        print('删除成功')\n",
    "    \n",
    "#邮箱类\n",
    "class Email:\n",
    "    \n",
    "    #属性\n",
    "    username=Description()\n",
    "    password = '123456'\n",
    "    \n",
    "    #方法\n",
    "    pass\n",
    "email = Email()\n",
    "#email.username\n",
    "email.username='asddfghjklouyytdrc3456789'\n",
    "#email.username\n",
    "del email.username"
   ]
  },
  {
   "cell_type": "code",
   "execution_count": null,
   "id": "4567b158",
   "metadata": {},
   "outputs": [],
   "source": []
  }
 ],
 "metadata": {
  "kernelspec": {
   "display_name": "Python 3 (ipykernel)",
   "language": "python",
   "name": "python3"
  },
  "language_info": {
   "codemirror_mode": {
    "name": "ipython",
    "version": 3
   },
   "file_extension": ".py",
   "mimetype": "text/x-python",
   "name": "python",
   "nbconvert_exporter": "python",
   "pygments_lexer": "ipython3",
   "version": "3.9.12"
  }
 },
 "nbformat": 4,
 "nbformat_minor": 5
}
