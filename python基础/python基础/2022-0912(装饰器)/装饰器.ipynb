{
 "cells": [
  {
   "cell_type": "code",
   "execution_count": 1,
   "id": "a05bc65e",
   "metadata": {},
   "outputs": [],
   "source": [
    "#装饰器\n",
    "#装饰器就是对函数或者方法或者类的修饰"
   ]
  },
  {
   "cell_type": "code",
   "execution_count": 2,
   "id": "e7120934",
   "metadata": {},
   "outputs": [],
   "source": [
    "#第一步：创建一普通函数\n",
    "def info():\n",
    "    print('大家好我是张三')"
   ]
  },
  {
   "cell_type": "code",
   "execution_count": 6,
   "id": "b573faae",
   "metadata": {},
   "outputs": [
    {
     "name": "stdout",
     "output_type": "stream",
     "text": [
      "有请这位同学来做自我介绍\n",
      "大家好我是张三\n",
      "感谢这位同学的介绍请坐\n"
     ]
    },
    {
     "ename": "TypeError",
     "evalue": "'NoneType' object is not callable",
     "output_type": "error",
     "traceback": [
      "\u001b[1;31m---------------------------------------------------------------------------\u001b[0m",
      "\u001b[1;31mTypeError\u001b[0m                                 Traceback (most recent call last)",
      "Input \u001b[1;32mIn [6]\u001b[0m, in \u001b[0;36m<cell line: 11>\u001b[1;34m()\u001b[0m\n\u001b[0;32m      8\u001b[0m     \u001b[38;5;28mprint\u001b[39m(\u001b[38;5;124m'\u001b[39m\u001b[38;5;124m大家好我是张三\u001b[39m\u001b[38;5;124m'\u001b[39m)\n\u001b[0;32m     10\u001b[0m info\u001b[38;5;241m=\u001b[39mdecor(info)\n\u001b[1;32m---> 11\u001b[0m \u001b[43minfo\u001b[49m\u001b[43m(\u001b[49m\u001b[43m)\u001b[49m\n",
      "\u001b[1;31mTypeError\u001b[0m: 'NoneType' object is not callable"
     ]
    }
   ],
   "source": [
    "# 第二步：扩展函数的功能(不是装饰器)\n",
    "# 声明一个扩展函数\n",
    "def decor(func):\n",
    "    print('有请这位同学来做自我介绍')\n",
    "    func() #相当于调用了info函数\n",
    "    print('感谢这位同学的介绍请坐')\n",
    "def info():\n",
    "    print('大家好我是张三')\n",
    "\n",
    "info=decor(info)\n",
    "info()"
   ]
  },
  {
   "cell_type": "code",
   "execution_count": 5,
   "id": "d3443b87",
   "metadata": {},
   "outputs": [
    {
     "name": "stdout",
     "output_type": "stream",
     "text": [
      "有请这位同学来做自我介绍\n",
      "大家好我是张三\n",
      "感谢这位同学的介绍请坐\n"
     ]
    },
    {
     "ename": "TypeError",
     "evalue": "'NoneType' object is not callable",
     "output_type": "error",
     "traceback": [
      "\u001b[1;31m---------------------------------------------------------------------------\u001b[0m",
      "\u001b[1;31mTypeError\u001b[0m                                 Traceback (most recent call last)",
      "Input \u001b[1;32mIn [5]\u001b[0m, in \u001b[0;36m<cell line: 12>\u001b[1;34m()\u001b[0m\n\u001b[0;32m      8\u001b[0m \u001b[38;5;129m@decor\u001b[39m\n\u001b[0;32m      9\u001b[0m \u001b[38;5;28;01mdef\u001b[39;00m \u001b[38;5;21minfo\u001b[39m():\n\u001b[0;32m     10\u001b[0m     \u001b[38;5;28mprint\u001b[39m(\u001b[38;5;124m'\u001b[39m\u001b[38;5;124m大家好我是张三\u001b[39m\u001b[38;5;124m'\u001b[39m)\n\u001b[1;32m---> 12\u001b[0m \u001b[43minfo\u001b[49m\u001b[43m(\u001b[49m\u001b[43m)\u001b[49m\n",
      "\u001b[1;31mTypeError\u001b[0m: 'NoneType' object is not callable"
     ]
    }
   ],
   "source": [
    "# 第三步：扩展函数的功能(不是装饰器)，使用语法糖\n",
    "def decor(func):\n",
    "    print('有请这位同学来做自我介绍')\n",
    "    func() #相当于调用了info函数\n",
    "    print('感谢这位同学的介绍请坐')\n",
    "        \n",
    "@decor\n",
    "def info():\n",
    "    print('大家好我是张三')\n",
    "\n",
    "info()"
   ]
  },
  {
   "cell_type": "code",
   "execution_count": 9,
   "id": "2b2cd8dc",
   "metadata": {},
   "outputs": [
    {
     "name": "stdout",
     "output_type": "stream",
     "text": [
      "有请这位同学来做自我介绍\n",
      "大家好我是张三\n",
      "感谢这位同学的介绍请坐\n"
     ]
    }
   ],
   "source": [
    "# 第四步：实现基本的装饰器\n",
    "def decor(func):   #函数名随便写   #外部函数传递\n",
    "    #声明一个内部函数类制作完整的装饰函数\n",
    "    def _decor():\n",
    "        print('有请这位同学来做自我介绍')\n",
    "        func() #相当于调用了info函数\n",
    "        print('感谢这位同学的介绍请坐')\n",
    "    return _decor  \n",
    "        \n",
    "@decor #info = decor(info)        \n",
    "def info():      #被装饰的   \n",
    "    print('大家好我是张三')\n",
    "\n",
    "info()"
   ]
  },
  {
   "cell_type": "code",
   "execution_count": 19,
   "id": "48df78b9",
   "metadata": {},
   "outputs": [
    {
     "name": "stdout",
     "output_type": "stream",
     "text": [
      "有请这位同学来做自我介绍\n",
      "大家好我是张三,我今年21了\n",
      "感谢这位同学的介绍请坐\n",
      "返回值如下：\n",
      "很开心和大家一起学习！！！\n"
     ]
    }
   ],
   "source": [
    "# 第五步：实现带有参数和返回值的装饰器\n",
    "def decor(func): #外部 被装饰的函数        \n",
    "    def _decor(name,age):     #调用函数并且接受被装饰的返回值\n",
    "        print('有请这位同学来做自我介绍')\n",
    "        result = func(name,age) #相当于调用了info函数\n",
    "        print('感谢这位同学的介绍请坐')\n",
    "        return result\n",
    "    return _decor  \n",
    "        \n",
    "@decor #info = decor(info)        \n",
    "def info(name,age):      #被装饰的   \n",
    "    print('大家好我是{},我今年{}了'.format(name,age))\n",
    "    return '很开心和大家一起学习！！！'\n",
    "\n",
    "res=info('张三',21)\n",
    "print('返回值如下：')\n",
    "print(res)"
   ]
  },
  {
   "cell_type": "code",
   "execution_count": 26,
   "id": "cf02c69a",
   "metadata": {},
   "outputs": [
    {
     "name": "stdout",
     "output_type": "stream",
     "text": [
      "有请这位同学来做自我介绍\n",
      "接下来自我介绍的人有: ('zs', 'ls', 'ww', 'zl')\n",
      "他们的年龄分别是: {'zs': 20, 'ls': 22, 'ww': 22, 'zl': 20}\n",
      "感谢这位同学的介绍请坐\n"
     ]
    },
    {
     "data": {
      "text/plain": [
       "'很开心和大家一起学习！！！'"
      ]
     },
     "execution_count": 26,
     "metadata": {},
     "output_type": "execute_result"
    }
   ],
   "source": [
    "# 第六步：收集参数装饰器(给装饰器内部的函数加参数)\n",
    "def decor(func): #外部 被装饰的函数        \n",
    "    def _decor(*name,**age):     #调用函数并且接受被装饰的返回值\n",
    "        print('有请这位同学来做自我介绍')\n",
    "        result = func(name,age) #相当于调用了info函数\n",
    "        print('感谢这位同学的介绍请坐')\n",
    "        return result\n",
    "    return _decor  \n",
    "        \n",
    "@decor #info = decor(info)        \n",
    "def info(name,age):      #被装饰的   \n",
    "    print('接下来自我介绍的人有:',name)\n",
    "    print('他们的年龄分别是:',age)\n",
    "    return '很开心和大家一起学习！！！'\n",
    "\n",
    "info('zs','ls','ww','zl',zs=20,ls=22,ww=22,zl=20)"
   ]
  },
  {
   "cell_type": "code",
   "execution_count": 30,
   "id": "1b472d62",
   "metadata": {},
   "outputs": [
    {
     "name": "stdout",
     "output_type": "stream",
     "text": [
      "有请这位同学做自我介绍\n",
      "我是张三\n",
      "info ok\n",
      "~~~~~~~~~~~~~~~~\n",
      "开始你的表演\n",
      "唱一首歌\n",
      "show ok\n"
     ]
    }
   ],
   "source": [
    "# 第七步：带有参数的装饰器(给装饰器传参数)\n",
    "# 定义装饰器(接收装饰器参数)\n",
    "def decor(arg): # 接收函数参数(装饰参数)   装饰器本身自己的参数\n",
    "    def _decor(func): #接收被装饰参数\n",
    "        def __decorinfo():   #装饰器本身\n",
    "            print('有请这位同学做自我介绍')\n",
    "            result = func()\n",
    "            print('info ok')\n",
    "        def __decorshow():\n",
    "            print('开始你的表演')\n",
    "            result=func()\n",
    "            print('show ok')\n",
    "        \n",
    "        if arg == 'info':\n",
    "            return __decorinfo\n",
    "        elif arg == 'show':\n",
    "            return __decorshow\n",
    "    return _decor\n",
    "\n",
    "#普通函数\n",
    "@decor('info')\n",
    "def info():\n",
    "    print('我是张三')\n",
    "    return 'info'\n",
    "@decor('show')    \n",
    "def show():\n",
    "    print('唱一首歌')\n",
    "    return 'show'\n",
    "\n",
    "info()\n",
    "print('~~~~~~~~~~~~~~~~')\n",
    "show()"
   ]
  },
  {
   "cell_type": "code",
   "execution_count": 4,
   "id": "838c84bd",
   "metadata": {},
   "outputs": [
    {
     "name": "stdout",
     "output_type": "stream",
     "text": [
      "更先进的复习策略与做题方法\n",
      "答题\n",
      "更科学的报考策略\n"
     ]
    },
    {
     "data": {
      "text/plain": [
       "'获得高考成绩'"
      ]
     },
     "execution_count": 4,
     "metadata": {},
     "output_type": "execute_result"
    }
   ],
   "source": [
    "# 第八步：将类作为装饰器参数传入\n",
    "class Test:\n",
    "    #绑定类方法\n",
    "    def before():\n",
    "        print('更先进的复习策略与做题方法')\n",
    "        \n",
    "    def after():\n",
    "        print('更科学的报考策略')\n",
    "\n",
    "# 装饰器\n",
    "def decor(cls):  #接收装饰器类\n",
    "    def _decor(func):   # 接受被绑定的函数(普通函数)\n",
    "        def __decor():    \n",
    "            cls.before()   #类绑定调用成员方法\n",
    "            result = func()  # 调用 普通函数\n",
    "            cls.after()     #类绑定调用成员方法\n",
    "            return result   # 返回普通函数的返回值\n",
    "        return __decor\n",
    "    return _decor\n",
    "            \n",
    "            \n",
    "# 普通\n",
    "@decor(Test)\n",
    "def gk():\n",
    "    print('答题')\n",
    "    return '获得高考成绩'\n",
    "\n",
    "gk()\n",
    "    "
   ]
  },
  {
   "cell_type": "code",
   "execution_count": 10,
   "id": "b35505a8",
   "metadata": {},
   "outputs": [
    {
     "name": "stdout",
     "output_type": "stream",
     "text": [
      "5\n",
      "有请这位同学做自我介绍\n",
      "我叫张三\n",
      "介绍完毕，回到座位\n"
     ]
    }
   ],
   "source": [
    "# 第九步：将类作为装饰器使用\n",
    "class Decor:\n",
    "    def __init__(self,arg):\n",
    "        print(arg)\n",
    "    def __call__(self,func):\n",
    "        self.func= func\n",
    "        return self.myinfo\n",
    "    #装饰函数\n",
    "    def myinfo(self):\n",
    "        print('有请这位同学做自我介绍')\n",
    "        # 调用原方法\n",
    "        result = self.func()\n",
    "        print('介绍完毕，回到座位')\n",
    "#        return result\n",
    "    \n",
    "@Decor(5)   # info = Decor(info)  info()\n",
    "def info():\n",
    "    print('我叫张三')\n",
    "    return 'okokok'\n",
    "info()"
   ]
  },
  {
   "cell_type": "code",
   "execution_count": 12,
   "id": "5b709a81",
   "metadata": {},
   "outputs": [
    {
     "name": "stdout",
     "output_type": "stream",
     "text": [
      "装饰器1\n",
      "装饰器2\n",
      "im zs\n",
      "装饰器2结束\n",
      "装饰器1结束\n"
     ]
    }
   ],
   "source": [
    "# 第十步：多个装饰器的嵌套\n",
    "#装饰器1\n",
    "def decor1(func):\n",
    "    def _decor1():\n",
    "        print ('装饰器1')\n",
    "        func()\n",
    "        print ('装饰器1结束')\n",
    "    return _decor1\n",
    "def decor2(func):\n",
    "    def _decor2():\n",
    "        print('装饰器2')\n",
    "        func()\n",
    "        print('装饰器2结束')\n",
    "    return _decor2\n",
    "# 普通函数\n",
    "@decor1  #顺序\n",
    "@decor2\n",
    "def info():\n",
    "    print('im zs')\n",
    "info()"
   ]
  },
  {
   "cell_type": "code",
   "execution_count": null,
   "id": "f3a6b724",
   "metadata": {},
   "outputs": [],
   "source": []
  }
 ],
 "metadata": {
  "kernelspec": {
   "display_name": "Python 3 (ipykernel)",
   "language": "python",
   "name": "python3"
  },
  "language_info": {
   "codemirror_mode": {
    "name": "ipython",
    "version": 3
   },
   "file_extension": ".py",
   "mimetype": "text/x-python",
   "name": "python",
   "nbconvert_exporter": "python",
   "pygments_lexer": "ipython3",
   "version": "3.9.12"
  }
 },
 "nbformat": 4,
 "nbformat_minor": 5
}
