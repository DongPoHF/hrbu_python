{
 "cells": [
  {
   "cell_type": "code",
   "execution_count": 2,
   "id": "206d7bd5",
   "metadata": {},
   "outputs": [],
   "source": [
    "import jieba"
   ]
  },
  {
   "cell_type": "code",
   "execution_count": 2,
   "id": "1120010f",
   "metadata": {},
   "outputs": [
    {
     "name": "stderr",
     "output_type": "stream",
     "text": [
      "Building prefix dict from the default dictionary ...\n",
      "Dumping model to file cache C:\\Users\\xiaoying\\AppData\\Local\\Temp\\jieba.cache\n",
      "Loading model cost 1.129 seconds.\n",
      "Prefix dict has been built successfully.\n"
     ]
    },
    {
     "data": {
      "text/plain": [
       "['视频',\n",
       " '的',\n",
       " '开头',\n",
       " '，',\n",
       " '李小璐',\n",
       " '和',\n",
       " '工作人员',\n",
       " '坐在',\n",
       " '去往',\n",
       " '山区',\n",
       " '的',\n",
       " '车上',\n",
       " '，',\n",
       " '从',\n",
       " '镜头',\n",
       " '的',\n",
       " '抖动',\n",
       " '可以',\n",
       " '感受',\n",
       " '到',\n",
       " '山路',\n",
       " '的',\n",
       " '蜿蜒',\n",
       " '。']"
      ]
     },
     "execution_count": 2,
     "metadata": {},
     "output_type": "execute_result"
    }
   ],
   "source": [
    "test_txt='视频的开头，李小璐和工作人员坐在去往山区的车上，从镜头的抖动可以感受到山路的蜿蜒。'\n",
    "words = jieba.cut(test_txt)\n",
    "words_list = list(words)\n",
    "words_list"
   ]
  },
  {
   "cell_type": "markdown",
   "id": "8377dafe",
   "metadata": {},
   "source": [
    "### 练习题 \n",
    "### 要求1：根据语料统计各个词出现的频率\n",
    "### 要求2：统计TOP10的词频\n",
    "### 要求3：根据停用词表除去停用词（的，地，是，也许，但是....）\n",
    "### 要求4：将结果保存至txt文件内\n",
    "最终结果为：10个\n",
    "续航：10\n",
    "点亮：8\n"
   ]
  },
  {
   "cell_type": "code",
   "execution_count": 7,
   "id": "736f1f0d",
   "metadata": {},
   "outputs": [
    {
     "name": "stdout",
     "output_type": "stream",
     "text": [
      "好吃:819\n",
      "不错:711\n",
      "服务:606\n",
      "环境:595\n",
      "非常:518\n",
      "牛排:512\n",
      "菜品:496\n",
      "味道:463\n",
      "将军:370\n",
      "特别:357\n"
     ]
    }
   ],
   "source": [
    "import jieba\n",
    "fp = open('./评论数据.txt','r',encoding='utf-8')\n",
    "fp1 = open('./词频TOP10.txt','w',encoding='utf-8')\n",
    "fp2= open('./cn_stopwords.txt','r',encoding='utf-8')\n",
    "text_list1=fp.read()\n",
    "# print(text_list1)\n",
    "words = jieba.cut(text_list1)\n",
    "words_list1 = list(words)\n",
    "#words_list1\n",
    "stopwords=fp2.read()\n",
    "dict = {} #字典\n",
    "for word in words_list1:\n",
    "    if word not in stopwords:  #不在停用词中\n",
    "        if len(word) == 1:\n",
    "            continue\n",
    "        else:\n",
    "            dict[word] = dict.get(word, 0) + 1  #get函数查询键的值，0代表默认值,每出现一次加1\n",
    "#print(dict)\n",
    "#列表\n",
    "items = list(dict.items())\n",
    "#items\n",
    "items.sort(key=lambda x: x[1], reverse=True)\n",
    "for i in items [:10]:\n",
    "    res=i[0]+':'+str(i[1])\n",
    "    fp1.write(res+'\\n')\n",
    "    print(res)\n",
    "fp1.close()\n",
    "# for i in range(10):\n",
    "#     word, count = items[i]\n",
    "#     print(\"{}:{}\".format(word, count))\n",
    "      "
   ]
  },
  {
   "cell_type": "code",
   "execution_count": null,
   "id": "7db34a2c",
   "metadata": {},
   "outputs": [],
   "source": []
  },
  {
   "cell_type": "code",
   "execution_count": null,
   "id": "abc70c77",
   "metadata": {},
   "outputs": [],
   "source": []
  }
 ],
 "metadata": {
  "kernelspec": {
   "display_name": "Python 3 (ipykernel)",
   "language": "python",
   "name": "python3"
  },
  "language_info": {
   "codemirror_mode": {
    "name": "ipython",
    "version": 3
   },
   "file_extension": ".py",
   "mimetype": "text/x-python",
   "name": "python",
   "nbconvert_exporter": "python",
   "pygments_lexer": "ipython3",
   "version": "3.9.12"
  }
 },
 "nbformat": 4,
 "nbformat_minor": 5
}
