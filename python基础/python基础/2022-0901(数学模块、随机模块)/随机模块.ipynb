{
 "cells": [
  {
   "cell_type": "code",
   "execution_count": 2,
   "id": "807c99eb",
   "metadata": {},
   "outputs": [],
   "source": [
    "import random"
   ]
  },
  {
   "cell_type": "code",
   "execution_count": 3,
   "id": "302ae2c6",
   "metadata": {},
   "outputs": [
    {
     "data": {
      "text/plain": [
       "0.6527459344462987"
      ]
     },
     "execution_count": 3,
     "metadata": {},
     "output_type": "execute_result"
    }
   ],
   "source": [
    "#random()\n",
    "#获取0~1之间的随机小数包含0不包含1\n",
    "random.random()"
   ]
  },
  {
   "cell_type": "code",
   "execution_count": 5,
   "id": "cdd3d491",
   "metadata": {},
   "outputs": [
    {
     "data": {
      "text/plain": [
       "'王五'"
      ]
     },
     "execution_count": 5,
     "metadata": {},
     "output_type": "execute_result"
    }
   ],
   "source": [
    "#choice()\n",
    "#随机的获取列表中的值\n",
    "names=['张三','李四','王五']\n",
    "random.choice(names)"
   ]
  },
  {
   "cell_type": "code",
   "execution_count": 5,
   "id": "91e0e88b",
   "metadata": {},
   "outputs": [
    {
     "name": "stdout",
     "output_type": "stream",
     "text": [
      "['wangwu', '李四', '张三']\n"
     ]
    }
   ],
   "source": [
    "#shuffle()\n",
    "#随机打乱序列\n",
    "names=['张三','李四','wangwu']\n",
    "random.shuffle(names)\n",
    "print(names)"
   ]
  },
  {
   "cell_type": "code",
   "execution_count": null,
   "id": "5e00075e",
   "metadata": {},
   "outputs": [],
   "source": []
  }
 ],
 "metadata": {
  "kernelspec": {
   "display_name": "Python 3 (ipykernel)",
   "language": "python",
   "name": "python3"
  },
  "language_info": {
   "codemirror_mode": {
    "name": "ipython",
    "version": 3
   },
   "file_extension": ".py",
   "mimetype": "text/x-python",
   "name": "python",
   "nbconvert_exporter": "python",
   "pygments_lexer": "ipython3",
   "version": "3.9.12"
  }
 },
 "nbformat": 4,
 "nbformat_minor": 5
}
