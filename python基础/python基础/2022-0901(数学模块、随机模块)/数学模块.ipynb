{
 "cells": [
  {
   "cell_type": "code",
   "execution_count": 1,
   "id": "1a7a4158",
   "metadata": {},
   "outputs": [],
   "source": [
    "import math\n",
    "#from math import ceil\n",
    "#import pandas as pd  别名\n",
    "#import numpy as np"
   ]
  },
  {
   "cell_type": "code",
   "execution_count": 4,
   "id": "3aa6a293",
   "metadata": {},
   "outputs": [
    {
     "data": {
      "text/plain": [
       "5"
      ]
     },
     "execution_count": 4,
     "metadata": {},
     "output_type": "execute_result"
    }
   ],
   "source": [
    "# ceil()\n",
    "# 功能：向上取整\n",
    "math.ceil(4.00001)   #浮点型 有数 就向上一位"
   ]
  },
  {
   "cell_type": "code",
   "execution_count": 5,
   "id": "044439e9",
   "metadata": {},
   "outputs": [
    {
     "data": {
      "text/plain": [
       "11"
      ]
     },
     "execution_count": 5,
     "metadata": {},
     "output_type": "execute_result"
    }
   ],
   "source": [
    "#floor()\n",
    "#功能：向下取整\n",
    "math.floor(11.9999)  #取整数部分"
   ]
  },
  {
   "cell_type": "code",
   "execution_count": 10,
   "id": "824651b6",
   "metadata": {},
   "outputs": [
    {
     "data": {
      "text/plain": [
       "11"
      ]
     },
     "execution_count": 10,
     "metadata": {},
     "output_type": "execute_result"
    }
   ],
   "source": [
    "#round()\n",
    "#功能：四舍五入\n",
    "round(10.9)"
   ]
  },
  {
   "cell_type": "code",
   "execution_count": 11,
   "id": "4efb8148",
   "metadata": {},
   "outputs": [
    {
     "data": {
      "text/plain": [
       "8.0"
      ]
     },
     "execution_count": 11,
     "metadata": {},
     "output_type": "execute_result"
    }
   ],
   "source": [
    "#幂运算\n",
    "#计算一个数值的N次方(返回的是浮点型)\n",
    "math.pow(2,3)"
   ]
  },
  {
   "cell_type": "code",
   "execution_count": 12,
   "id": "fa68411e",
   "metadata": {},
   "outputs": [
    {
     "data": {
      "text/plain": [
       "2.0"
      ]
     },
     "execution_count": 12,
     "metadata": {},
     "output_type": "execute_result"
    }
   ],
   "source": [
    "#开平方\n",
    "math.sqrt(4)"
   ]
  },
  {
   "cell_type": "code",
   "execution_count": 17,
   "id": "930a8e64",
   "metadata": {},
   "outputs": [
    {
     "data": {
      "text/plain": [
       "99.0"
      ]
     },
     "execution_count": 17,
     "metadata": {},
     "output_type": "execute_result"
    }
   ],
   "source": [
    "#绝对值运算\n",
    "math.fabs(-0.99)\n",
    "math.fabs(99)\n",
    "abs(-99.0)  #输入参数决定"
   ]
  },
  {
   "cell_type": "code",
   "execution_count": 18,
   "id": "b7c7a701",
   "metadata": {},
   "outputs": [
    {
     "data": {
      "text/plain": [
       "(0.0, 100.0)"
      ]
     },
     "execution_count": 18,
     "metadata": {},
     "output_type": "execute_result"
    }
   ],
   "source": [
    "#modf()\n",
    "#将一个浮点数拆成整数和小数部分组成的元组\n",
    "math.modf(100)"
   ]
  },
  {
   "cell_type": "code",
   "execution_count": 20,
   "id": "6e34e689",
   "metadata": {},
   "outputs": [
    {
     "data": {
      "text/plain": [
       "78.0"
      ]
     },
     "execution_count": 20,
     "metadata": {},
     "output_type": "execute_result"
    }
   ],
   "source": [
    "#将一个序列的数值进行相加求和\n",
    "lists=[1,2,3,4,5,6,7,8,9,10,11,12]\n",
    "#sum(lists)\n",
    "math.fsum(lists)"
   ]
  },
  {
   "cell_type": "code",
   "execution_count": 22,
   "id": "e9676353",
   "metadata": {},
   "outputs": [
    {
     "data": {
      "text/plain": [
       "2.718281828459045"
      ]
     },
     "execution_count": 22,
     "metadata": {},
     "output_type": "execute_result"
    }
   ],
   "source": [
    "# 常见的变量\n",
    "math.pi\n",
    "math.e"
   ]
  },
  {
   "cell_type": "code",
   "execution_count": null,
   "id": "85a2487d",
   "metadata": {},
   "outputs": [],
   "source": []
  }
 ],
 "metadata": {
  "kernelspec": {
   "display_name": "Python 3 (ipykernel)",
   "language": "python",
   "name": "python3"
  },
  "language_info": {
   "codemirror_mode": {
    "name": "ipython",
    "version": 3
   },
   "file_extension": ".py",
   "mimetype": "text/x-python",
   "name": "python",
   "nbconvert_exporter": "python",
   "pygments_lexer": "ipython3",
   "version": "3.9.12"
  }
 },
 "nbformat": 4,
 "nbformat_minor": 5
}
