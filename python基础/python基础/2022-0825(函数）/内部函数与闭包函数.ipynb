{
 "cells": [
  {
   "cell_type": "code",
   "execution_count": 4,
   "id": "558d92af",
   "metadata": {},
   "outputs": [
    {
     "name": "stdout",
     "output_type": "stream",
     "text": [
      "im innner\n"
     ]
    }
   ],
   "source": [
    "def outer():\n",
    "    name='aaaa'\n",
    "    def inner():\n",
    "        print('im innner')\n",
    "    return name,inner\n",
    "\n",
    "res=outer()\n",
    "res[1]()"
   ]
  },
  {
   "cell_type": "code",
   "execution_count": 17,
   "id": "59172994",
   "metadata": {},
   "outputs": [],
   "source": [
    "def outer():\n",
    "    name='aaaa'\n",
    "    def inner():\n",
    "        print('im innner')\n",
    "    def all():\n",
    "         return name,inner"
   ]
  },
  {
   "cell_type": "code",
   "execution_count": 12,
   "id": "850dda64",
   "metadata": {},
   "outputs": [
    {
     "name": "stdout",
     "output_type": "stream",
     "text": [
      "14\n"
     ]
    }
   ],
   "source": [
    "#nonlocal 既不是局部变量 也不是全局变量，通常用于内部函数中使用外部函数的局部变量\n",
    "def outer():\n",
    "    x=5\n",
    "    def inner():\n",
    "        nonlocal x\n",
    "        x +=9\n",
    "        print(x)\n",
    "    return inner\n",
    "\n",
    "res= outer()\n",
    "res()"
   ]
  },
  {
   "cell_type": "code",
   "execution_count": null,
   "id": "48fb20d2",
   "metadata": {},
   "outputs": [],
   "source": []
  }
 ],
 "metadata": {
  "kernelspec": {
   "display_name": "Python 3 (ipykernel)",
   "language": "python",
   "name": "python3"
  },
  "language_info": {
   "codemirror_mode": {
    "name": "ipython",
    "version": 3
   },
   "file_extension": ".py",
   "mimetype": "text/x-python",
   "name": "python",
   "nbconvert_exporter": "python",
   "pygments_lexer": "ipython3",
   "version": "3.9.12"
  }
 },
 "nbformat": 4,
 "nbformat_minor": 5
}
