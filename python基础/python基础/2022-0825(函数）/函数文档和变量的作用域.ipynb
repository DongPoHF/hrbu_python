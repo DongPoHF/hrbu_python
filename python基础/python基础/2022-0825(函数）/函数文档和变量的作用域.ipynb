{
 "cells": [
  {
   "cell_type": "code",
   "execution_count": 1,
   "id": "0150e6e9",
   "metadata": {},
   "outputs": [],
   "source": [
    "def testName(name):\n",
    "    '''\n",
    "    这里是自我介绍文档\n",
    "    xxxxxxx\n",
    "    '''\n",
    "    print('大家好')\n",
    "    print('我的名字叫{}'.format(name))\n",
    "    return '掌声'\n"
   ]
  },
  {
   "cell_type": "code",
   "execution_count": 2,
   "id": "656ec578",
   "metadata": {
    "collapsed": true
   },
   "outputs": [
    {
     "name": "stdout",
     "output_type": "stream",
     "text": [
      "大家好\n",
      "我的名字叫张三\n"
     ]
    },
    {
     "data": {
      "text/plain": [
       "'掌声'"
      ]
     },
     "execution_count": 2,
     "metadata": {},
     "output_type": "execute_result"
    }
   ],
   "source": [
    "testName('张三')"
   ]
  },
  {
   "cell_type": "code",
   "execution_count": 3,
   "id": "e3ec261b",
   "metadata": {
    "collapsed": true
   },
   "outputs": [
    {
     "name": "stdout",
     "output_type": "stream",
     "text": [
      "Help on function testName in module __main__:\n",
      "\n",
      "testName(name)\n",
      "    这里是自我介绍文档\n",
      "\n"
     ]
    }
   ],
   "source": [
    "help(testName)"
   ]
  },
  {
   "cell_type": "code",
   "execution_count": 5,
   "id": "80682eec",
   "metadata": {},
   "outputs": [
    {
     "data": {
      "text/plain": [
       "'张安'"
      ]
     },
     "execution_count": 5,
     "metadata": {},
     "output_type": "execute_result"
    }
   ],
   "source": [
    "name='张安'\n",
    "def funcname():\n",
    "    global name\n",
    "    name='李四'\n",
    "name"
   ]
  },
  {
   "cell_type": "code",
   "execution_count": 7,
   "id": "9ece931e",
   "metadata": {},
   "outputs": [],
   "source": []
  }
 ],
 "metadata": {
  "kernelspec": {
   "display_name": "Python 3 (ipykernel)",
   "language": "python",
   "name": "python3"
  },
  "language_info": {
   "codemirror_mode": {
    "name": "ipython",
    "version": 3
   },
   "file_extension": ".py",
   "mimetype": "text/x-python",
   "name": "python",
   "nbconvert_exporter": "python",
   "pygments_lexer": "ipython3",
   "version": "3.9.12"
  }
 },
 "nbformat": 4,
 "nbformat_minor": 5
}
