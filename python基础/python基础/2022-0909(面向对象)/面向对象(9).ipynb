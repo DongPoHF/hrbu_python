{
 "cells": [
  {
   "cell_type": "code",
   "execution_count": 1,
   "id": "37c319e7",
   "metadata": {},
   "outputs": [],
   "source": [
    "#描述符\n",
    "# python中描述符是用于描述对象中的属性，主要作用就是对属性操作提供限制，验证描述符管理等相关\n",
    "# 权限操作\n",
    "#描述符的三种操作：\n",
    "# get 获取属性操作\n",
    "# set 设置属性操作\n",
    "# delete 删除属性操作"
   ]
  },
  {
   "cell_type": "code",
   "execution_count": 2,
   "id": "2855c5f1",
   "metadata": {},
   "outputs": [],
   "source": [
    "# 描述符类\n",
    "class Description:\n",
    " \n",
    "    #初始化方法\n",
    "    def __init__(self):\n",
    "        self.name = None\n",
    "    \n",
    "    #获取\n",
    "    def __get__(self,obj,cls):\n",
    "        print('获取方法触发')\n",
    "        self.name= str(self.name)\n",
    "        return self.name[:4]\n",
    "    #设置\n",
    "    def __set__(self,obj,val):\n",
    "        print('设置方法被触发')\n",
    "        self.name = val\n",
    "    \n",
    "    #删除\n",
    "    def __delete__(self,obj):\n",
    "        print('禁止删除')\n",
    "#邮箱类\n",
    "class Email:\n",
    "    \n",
    "    #用户名\n",
    "    account = 'zs@sina.com'\n",
    "    #密码\n",
    "    password = Description()"
   ]
  },
  {
   "cell_type": "code",
   "execution_count": 3,
   "id": "26cbcf6e",
   "metadata": {},
   "outputs": [
    {
     "name": "stdout",
     "output_type": "stream",
     "text": [
      "设置方法被触发\n"
     ]
    }
   ],
   "source": [
    "e = Email()\n",
    "e.password= '123456'"
   ]
  },
  {
   "cell_type": "code",
   "execution_count": 4,
   "id": "f9b589cd",
   "metadata": {},
   "outputs": [
    {
     "name": "stdout",
     "output_type": "stream",
     "text": [
      "获取方法触发\n"
     ]
    },
    {
     "data": {
      "text/plain": [
       "'1234'"
      ]
     },
     "execution_count": 4,
     "metadata": {},
     "output_type": "execute_result"
    }
   ],
   "source": [
    "e.password"
   ]
  },
  {
   "cell_type": "code",
   "execution_count": 6,
   "id": "6e5ca272",
   "metadata": {},
   "outputs": [
    {
     "name": "stdout",
     "output_type": "stream",
     "text": [
      "禁止删除\n"
     ]
    }
   ],
   "source": [
    "del e.password"
   ]
  },
  {
   "cell_type": "code",
   "execution_count": 7,
   "id": "99572b39",
   "metadata": {},
   "outputs": [],
   "source": [
    "# property()\n",
    "# 用于设置成员属性的描述符\n",
    "# 格式： 成员属性 = property(get,set,delete)"
   ]
  },
  {
   "cell_type": "code",
   "execution_count": 16,
   "id": "2ea614da",
   "metadata": {},
   "outputs": [
    {
     "name": "stdout",
     "output_type": "stream",
     "text": [
      "设置操作被触发\n"
     ]
    }
   ],
   "source": [
    "# 邮箱类\n",
    "class Email:\n",
    "    #成员属性\n",
    "    tmpusername = None\n",
    "    password = ''\n",
    "    \n",
    "    #成员方法\n",
    "    #获取\n",
    "    def getusername(self):\n",
    "        print('获取操作被触发')\n",
    "        if self.tmpusername != None:\n",
    "            self.tmpusername = self.tmpusername\n",
    "        return self.tmpusername\n",
    "    \n",
    "    #设置\n",
    "    def setusername(self,val):\n",
    "        print('设置操作被触发')\n",
    "        if isinstance(val,str):\n",
    "            val ='@@'+ val[0:6]\n",
    "        self.tmpusername = val\n",
    "        \n",
    "    #删除\n",
    "    def delusername(self):\n",
    "        print('禁止删除')\n",
    "        \n",
    "    #为username设置描述符\n",
    "    username = property(getusername,setusername,delusername)\n",
    "e = Email()\n",
    "e.username = 'asdfghjkliuytrvbngf'"
   ]
  },
  {
   "cell_type": "code",
   "execution_count": 17,
   "id": "3223b591",
   "metadata": {},
   "outputs": [
    {
     "name": "stdout",
     "output_type": "stream",
     "text": [
      "获取操作被触发\n"
     ]
    },
    {
     "data": {
      "text/plain": [
       "'@@asdfgh'"
      ]
     },
     "execution_count": 17,
     "metadata": {},
     "output_type": "execute_result"
    }
   ],
   "source": [
    "e.username"
   ]
  },
  {
   "cell_type": "code",
   "execution_count": 18,
   "id": "8f57f4ac",
   "metadata": {},
   "outputs": [
    {
     "name": "stdout",
     "output_type": "stream",
     "text": [
      "禁止删除\n"
     ]
    }
   ],
   "source": [
    "del e.username"
   ]
  },
  {
   "cell_type": "code",
   "execution_count": 19,
   "id": "8a8961e8",
   "metadata": {},
   "outputs": [
    {
     "name": "stdout",
     "output_type": "stream",
     "text": [
      "获取操作被触发\n"
     ]
    },
    {
     "data": {
      "text/plain": [
       "'@@asdfgh'"
      ]
     },
     "execution_count": 19,
     "metadata": {},
     "output_type": "execute_result"
    }
   ],
   "source": [
    "e.username"
   ]
  },
  {
   "cell_type": "code",
   "execution_count": null,
   "id": "2707710c",
   "metadata": {},
   "outputs": [],
   "source": []
  }
 ],
 "metadata": {
  "kernelspec": {
   "display_name": "Python 3 (ipykernel)",
   "language": "python",
   "name": "python3"
  },
  "language_info": {
   "codemirror_mode": {
    "name": "ipython",
    "version": 3
   },
   "file_extension": ".py",
   "mimetype": "text/x-python",
   "name": "python",
   "nbconvert_exporter": "python",
   "pygments_lexer": "ipython3",
   "version": "3.9.12"
  }
 },
 "nbformat": 4,
 "nbformat_minor": 5
}
