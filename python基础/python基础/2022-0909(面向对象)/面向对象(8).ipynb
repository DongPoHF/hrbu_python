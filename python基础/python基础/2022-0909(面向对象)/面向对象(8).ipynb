{
 "cells": [
  {
   "cell_type": "code",
   "execution_count": 3,
   "id": "3753b422",
   "metadata": {},
   "outputs": [
    {
     "data": {
      "text/plain": [
       "True"
      ]
     },
     "execution_count": 3,
     "metadata": {},
     "output_type": "execute_result"
    }
   ],
   "source": [
    "#类的常用函数\n",
    "# issubclass()\n",
    "#检测一个类是否是另外一个类的子类\n",
    "# 格式：issubclass(被检测类，父类)\n",
    "# 返回值：布尔值\n",
    "\n",
    "#格式2：issubclass(被检测类,(父类1，父类3......))\n",
    "#返回值：布尔值\n",
    "#注意：只要有一个类是当前被检测类的父类那么最终结果就是True\n",
    "class F:\n",
    "    # 属性\n",
    "    name = None\n",
    "    \n",
    "    def dest(self):\n",
    "        pass\n",
    "class F2:\n",
    "    # 属性\n",
    "    name2 = None\n",
    "    \n",
    "    def dest2(self):\n",
    "        pass\n",
    "class S(F):\n",
    "    pass\n",
    "\n",
    "\n",
    "#issubclass(S,F)\n",
    "issubclass(S,(F,F2))"
   ]
  },
  {
   "cell_type": "code",
   "execution_count": 5,
   "id": "20948695",
   "metadata": {},
   "outputs": [
    {
     "data": {
      "text/plain": [
       "True"
      ]
     },
     "execution_count": 5,
     "metadata": {},
     "output_type": "execute_result"
    }
   ],
   "source": [
    "# isinstance()\n",
    "# 检测一个对象是否是某个类的对象\n",
    "#格式1:isinstance(对象,类)\n",
    "#返回值：布尔值\n",
    "class S:\n",
    "    pass\n",
    "\n",
    "s = S()\n",
    "isinstance(s,S)"
   ]
  },
  {
   "cell_type": "code",
   "execution_count": 11,
   "id": "96a9229c",
   "metadata": {},
   "outputs": [
    {
     "data": {
      "text/plain": [
       "False"
      ]
     },
     "execution_count": 11,
     "metadata": {},
     "output_type": "execute_result"
    }
   ],
   "source": [
    "#hasattr()\n",
    "#检测对象/类是否具有某个成员\n",
    "#格式：hasattr(对象/类,'成员名')\n",
    "#返回值：布尔值\n",
    "class Test:\n",
    "    #属性\n",
    "    name = 'aa'\n",
    "    #魔术方法\n",
    "    def __init__(self):\n",
    "        #初始化变量\n",
    "        self.age= 18\n",
    "        self.work = 'stu'\n",
    "    #方法\n",
    "    def test2(self):\n",
    "        pass\n",
    "\n",
    "t = Test()\n",
    "hasattr(t,'name')\n",
    "hasattr(t,'test2')\n",
    "t.__dict__\n",
    "hasattr(t,'age')\n",
    "\n",
    "hasattr(Test,'age')"
   ]
  },
  {
   "cell_type": "code",
   "execution_count": 12,
   "id": "8dffd4e9",
   "metadata": {},
   "outputs": [
    {
     "data": {
      "text/plain": [
       "18"
      ]
     },
     "execution_count": 12,
     "metadata": {},
     "output_type": "execute_result"
    }
   ],
   "source": [
    "# getattr()\n",
    "# 获取对象/类具有某个成员值\n",
    "class Test:\n",
    "    #属性\n",
    "    name = 'aa'\n",
    "    #魔术方法\n",
    "    def __init__(self):\n",
    "        #初始化变量\n",
    "        self.age= 18\n",
    "        self.work = 'stu'\n",
    "    #方法\n",
    "    def test2(self):\n",
    "        pass\n",
    "t = Test()\n",
    "getattr(t,'age')"
   ]
  },
  {
   "cell_type": "code",
   "execution_count": 13,
   "id": "fdc4679d",
   "metadata": {},
   "outputs": [
    {
     "data": {
      "text/plain": [
       "'boy'"
      ]
     },
     "execution_count": 13,
     "metadata": {},
     "output_type": "execute_result"
    }
   ],
   "source": [
    "# setattr()\n",
    "#设置或添加对象/类中的成员\n",
    "#格式：setattr(对象，'成员','值')\n",
    "\n",
    "class Test:\n",
    "    #属性\n",
    "    name = 'aa'\n",
    "    #魔术方法\n",
    "    def __init__(self):\n",
    "        #初始化变量\n",
    "        self.age= 18\n",
    "        self.work = 'stu'\n",
    "    #方法\n",
    "    def test2(self):\n",
    "        pass\n",
    "t = Test()\n",
    "setattr(t,'sex','boy')\n",
    "t.sex"
   ]
  },
  {
   "cell_type": "code",
   "execution_count": 14,
   "id": "fe7fd8f7",
   "metadata": {
    "collapsed": true
   },
   "outputs": [
    {
     "data": {
      "text/plain": [
       "['__class__',\n",
       " '__delattr__',\n",
       " '__dict__',\n",
       " '__dir__',\n",
       " '__doc__',\n",
       " '__eq__',\n",
       " '__format__',\n",
       " '__ge__',\n",
       " '__getattribute__',\n",
       " '__gt__',\n",
       " '__hash__',\n",
       " '__init__',\n",
       " '__init_subclass__',\n",
       " '__le__',\n",
       " '__lt__',\n",
       " '__module__',\n",
       " '__ne__',\n",
       " '__new__',\n",
       " '__reduce__',\n",
       " '__reduce_ex__',\n",
       " '__repr__',\n",
       " '__setattr__',\n",
       " '__sizeof__',\n",
       " '__str__',\n",
       " '__subclasshook__',\n",
       " '__weakref__',\n",
       " 'age',\n",
       " 'name',\n",
       " 'sex',\n",
       " 'test2',\n",
       " 'work']"
      ]
     },
     "execution_count": 14,
     "metadata": {},
     "output_type": "execute_result"
    }
   ],
   "source": [
    "# dir()\n",
    "# 获取对象的成员列表名称\n",
    "# 格式：dir(对象)\n",
    "#返回值:列表\n",
    "dir(t)"
   ]
  },
  {
   "cell_type": "code",
   "execution_count": null,
   "id": "b0c4d5c8",
   "metadata": {},
   "outputs": [],
   "source": [
    "# property()\n",
    "# 用于设置成员属性的修饰符\n",
    "# 格式：依托于描述符方法而存在的\n",
    "      #  成员属性 =  property(获取方法，设置方法，删除方法)"
   ]
  }
 ],
 "metadata": {
  "kernelspec": {
   "display_name": "Python 3 (ipykernel)",
   "language": "python",
   "name": "python3"
  },
  "language_info": {
   "codemirror_mode": {
    "name": "ipython",
    "version": 3
   },
   "file_extension": ".py",
   "mimetype": "text/x-python",
   "name": "python",
   "nbconvert_exporter": "python",
   "pygments_lexer": "ipython3",
   "version": "3.9.12"
  }
 },
 "nbformat": 4,
 "nbformat_minor": 5
}
