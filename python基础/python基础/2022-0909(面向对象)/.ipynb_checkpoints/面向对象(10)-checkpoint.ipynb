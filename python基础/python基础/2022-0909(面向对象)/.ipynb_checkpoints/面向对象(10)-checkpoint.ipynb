{
 "cells": [
  {
   "cell_type": "code",
   "execution_count": 7,
   "id": "ad02612a",
   "metadata": {},
   "outputs": [],
   "source": [
    "# 修饰符\n",
    "class Email:\n",
    "    \n",
    "    #用户名\n",
    "    username = ''\n",
    "    #密码\n",
    "    password = ''\n",
    "    #昵称\n",
    "    petname = 'yy'\n",
    "    #为描述符设置临时变量\n",
    "    __petname = None \n",
    "    \n",
    "    ##成员方法（暂无）\n",
    "    #描述符设置的三个部分，获取，设置，删除\n",
    "    #处理petname的获取操作\n",
    "    @property\n",
    "    def petname(self):\n",
    "        print('获取操作被触发')\n",
    "    \n",
    "    @petname.setter\n",
    "    def petname(self,val):\n",
    "        print('设置操作被触发')\n",
    "        self.__petname = val\n",
    "        \n",
    "    @petname.deleter\n",
    "    def petname(self):\n",
    "        print('删除操作被触发')"
   ]
  },
  {
   "cell_type": "code",
   "execution_count": 8,
   "id": "641f457b",
   "metadata": {},
   "outputs": [
    {
     "name": "stdout",
     "output_type": "stream",
     "text": [
      "设置操作被触发\n"
     ]
    }
   ],
   "source": [
    "e = Email()\n",
    "e.petname='hhh'"
   ]
  },
  {
   "cell_type": "code",
   "execution_count": 6,
   "id": "707933ba",
   "metadata": {},
   "outputs": [
    {
     "name": "stdout",
     "output_type": "stream",
     "text": [
      "删除操作被触发\n"
     ]
    }
   ],
   "source": [
    "del e.petname"
   ]
  },
  {
   "cell_type": "code",
   "execution_count": null,
   "id": "c0c9f6e5",
   "metadata": {},
   "outputs": [],
   "source": []
  }
 ],
 "metadata": {
  "kernelspec": {
   "display_name": "Python 3 (ipykernel)",
   "language": "python",
   "name": "python3"
  },
  "language_info": {
   "codemirror_mode": {
    "name": "ipython",
    "version": 3
   },
   "file_extension": ".py",
   "mimetype": "text/x-python",
   "name": "python",
   "nbconvert_exporter": "python",
   "pygments_lexer": "ipython3",
   "version": "3.9.12"
  }
 },
 "nbformat": 4,
 "nbformat_minor": 5
}
