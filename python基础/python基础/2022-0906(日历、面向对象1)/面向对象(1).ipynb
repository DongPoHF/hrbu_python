{
 "cells": [
  {
   "cell_type": "markdown",
   "id": "48b2b8c4",
   "metadata": {},
   "source": [
    "### 面向对象\n",
    "面向对象的学习：语法相对简单，思想较难理解<br>\n",
    "#### 面向过程和面向对象的区别\n",
    "面向过程开发--> 以函数为基本结构使用<br>\n",
    "吃饭 --->吃饭的函数  <br>\n",
    "喝水 --->喝水的函数  <br>\n",
    "####  面向对象开发，以对象为基本使用结构  机器\n",
    "吃饭 --->调用机器的喂饭功能<br>\n",
    "喝水 --->调用机器的喝水功能<br>\n",
    "总结：面向对象的开发非常适合大型程序开发，开发的速度和后期维护都比过程开发要好很多<br>\n",
    "特色：高内聚，低耦合。<br>\n",
    "#### 面向对象的相关单词\n",
    "OO    面向对象<br>\n",
    "OOP   面向对象的程序开发<br>\n",
    "OOA   面向对象分析<br>\n",
    "OOD   面向对象设计<br>\n",
    "OOI   面向对象实现<br>\n",
    "#### 类和对象\n",
    "#### 什么是类<br>\n",
    "人类就是一个类<br>\n",
    "鸟类就是一个类<br>\n",
    "总结：类是一个实物的特征集合，是抽象的概念。<br>\n",
    "#### 什么是对象\n",
    "张三是一个对象<br>\n",
    "李四是一个对象.....只要是具体到个人我们都能称之为他们是人类的对象<br>\n",
    "总结：对象就是具体存在的看得见摸得着的实物。<br>\n",
    "#### 类与对象的关系\n",
    "类是多个对象归纳总结而来的，是一种概念，包含所有对象(由对象总结出类的过程，叫做抽象化)<br>\n",
    "对象是类的具体实现或者实施而来，他是真实的，特指某个事物(由类制作出对象的过程，叫做实例化)<br>"
   ]
  },
  {
   "cell_type": "code",
   "execution_count": 1,
   "id": "40240068",
   "metadata": {},
   "outputs": [],
   "source": [
    "#如何书写类文件\n",
    "#类的命名方法(建议驼峰命名)\n",
    "#关键字 class\n",
    "class Person:\n",
    "    #成员属性(用于描述类的特征的变量)\n",
    "    name='人类是地球的主人'\n",
    "    \n",
    "    #成员方法(用于描述类的功能的函数就是成员方法)\n",
    "    def speak():\n",
    "        print('人类通过语言文字沟通')\n"
   ]
  },
  {
   "cell_type": "markdown",
   "id": "adc8377b",
   "metadata": {},
   "source": [
    "#### 类的组成\n",
    "类中只有2种内容：成员属性和成员方法\n",
    "#### 类的书写规则\n",
    "1.必须使用class关键字声明一个类<br>\n",
    "2.类的名称需要符合规范(驼峰法)<br>\n",
    "3.类中只能存在两个内容，成员方法和成员属性，除此之外禁止出现<br>\n",
    "4.声明成员属性，所有成员属性必须有值，没有值用None代替<br>\n",
    "5.成员方法按照函数规则就可以。<br>"
   ]
  },
  {
   "cell_type": "code",
   "execution_count": null,
   "id": "2702c4ca",
   "metadata": {},
   "outputs": [],
   "source": []
  }
 ],
 "metadata": {
  "kernelspec": {
   "display_name": "Python 3 (ipykernel)",
   "language": "python",
   "name": "python3"
  },
  "language_info": {
   "codemirror_mode": {
    "name": "ipython",
    "version": 3
   },
   "file_extension": ".py",
   "mimetype": "text/x-python",
   "name": "python",
   "nbconvert_exporter": "python",
   "pygments_lexer": "ipython3",
   "version": "3.9.12"
  }
 },
 "nbformat": 4,
 "nbformat_minor": 5
}
