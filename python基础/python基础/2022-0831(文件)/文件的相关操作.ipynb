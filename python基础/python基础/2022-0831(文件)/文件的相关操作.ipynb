{
 "cells": [
  {
   "cell_type": "code",
   "execution_count": 1,
   "id": "f20aa5db",
   "metadata": {},
   "outputs": [],
   "source": [
    "# 文件操作\n",
    "#文件本身的操作(python内置)"
   ]
  },
  {
   "cell_type": "code",
   "execution_count": 2,
   "id": "3c6643e9",
   "metadata": {},
   "outputs": [],
   "source": [
    "#文件的基本操作\n",
    "#open()\n",
    "#功能：打开或创建一个文件\n",
    "#格式：open(文件路径(str),打开模式(str))\n",
    "#返回值：文件的io对象\n",
    "\n",
    "#文件路径：\n",
    "#1.相对路径 ：  ./ 当前路径    ../ 上一级路径\n",
    "#2.绝对路径 ：D:\\A\\ a.txt   D:\\c.jpg"
   ]
  },
  {
   "cell_type": "code",
   "execution_count": 25,
   "id": "7d825eb5",
   "metadata": {},
   "outputs": [],
   "source": [
    "# w模式：写模式write (文件不存在时会创建文件，如果文件存在则会清空文件)\n",
    "fp = open('./a.txt','w',encoding='utf-8')\n",
    "# write()\n",
    "#功能：写入文件\n",
    "#格式：文件io对象.write('str')\n",
    "# 返回值 ： 写入字符串的长度\n",
    "fp.write('白日依山尽')\n",
    "\n",
    "# close()\n",
    "#功能：关闭文件\n",
    "#格式：文件io对象.close()\n",
    "#返回值：None\n",
    "fp.close()"
   ]
  },
  {
   "cell_type": "code",
   "execution_count": 7,
   "id": "55a33849",
   "metadata": {},
   "outputs": [
    {
     "name": "stdout",
     "output_type": "stream",
     "text": [
      "白日依山尽\n"
     ]
    }
   ],
   "source": [
    "#读取文件模式\n",
    "#r模式：读模式 read文件 文件不存在则报错，存在则准备读取文件\n",
    "fp = open('./a.txt','r')\n",
    "\n",
    "#read()\n",
    "#功能:读取文件\n",
    "#格式1\n",
    "# 文件io.read()\n",
    "# 返回值：整个文件的字符\n",
    "#格式2\n",
    "# 文件io.read(字符的长度)\n",
    "# 返回值：返回指定长度的文件的字符\n",
    "result = fp.read()\n",
    "print(result)\n",
    "fp.close()"
   ]
  },
  {
   "cell_type": "code",
   "execution_count": 13,
   "id": "26af062c",
   "metadata": {},
   "outputs": [],
   "source": [
    "#追加模式\n",
    "# a模式：追加模式append文件不存在则新建，文件存在则在文件末尾追加内容\n",
    "fp = open('./b.txt','a',encoding='utf-8')\n",
    "fp.write('#欲穷千里目')\n",
    "fp.close()"
   ]
  },
  {
   "cell_type": "code",
   "execution_count": 11,
   "id": "bc01cfb0",
   "metadata": {},
   "outputs": [],
   "source": [
    "# x模式:抑或模式xor文件存在则报错，文件不存在则新建文件\n",
    "#b模式: 二进制模式binary辅助模式 不能够单独使用\n",
    "# +模式：增强模式plus也是辅助模式 不能单独使用"
   ]
  },
  {
   "cell_type": "code",
   "execution_count": 14,
   "id": "059d2ea1",
   "metadata": {},
   "outputs": [
    {
     "name": "stdout",
     "output_type": "stream",
     "text": [
      "\n"
     ]
    }
   ],
   "source": [
    "fp = open('b.txt','w+')\n",
    "\n",
    "result=fp.read()\n",
    "print(result)\n",
    "fp.close()"
   ]
  },
  {
   "cell_type": "code",
   "execution_count": 18,
   "id": "3517e4b9",
   "metadata": {},
   "outputs": [
    {
     "name": "stdout",
     "output_type": "stream",
     "text": [
      "\n"
     ]
    }
   ],
   "source": [
    "#模式组合\n",
    "#  w  w+ wb wb+ r r+ rb rb+ a a+ ab ab+ x x+ xb xb+\n",
    "fp = open('b.txt','r+',encoding = 'utf-8')\n",
    "fp.write('更上一层楼')\n",
    "fp.close()"
   ]
  },
  {
   "cell_type": "code",
   "execution_count": 19,
   "id": "15fdae30",
   "metadata": {},
   "outputs": [],
   "source": [
    "fp = open('./b.txt','a+',encoding='utf-8')\n",
    "fp.write('白日依山尽')\n",
    "fp.close()"
   ]
  },
  {
   "cell_type": "code",
   "execution_count": 23,
   "id": "cd9b045a",
   "metadata": {},
   "outputs": [],
   "source": [
    "import requests\n",
    "pic_url = 'https://img1.doubanio.com/view/photo/s_ratio_poster/public/p2703667368.webp'\n",
    "rep = requests.get(pic_url).content\n",
    "fp = open('./a.jpg','wb')\n",
    "fp.write(rep)\n",
    "fp.close() "
   ]
  },
  {
   "cell_type": "code",
   "execution_count": null,
   "id": "ac37956a",
   "metadata": {},
   "outputs": [],
   "source": []
  }
 ],
 "metadata": {
  "kernelspec": {
   "display_name": "Python 3 (ipykernel)",
   "language": "python",
   "name": "python3"
  },
  "language_info": {
   "codemirror_mode": {
    "name": "ipython",
    "version": 3
   },
   "file_extension": ".py",
   "mimetype": "text/x-python",
   "name": "python",
   "nbconvert_exporter": "python",
   "pygments_lexer": "ipython3",
   "version": "3.9.12"
  }
 },
 "nbformat": 4,
 "nbformat_minor": 5
}
