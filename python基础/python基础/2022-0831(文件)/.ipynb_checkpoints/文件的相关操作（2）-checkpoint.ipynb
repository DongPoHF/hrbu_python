{
 "cells": [
  {
   "cell_type": "code",
   "execution_count": 1,
   "id": "62102c5f",
   "metadata": {},
   "outputs": [],
   "source": [
    "#读写函数\n",
    "#read()\n",
    "#功能:读取文件\n",
    "#格式1\n",
    "# 文件io.read()\n",
    "# 返回值：整个文件的字符\n",
    "#格式2\n",
    "# 文件io.read(字符的长度)\n",
    "# 返回值：返回指定长度的文件的字符"
   ]
  },
  {
   "cell_type": "code",
   "execution_count": 8,
   "id": "54515a3a",
   "metadata": {},
   "outputs": [
    {
     "name": "stdout",
     "output_type": "stream",
     "text": [
      "更上一层楼\n",
      "\n",
      "白日依山尽\n",
      "\n",
      "黄河入海流\n",
      "\n"
     ]
    }
   ],
   "source": [
    "#readline()\n",
    "#读取一行文件\n",
    "#格式1\n",
    "# 文件io.readline()\n",
    "# 返回值：整个文件的字符\n",
    "#格式2\n",
    "# 文件io.readline(字符的长度)\n",
    "# 返回值：返回指定长度的文件的字符\n",
    "fp = open('b.txt','r',encoding='utf-8')\n",
    "#res = fp.read()\n",
    "for i in range(3):\n",
    "    res = fp.readline()\n",
    "    print(res)\n",
    "fp.close()"
   ]
  },
  {
   "cell_type": "code",
   "execution_count": 10,
   "id": "84df4f28",
   "metadata": {},
   "outputs": [
    {
     "name": "stdout",
     "output_type": "stream",
     "text": [
      "['更上一层楼\\n', '白日依山尽\\n', '黄河入海流\\n', '欲穷千里目']\n"
     ]
    }
   ],
   "source": [
    "#readlines()\n",
    "#功能：将文件中的内容读取到序列(列表)当中\n",
    "#格式1\n",
    "# 文件io.readlines()\n",
    "# 返回值：列表\n",
    "#格式2\n",
    "# 文件io.readlines(字符的长度)\n",
    "# 返回值：列表\n",
    "fp = open('b.txt','r',encoding='utf-8')\n",
    "res = fp.readlines()\n",
    "print(res)\n",
    "fp.close()"
   ]
  },
  {
   "cell_type": "code",
   "execution_count": 11,
   "id": "f8c3392b",
   "metadata": {},
   "outputs": [],
   "source": [
    "# 写模式(扩展)\n",
    "# write()\n",
    "#功能：写入文件\n",
    "#格式：文件io对象.write('str')\n",
    "# 返回值 ： 写入字符串的长度"
   ]
  },
  {
   "cell_type": "code",
   "execution_count": 13,
   "id": "f8ad377e",
   "metadata": {},
   "outputs": [],
   "source": [
    "book_list=['水浒传\\n','三国演义\\n','西游记\\n','红楼梦\\n']\n",
    "#writelines()\n",
    "#功能：将序列写入文件中\n",
    "fp = open('./c.txt','w',encoding='utf-8')\n",
    "fp.writelines(book_list)\n",
    "fp.close()"
   ]
  },
  {
   "cell_type": "code",
   "execution_count": 25,
   "id": "0787cbd3",
   "metadata": {},
   "outputs": [
    {
     "name": "stdout",
     "output_type": "stream",
     "text": [
      "指针的起始位置： 0\n",
      "指针的结束位置： 7\n",
      "点做核酸\n"
     ]
    }
   ],
   "source": [
    "#文件指针操作\n",
    "# tell()\n",
    "# 功能：查看当前指针的位置\n",
    "#格式：文件io对象.tell()\n",
    "#返回值：整数\n",
    "# fp = open('./a.txt','a',encoding = 'utf-8')\n",
    "# res = fp.tell()\n",
    "# print(res)\n",
    "# fp.close()\n",
    "\n",
    "#seek()\n",
    "#功能：调整指针的位置\n",
    "#格式1\n",
    "    #文件io对象. seek(N)\n",
    "    #作用：将指针调整到N的位置，从头开始计算第N个位置\n",
    "    #返回值：指针的位置\n",
    "    \n",
    "fp = open('./a.txt','r',encoding = 'utf-8')\n",
    "print('指针的起始位置：',fp.tell())\n",
    "print('指针的结束位置：',fp.seek(7))\n",
    "res = fp.read()\n",
    "print(res)\n",
    "fp.close()\n",
    "#格式2\n",
    "    #文件io对象. seek(偏移位置，参考点)\n",
    "    #作用：将指针调整到参考点的偏移量位置\n",
    "    #返回值：指针的位置\n",
    "# 参考点：\n",
    "#     0 从文件的最开头计算偏移量\n",
    "#     1 从文件的当前指针位置开始计算偏移\n",
    "#     2 从文件的末尾开始计算偏移\n"
   ]
  },
  {
   "cell_type": "markdown",
   "id": "0914af52",
   "metadata": {},
   "source": [
    "### 字符\n",
    "一个文字就是一个字符，无论是汉字还是英文或者数字都是一个字符<br>\n",
    "### 字节\n",
    "存储单位，文字在存储的单位需要使用的字节<br>\n",
    "1KB=1024B<br>\n",
    "1MB=1024KB<br>\n",
    "1GB=1024MB<br>\n",
    "1TB=1024GB<br>\n",
    "1PB=1024TB<br>\n",
    "### 字符集\n",
    "字符集就是字符的编码类型<br>\n",
    "ASCII码 美国专用<br>\n",
    "每一种语言都有一种编码格式，为了使得计算机能够操作某种语言，中文(GBK,GB2312,GB2313,GB10300....) GBK格式中一个汉字需要2个字节表示，拼音和数字依然是1个字节。<br>\n",
    "几乎所有语言都可以使用的字符集，utf字符集，能够表示世界上大多数的文字，utf-8格式中一个汉字需要3个字节表示，拼音和数字依然是1个字节。"
   ]
  },
  {
   "cell_type": "code",
   "execution_count": null,
   "id": "988f8b81",
   "metadata": {},
   "outputs": [],
   "source": []
  }
 ],
 "metadata": {
  "kernelspec": {
   "display_name": "Python 3 (ipykernel)",
   "language": "python",
   "name": "python3"
  },
  "language_info": {
   "codemirror_mode": {
    "name": "ipython",
    "version": 3
   },
   "file_extension": ".py",
   "mimetype": "text/x-python",
   "name": "python",
   "nbconvert_exporter": "python",
   "pygments_lexer": "ipython3",
   "version": "3.9.12"
  }
 },
 "nbformat": 4,
 "nbformat_minor": 5
}
