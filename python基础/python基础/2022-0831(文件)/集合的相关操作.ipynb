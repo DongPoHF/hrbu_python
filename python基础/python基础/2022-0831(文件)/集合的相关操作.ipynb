{
 "cells": [
  {
   "cell_type": "code",
   "execution_count": 1,
   "id": "b98b8dc5",
   "metadata": {},
   "outputs": [],
   "source": [
    "#集合\n",
    "#特性：唯一性（去重）"
   ]
  },
  {
   "cell_type": "code",
   "execution_count": 3,
   "id": "172d3d36",
   "metadata": {},
   "outputs": [
    {
     "data": {
      "text/plain": [
       "{1, 2, 3, 4, 5, 6, 7, 8}"
      ]
     },
     "execution_count": 3,
     "metadata": {},
     "output_type": "execute_result"
    }
   ],
   "source": [
    "#集合操作\n",
    "sets=set()\n",
    "\n",
    "\n",
    "#带有多个值的集合\n",
    "set1={1,2,3,4,4,5,6,7,8}\n",
    "set1"
   ]
  },
  {
   "cell_type": "code",
   "execution_count": 7,
   "id": "cf9605c7",
   "metadata": {},
   "outputs": [
    {
     "data": {
      "text/plain": [
       "False"
      ]
     },
     "execution_count": 7,
     "metadata": {},
     "output_type": "execute_result"
    }
   ],
   "source": [
    "#集合的序列操作\n",
    "#成员检测\n",
    "sets={('a','b'),('c','d')}\n",
    "'a' in sets"
   ]
  },
  {
   "cell_type": "code",
   "execution_count": 5,
   "id": "18e9a541",
   "metadata": {},
   "outputs": [],
   "source": [
    "#集合的序列函数\n",
    "#len()计算长度\n",
    "#max()获取集合中的最大值\n",
    "#min()获取集合中的最小值\n",
    "#set()创建空集合或者强转"
   ]
  },
  {
   "cell_type": "code",
   "execution_count": null,
   "id": "b6882637",
   "metadata": {},
   "outputs": [],
   "source": [
    "#集合的遍历\n",
    "# for i in set1:\n",
    "#     print(i)\n",
    "\n",
    "#多级集合的遍历\n",
    "# for i in sets:\n",
    "#     for j in i:\n",
    "#         print(j)\n",
    "\n",
    "for i,j in sets:\n",
    "    print(i)\n",
    "    print(j)"
   ]
  },
  {
   "cell_type": "markdown",
   "id": "11e0304b",
   "metadata": {},
   "source": [
    "### 集合推导式\n",
    "####  普通集合推导式\n",
    "变量={i for i in 集合}\n",
    "#### 带有判断条件的推导式\n",
    "变量={i for i in 集合 if 判断条件}\n",
    "#### 多循环的推导式\n",
    "变量={i+j for i in 集合1 for j in 集合2}\n",
    "#### 带有判断条件多循环的推导式\n",
    "变量={i+j for i in 集合1 for j in 集合2 if 判断条件}"
   ]
  },
  {
   "cell_type": "code",
   "execution_count": 15,
   "id": "f83f15ed",
   "metadata": {},
   "outputs": [
    {
     "data": {
      "text/plain": [
       "{7, 8, 9, 10, 11, 12}"
      ]
     },
     "execution_count": 15,
     "metadata": {},
     "output_type": "execute_result"
    }
   ],
   "source": [
    "sets={1,2,3,4}\n",
    "sets1={5,6,7,8}\n",
    "res = {i+j for i in sets for j in sets1 if i % 2 == 0}\n",
    "res"
   ]
  },
  {
   "cell_type": "code",
   "execution_count": 33,
   "id": "a8b4c4d3",
   "metadata": {},
   "outputs": [
    {
     "data": {
      "text/plain": [
       "{1, 2, 7, 8, 9}"
      ]
     },
     "execution_count": 33,
     "metadata": {},
     "output_type": "execute_result"
    }
   ],
   "source": [
    "#add\n",
    "#功能：向集合中添加一个元素\n",
    "#格式：集合.add(值)\n",
    "#返回值：None\n",
    "res.add(15)\n",
    "res\n",
    "\n",
    "#pop\n",
    "#功能：删除集合中的第一个元素 类似于生成器\n",
    "#格式：集合.pop()\n",
    "#返回值：删除的那个元素\n",
    "#res.pop()\n",
    "\n",
    "#remove\n",
    "#功能：删除集合中的某个元素\n",
    "#格式：集合.remove()\n",
    "#返回值：None\n",
    "# res.remove(9)\n",
    "# res\n",
    "\n",
    "#discard\n",
    "#功能：删除集合中的某个元素\n",
    "#格式：集合.discard()\n",
    "#返回值：None\n",
    "# res.discard(77)\n",
    "# res\n",
    "\n",
    "#clear\n",
    "#功能：清空集合\n",
    "#格式：集合.clear()\n",
    "#返回值：None\n",
    "\n",
    "#copy\n",
    "#功能：复制集合\n",
    "#格式：集合.copy()\n",
    "#返回值：复制的那一份集合\n",
    "\n",
    "#集合间的常规运算\n",
    "set1={1,2,3,4,5,6}\n",
    "set2={4,5,6,7,8,9}\n",
    "\n",
    "#difference()\n",
    "#功能：差集\n",
    "#格式：集合.difference()\n",
    "#返回值：集合\n",
    "#含义：获取存在于集合1但是不存在集合2的数据的集合\n",
    "#set1.difference(set2)\n",
    "\n",
    "#difference_update()\n",
    "#功能：差集 更新\n",
    "#格式：集合1.difference_update(集合2)\n",
    "#返回值：无 直接将结果赋值给集合2\n",
    "#含义：获取存在于集合1但是不存在集合2的数据的集合，赋值集合1\n",
    "# set1.difference_update(set2)\n",
    "# set1\n",
    "\n",
    "#intersection()\n",
    "#功能：交集\n",
    "#格式：集合1.intersection(集合2)\n",
    "#返回值：集合\n",
    "#含义：获取既存在于集合1又存在集合2的数据的集合\n",
    "# set1.intersection(set2)\n",
    "\n",
    "#intersection_update()\n",
    "#功能：交集 更新\n",
    "#格式：集合1.intersection_update(集合2)\n",
    "#返回值：无 直接将结果赋值给集合2\n",
    "#含义：获取既存在于集合1又不存在集合2的数据的集合，赋值集合1\n",
    "# set1.intersection_update(set2)\n",
    "# set1\n",
    "\n",
    "# union()\n",
    "#功能：并集\n",
    "#格式：集合1.union(集合2)\n",
    "#返回值：集合\n",
    "#含义：将集合1与集合2中所有的数据新建一个集合(去重)\n",
    "#set1.union(set2)\n",
    "\n",
    "# update()\n",
    "#功能：并集\n",
    "#格式：集合1.update(集合2)\n",
    "#返回值：无 将结果赋值给集合1\n",
    "#含义：将集合1与集合2中所有的数据新建一个集合(去重)，赋值\n",
    "# set1.update(set2)\n",
    "# set1\n",
    "\n",
    "#检测一个集合是不是另外一个集合的超集\n",
    "set1={1,2,3,4,5,6,7,8,9}\n",
    "set2={3,4,5,6}\n",
    "#issuperset()\n",
    "#格式：集合1.issuperset(集合2)\n",
    "#返回值：布尔值\n",
    "set1.issuperset(set2)\n",
    "\n",
    "#issubset()\n",
    "#格式：集合1.issubset(集合2)\n",
    "#返回值：布尔值\n",
    "set2.issubset(set1)\n",
    "\n",
    "#isdisjoint()\n",
    "#检测两个集合是否不相交\n",
    "#格式：集合1.isdisjoint(集合2)\n",
    "#返回值：布尔值\n",
    "set1.isdisjoint(set2)\n",
    "\n",
    "#symmetric_difference()\n",
    "#对称差集\n",
    "#格式：集合1.symmetric_difference(集合2)\n",
    "#返回值：集合\n",
    "#含义：将集合1和集合2中不相交的部分取出来组成新的集合\n",
    "set1.symmetric_difference(set2)\n",
    "\n",
    "#symmetric_difference_update()\n",
    "#对称差集更新\n",
    "#格式：集合1.symmetric_difference_update(集合2)\n",
    "#返回值：集合\n",
    "#含义：将集合1和集合2中不相交的部分取出来组成新的集合,赋值\n",
    "set1.symmetric_difference_update(set2)\n",
    "set1"
   ]
  },
  {
   "cell_type": "code",
   "execution_count": null,
   "id": "76c79a34",
   "metadata": {},
   "outputs": [],
   "source": []
  }
 ],
 "metadata": {
  "kernelspec": {
   "display_name": "Python 3 (ipykernel)",
   "language": "python",
   "name": "python3"
  },
  "language_info": {
   "codemirror_mode": {
    "name": "ipython",
    "version": 3
   },
   "file_extension": ".py",
   "mimetype": "text/x-python",
   "name": "python",
   "nbconvert_exporter": "python",
   "pygments_lexer": "ipython3",
   "version": "3.9.12"
  }
 },
 "nbformat": 4,
 "nbformat_minor": 5
}
