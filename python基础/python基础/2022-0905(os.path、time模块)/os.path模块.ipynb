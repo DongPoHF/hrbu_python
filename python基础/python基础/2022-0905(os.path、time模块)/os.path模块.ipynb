{
 "cells": [
  {
   "cell_type": "code",
   "execution_count": 2,
   "id": "2a095356",
   "metadata": {},
   "outputs": [],
   "source": [
    "#os.path模块\n",
    "#os.path是os模块中的子模块，包含很多路径操作\n",
    "import os"
   ]
  },
  {
   "cell_type": "code",
   "execution_count": 3,
   "id": "f1f340bf",
   "metadata": {},
   "outputs": [
    {
     "data": {
      "text/plain": [
       "'C:\\\\Users\\\\xiaoying\\\\anaconda\\\\python基础\\\\2022-0905'"
      ]
     },
     "execution_count": 3,
     "metadata": {},
     "output_type": "execute_result"
    }
   ],
   "source": [
    "#函数部分\n",
    "#abspath()\n",
    "#功能：将一个相对路径转化为绝对路径\n",
    "#格式：os.path.abspath()\n",
    "#返回值：绝对路径的字符串\n",
    "os.path.abspath('./')"
   ]
  },
  {
   "cell_type": "code",
   "execution_count": 5,
   "id": "62600562",
   "metadata": {},
   "outputs": [
    {
     "data": {
      "text/plain": [
       "'Untitled.ipynb'"
      ]
     },
     "execution_count": 5,
     "metadata": {},
     "output_type": "execute_result"
    }
   ],
   "source": [
    "#basename\n",
    "#获取路径中的文件夹或者文件名称()\n",
    "#格式：os.path.basename(路径)\n",
    "#返回值：路径的最后一部分\n",
    "os.path.basename('C:\\\\Users\\\\xiaoying\\\\anaconda\\\\python基础\\\\2022-0905\\\\Untitled.ipynb')"
   ]
  },
  {
   "cell_type": "code",
   "execution_count": 6,
   "id": "65e4517d",
   "metadata": {},
   "outputs": [
    {
     "data": {
      "text/plain": [
       "'C:\\\\Users\\\\xiaoying\\\\anaconda\\\\python基础\\\\2022-0905'"
      ]
     },
     "execution_count": 6,
     "metadata": {},
     "output_type": "execute_result"
    }
   ],
   "source": [
    "#dirname()\n",
    "#功能：获取路径中的路径部分\n",
    "#格式：os.path.dirname(路径)\n",
    "#返回值：除去路径最后一部分的字符串\n",
    "os.path.dirname('C:\\\\Users\\\\xiaoying\\\\anaconda\\\\python基础\\\\2022-0905\\\\Untitled.ipynb')"
   ]
  },
  {
   "cell_type": "code",
   "execution_count": 8,
   "id": "14d07146",
   "metadata": {},
   "outputs": [
    {
     "data": {
      "text/plain": [
       "'C:\\\\Users\\\\xiaoying\\\\anaconda\\\\python基础\\\\2022-0905\\\\info'"
      ]
     },
     "execution_count": 8,
     "metadata": {},
     "output_type": "execute_result"
    }
   ],
   "source": [
    "#join()\n",
    "#功能：将两个路径合成一个路径\n",
    "#格式：os.path.join(路径1，路径2)\n",
    "#返回值：合成之后的完成的路径\n",
    "main_path='C:\\\\Users\\\\xiaoying\\\\anaconda\\\\python基础\\\\2022-0905'\n",
    "pic_path= os.path.join(main_path,'pic')\n",
    "#pic_path\n",
    "info_path = os.path.join(main_path,'info')\n",
    "info_path"
   ]
  },
  {
   "cell_type": "code",
   "execution_count": 9,
   "id": "461e5133",
   "metadata": {},
   "outputs": [
    {
     "data": {
      "text/plain": [
       "('C:\\\\Users\\\\xiaoying\\\\anaconda\\\\python基础\\\\2022-0905', 'Untitled.ipynb')"
      ]
     },
     "execution_count": 9,
     "metadata": {},
     "output_type": "execute_result"
    }
   ],
   "source": [
    "# split()\n",
    "#功能：将路径切割成文件和文件夹的部分\n",
    "#格式：os.path.split(路径)\n",
    "#返回值：元组\n",
    "os.path.split('C:\\\\Users\\\\xiaoying\\\\anaconda\\\\python基础\\\\2022-0905\\\\Untitled.ipynb')"
   ]
  },
  {
   "cell_type": "code",
   "execution_count": 11,
   "id": "060d6aa0",
   "metadata": {},
   "outputs": [
    {
     "data": {
      "text/plain": [
       "('Untitled', '.ipynb')"
      ]
     },
     "execution_count": 11,
     "metadata": {},
     "output_type": "execute_result"
    }
   ],
   "source": [
    "# splitext()\n",
    "#将一个文件名切割成名字和后缀两部分\n",
    "#格式：os.path.splitext(路径)\n",
    "#返回值：元组\n",
    "os.path.splitext('Untitled.ipynb')"
   ]
  },
  {
   "cell_type": "code",
   "execution_count": 12,
   "id": "44731ad6",
   "metadata": {},
   "outputs": [
    {
     "data": {
      "text/plain": [
       "4694"
      ]
     },
     "execution_count": 12,
     "metadata": {},
     "output_type": "execute_result"
    }
   ],
   "source": [
    "# getsize()\n",
    "#获取一个文件的大小\n",
    "# os.path.getsize(路径)\n",
    "#返回值：整数\n",
    "os.path.getsize('./Untitled.ipynb')"
   ]
  },
  {
   "cell_type": "code",
   "execution_count": 13,
   "id": "8669e994",
   "metadata": {},
   "outputs": [
    {
     "data": {
      "text/plain": [
       "False"
      ]
     },
     "execution_count": 13,
     "metadata": {},
     "output_type": "execute_result"
    }
   ],
   "source": [
    "# isfile()\n",
    "#检测一个路径是否是一个文件\n",
    "#os.path.isfile(路径)\n",
    "#返回值：布尔值\n",
    "os.path.isfile('C:\\\\Users\\\\xiaoying\\\\anaconda\\\\python基础\\\\2022-0905')"
   ]
  },
  {
   "cell_type": "code",
   "execution_count": 14,
   "id": "f400c393",
   "metadata": {},
   "outputs": [
    {
     "data": {
      "text/plain": [
       "True"
      ]
     },
     "execution_count": 14,
     "metadata": {},
     "output_type": "execute_result"
    }
   ],
   "source": [
    "# isdir()\n",
    "#检测一个文件是否是一个文件夹\n",
    "os.path.isdir('C:\\\\Users\\\\xiaoying\\\\anaconda\\\\python基础\\\\2022-0905')"
   ]
  },
  {
   "cell_type": "code",
   "execution_count": 15,
   "id": "c1cd025e",
   "metadata": {},
   "outputs": [
    {
     "data": {
      "text/plain": [
       "1662355914.335574"
      ]
     },
     "execution_count": 15,
     "metadata": {},
     "output_type": "execute_result"
    }
   ],
   "source": [
    "#getctime()\n",
    "#获取文件的创建时间\n",
    "# os.path.getctime()\n",
    "#返回值：时间戳\n",
    "os.path.getctime('./')"
   ]
  },
  {
   "cell_type": "code",
   "execution_count": 16,
   "id": "d2fba917",
   "metadata": {},
   "outputs": [],
   "source": [
    "#getmtime()\n",
    "# 获取文件的修改时间\n",
    "#os.path.getmtime(路径)"
   ]
  },
  {
   "cell_type": "code",
   "execution_count": 17,
   "id": "21b282fb",
   "metadata": {},
   "outputs": [
    {
     "data": {
      "text/plain": [
       "1662359703.9857736"
      ]
     },
     "execution_count": 17,
     "metadata": {},
     "output_type": "execute_result"
    }
   ],
   "source": [
    "# getatime()\n",
    "#获取文件的访问时间\n",
    "# os.path.getatime(路径)\n",
    "os.path.getatime('C:\\\\Users\\\\xiaoying\\\\anaconda\\\\python基础\\\\2022-0905')"
   ]
  },
  {
   "cell_type": "code",
   "execution_count": 18,
   "id": "0efd0fd9",
   "metadata": {},
   "outputs": [
    {
     "data": {
      "text/plain": [
       "True"
      ]
     },
     "execution_count": 18,
     "metadata": {},
     "output_type": "execute_result"
    }
   ],
   "source": [
    "#exists\n",
    "#检测一个路径是否存在\n",
    "#os.path.exists(路径)\n",
    "os.path.exists('C:\\\\Users\\\\xiaoying\\\\anaconda\\\\python基础\\\\2022-0905')"
   ]
  },
  {
   "cell_type": "code",
   "execution_count": 20,
   "id": "e0691460",
   "metadata": {},
   "outputs": [
    {
     "data": {
      "text/plain": [
       "False"
      ]
     },
     "execution_count": 20,
     "metadata": {},
     "output_type": "execute_result"
    }
   ],
   "source": [
    "# isabs()\n",
    "# 检测一个路径是否是绝对路径\n",
    "# os.path.isabs\n",
    "os.path.isabs('../2022-0905')"
   ]
  },
  {
   "cell_type": "code",
   "execution_count": null,
   "id": "84d1ab53",
   "metadata": {},
   "outputs": [],
   "source": []
  }
 ],
 "metadata": {
  "kernelspec": {
   "display_name": "Python 3 (ipykernel)",
   "language": "python",
   "name": "python3"
  },
  "language_info": {
   "codemirror_mode": {
    "name": "ipython",
    "version": 3
   },
   "file_extension": ".py",
   "mimetype": "text/x-python",
   "name": "python",
   "nbconvert_exporter": "python",
   "pygments_lexer": "ipython3",
   "version": "3.9.12"
  }
 },
 "nbformat": 4,
 "nbformat_minor": 5
}
