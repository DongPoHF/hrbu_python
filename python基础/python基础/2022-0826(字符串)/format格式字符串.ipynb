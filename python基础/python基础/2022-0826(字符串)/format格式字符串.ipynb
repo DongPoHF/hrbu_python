{
 "cells": [
  {
   "cell_type": "code",
   "execution_count": 1,
   "id": "ee7f77b9",
   "metadata": {},
   "outputs": [],
   "source": [
    "# 它通过{}来替代%"
   ]
  },
  {
   "cell_type": "code",
   "execution_count": 3,
   "id": "3378f1c7",
   "metadata": {},
   "outputs": [
    {
     "data": {
      "text/plain": [
       "'我叫张三,今年22，我来自哈尔滨'"
      ]
     },
     "execution_count": 3,
     "metadata": {},
     "output_type": "execute_result"
    }
   ],
   "source": [
    "info = '我叫{},今年{}，我来自{}'.format('张三','22','哈尔滨')\n",
    "info"
   ]
  },
  {
   "cell_type": "code",
   "execution_count": 6,
   "id": "87d3c5ff",
   "metadata": {},
   "outputs": [
    {
     "data": {
      "text/plain": [
       "'我叫李四,今年哈尔滨，我来自22'"
      ]
     },
     "execution_count": 6,
     "metadata": {},
     "output_type": "execute_result"
    }
   ],
   "source": [
    "name='李四'\n",
    "age=22\n",
    "where='哈尔滨'\n",
    "info = '我叫{0},今年{2}，我来自{1}'.format(name,age,where)\n",
    "info"
   ]
  },
  {
   "cell_type": "code",
   "execution_count": 7,
   "id": "0728237f",
   "metadata": {},
   "outputs": [
    {
     "data": {
      "text/plain": [
       "'我叫李四,今年22，我来自哈尔滨,我的名字叫22'"
      ]
     },
     "execution_count": 7,
     "metadata": {},
     "output_type": "execute_result"
    }
   ],
   "source": [
    "name='李四'\n",
    "age=22\n",
    "where='哈尔滨'\n",
    "info = '我叫{0},今年{1}，我来自{2},我的名字叫{1}'.format(name,age,where)\n",
    "info"
   ]
  },
  {
   "cell_type": "code",
   "execution_count": 8,
   "id": "0aac29fa",
   "metadata": {},
   "outputs": [
    {
     "data": {
      "text/plain": [
       "'我叫王五,今年23，我来自哈尔滨'"
      ]
     },
     "execution_count": 8,
     "metadata": {},
     "output_type": "execute_result"
    }
   ],
   "source": [
    "#通过关键字的方式传递参数\n",
    "name='李四'\n",
    "age=22\n",
    "where='哈尔滨'\n",
    "info = '我叫{name},今年{age}，我来自{where}'.format(name='王五',age='23',where='哈尔滨')\n",
    "info"
   ]
  },
  {
   "cell_type": "code",
   "execution_count": 9,
   "id": "00808126",
   "metadata": {},
   "outputs": [
    {
     "data": {
      "text/plain": [
       "'张三,20,哈尔滨学院'"
      ]
     },
     "execution_count": 9,
     "metadata": {},
     "output_type": "execute_result"
    }
   ],
   "source": [
    "#通过下标的方式传递参数\n",
    "info=['张三',20,'哈尔滨学院']\n",
    "info_str='{0[0]},{0[1]},{0[2]}'.format(info)\n",
    "info_str"
   ]
  },
  {
   "cell_type": "code",
   "execution_count": 16,
   "id": "e551d854",
   "metadata": {},
   "outputs": [
    {
     "data": {
      "text/plain": [
       "'00099999'"
      ]
     },
     "execution_count": 16,
     "metadata": {},
     "output_type": "execute_result"
    }
   ],
   "source": [
    "#格式限定符号\n",
    "#居中 =^\n",
    "#左对齐 = <\n",
    "#右对齐 = >\n",
    "info = '{:*>8}'.format('达拉')#8位\n",
    "nums='{:0>8}'.format('99999')#0填充\n",
    "nums"
   ]
  },
  {
   "cell_type": "code",
   "execution_count": 18,
   "id": "e1495b9b",
   "metadata": {},
   "outputs": [
    {
     "data": {
      "text/plain": [
       "'3.15'"
      ]
     },
     "execution_count": 18,
     "metadata": {},
     "output_type": "execute_result"
    }
   ],
   "source": [
    "#精度与类型f\n",
    "info='{:.2f}'.format(3.1495926)\n",
    "info"
   ]
  },
  {
   "cell_type": "code",
   "execution_count": 20,
   "id": "73060975",
   "metadata": {},
   "outputs": [
    {
     "data": {
      "text/plain": [
       "'10001'"
      ]
     },
     "execution_count": 20,
     "metadata": {},
     "output_type": "execute_result"
    }
   ],
   "source": [
    "#进制类型\n",
    "#b--2  d--10 o--8  x--16\n",
    "info='{:b}'.format(17)\n",
    "info"
   ]
  },
  {
   "cell_type": "code",
   "execution_count": 22,
   "id": "db40dc35",
   "metadata": {},
   "outputs": [
    {
     "data": {
      "text/plain": [
       "'200,000,000'"
      ]
     },
     "execution_count": 22,
     "metadata": {},
     "output_type": "execute_result"
    }
   ],
   "source": [
    "'{:,}'.format(200000000)"
   ]
  },
  {
   "cell_type": "code",
   "execution_count": null,
   "id": "7debdcce",
   "metadata": {},
   "outputs": [],
   "source": [
    "kw = input('输入你要搜索的关键字')\n",
    "page = 5\n",
    "\n",
    "for page_nums in range(0,page):\n",
    "    base_url='https://tieba.baidu.com/f?kw={}&ie=utf-8&pn={}'.format(kw,page_nums*50)\n",
    "    print(base_url)"
   ]
  },
  {
   "cell_type": "code",
   "execution_count": 62,
   "id": "5f11752a",
   "metadata": {},
   "outputs": [
    {
     "name": "stdout",
     "output_type": "stream",
     "text": [
      "输入你要搜索的关键字:动作\n",
      "https://movie.douban.com/typerank?type_name=剧情&type=11&interval_id=100:90&action=\n"
     ]
    }
   ],
   "source": [
    "dict={\n",
    "    '剧情':11,\n",
    "    '喜剧':24,\n",
    "    '动作':5,\n",
    "    '爱情':13,\n",
    "    '科幻':17,'动画':25,'悬疑':10,'惊悚':19,'恐怖':20,'纪录片':1,'短片':23,\n",
    "    '情色':6,'音乐':14,'歌舞':7,'家庭':28,'儿童':8,'传记':2,'历史':4,'战争':22,'犯罪':3,\n",
    "    '西部':27,'奇幻':16,'冒险':15,'灾难':12,'武侠':29,'古装':30,'运动':18,'黑色电影':31\n",
    "} \n",
    "type_name = input('输入你要搜索的关键字:')\n",
    "for type_name in dict.keys():\n",
    "    if type_name==dict.keys():\n",
    "        base_url='https://movie.douban.com/typerank?type_name={}&type={}&interval_id=100:90&action='.format(dict)\n",
    "print(base_url)"
   ]
  },
  {
   "cell_type": "code",
   "execution_count": 38,
   "id": "aa237fda",
   "metadata": {},
   "outputs": [
    {
     "name": "stdout",
     "output_type": "stream",
     "text": [
      "~~~~~~欢迎使用豆瓣电影网站推荐系统~~~~~~\n",
      "####关键字检索表格####\n",
      "剧情、喜剧、动画、爱情、悬疑....\n",
      "请你输入电影类型剧情\n",
      "https://movie.douban.com/typerank?type_name=剧情&type=11&interval_id=100:90&action=\n",
      "~~~~~~谢谢使用豆瓣电影网站推荐系统~~~~~~\n"
     ]
    }
   ],
   "source": [
    "print('~~~~~~欢迎使用豆瓣电影网站推荐系统~~~~~~')\n",
    "print('####关键字检索表格####')\n",
    "print('剧情、喜剧、动画、爱情、悬疑....')\n",
    "name = input('请你输入电影类型')\n",
    "if name == '剧情':\n",
    "    base_url = 'https://movie.douban.com/typerank?type_name={}&type={}&interval_id=100:90&action='.format(name,11)\n",
    "    print(base_url)\n",
    "elif name == '动画':\n",
    "    base_url = 'https://movie.douban.com/typerank?type_name={}&type={}&interval_id=100:90&action='.format(name,25)\n",
    "    print(base_url)\n",
    "print('~~~~~~谢谢使用豆瓣电影网站推荐系统~~~~~~')"
   ]
  },
  {
   "cell_type": "code",
   "execution_count": null,
   "id": "995b5885",
   "metadata": {},
   "outputs": [],
   "source": []
  }
 ],
 "metadata": {
  "kernelspec": {
   "display_name": "Python 3 (ipykernel)",
   "language": "python",
   "name": "python3"
  },
  "language_info": {
   "codemirror_mode": {
    "name": "ipython",
    "version": 3
   },
   "file_extension": ".py",
   "mimetype": "text/x-python",
   "name": "python",
   "nbconvert_exporter": "python",
   "pygments_lexer": "ipython3",
   "version": "3.9.12"
  }
 },
 "nbformat": 4,
 "nbformat_minor": 5
}
