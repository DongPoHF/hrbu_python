{
 "cells": [
  {
   "cell_type": "code",
   "execution_count": 1,
   "id": "44721350",
   "metadata": {},
   "outputs": [],
   "source": [
    "class Test:\n",
    "    name = 'test code'\n",
    "    \n",
    "    def ttl(self):\n",
    "        print('okok')"
   ]
  },
  {
   "cell_type": "code",
   "execution_count": null,
   "id": "479b63c5",
   "metadata": {},
   "outputs": [],
   "source": []
  }
 ],
 "metadata": {
  "kernelspec": {
   "display_name": "Python 3 (ipykernel)",
   "language": "python",
   "name": "python3"
  },
  "language_info": {
   "codemirror_mode": {
    "name": "ipython",
    "version": 3
   },
   "file_extension": ".py",
   "mimetype": "text/x-python",
   "name": "python",
   "nbconvert_exporter": "python",
   "pygments_lexer": "ipython3",
   "version": "3.9.12"
  }
 },
 "nbformat": 4,
 "nbformat_minor": 5
}
