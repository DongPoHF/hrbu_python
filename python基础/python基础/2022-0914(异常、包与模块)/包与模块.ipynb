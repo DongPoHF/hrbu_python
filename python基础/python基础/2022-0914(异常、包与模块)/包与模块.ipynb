{
 "cells": [
  {
   "cell_type": "markdown",
   "id": "413cd490",
   "metadata": {},
   "source": [
    "### 模块\n",
    "一个模块就是包含python代码的文件，一个文件就是一个模块\n",
    "### 为什么要使用模块\n",
    "1. 现在程序开发文件比较大，都放在一个文件中维护不方便，拆分成多个模块便于维护。\n",
    "2. 模块可以增加代码的重复率。\n",
    "3. 模块可以当作命名的空间\n",
    "### 模块的导入方式\n",
    "import 模块名<br>\n",
    "import 模块名 as 别名<br>\n",
    "from 模块名 import 某个函数或者某个类<br>\n",
    "from 模块名 import 某个函数,函数，类，类......<br>\n",
    "from 模块名 import * <br>\n",
    "作用: 直接导入模块<br>\n",
    "使用方法:<br>\n",
    "    模块名.变量名<br>\n",
    "    模块名.函数名<br>\n",
    "    模块名.类名.方法名()<br>\n",
    "    模块名.类目.属性名()<br>"
   ]
  },
  {
   "cell_type": "code",
   "execution_count": 1,
   "id": "3ece63f5",
   "metadata": {
    "collapsed": true
   },
   "outputs": [
    {
     "ename": "ModuleNotFoundError",
     "evalue": "No module named 'test11'",
     "output_type": "error",
     "traceback": [
      "\u001b[1;31m---------------------------------------------------------------------------\u001b[0m",
      "\u001b[1;31mModuleNotFoundError\u001b[0m                       Traceback (most recent call last)",
      "Input \u001b[1;32mIn [1]\u001b[0m, in \u001b[0;36m<cell line: 1>\u001b[1;34m()\u001b[0m\n\u001b[1;32m----> 1\u001b[0m \u001b[38;5;28;01mimport\u001b[39;00m \u001b[38;5;21;01mtest11\u001b[39;00m\n",
      "\u001b[1;31mModuleNotFoundError\u001b[0m: No module named 'test11'"
     ]
    }
   ],
   "source": [
    "import test11"
   ]
  },
  {
   "cell_type": "code",
   "execution_count": 3,
   "id": "49de6867",
   "metadata": {},
   "outputs": [],
   "source": [
    "import pandas\n",
    "import pandas as pd\n",
    "from pandas import Series\n",
    "from pandas import Series,DataFrame\n",
    "from pandas import *"
   ]
  },
  {
   "cell_type": "markdown",
   "id": "1774aa4a",
   "metadata": {},
   "source": [
    "### 包\n",
    "包就是文件夹，它用于存放文件也就是模块，包当中也可以存放子包<br>\n",
    "包<br>\n",
    "|----__init__.py   包的标志文件<br>\n",
    "|----模块1<br>\n",
    "|----模块2<br>\n",
    "|----子包<br>\n",
    "|----|----__init__.py<br>\n",
    "|----|----子模块1<br>\n",
    "|----|----子模块2<br>\n",
    "包的导入和使用<br>\n",
    "import 包.模块<br>\n",
    "import 包.模块 as 别名....<br>\n",
    "包.模块.变量<br>\n",
    "包.模块.方法()<br>"
   ]
  },
  {
   "cell_type": "code",
   "execution_count": null,
   "id": "6da9485d",
   "metadata": {},
   "outputs": [],
   "source": [
    "# import os\n",
    "# os.path.abspath()"
   ]
  }
 ],
 "metadata": {
  "kernelspec": {
   "display_name": "Python 3 (ipykernel)",
   "language": "python",
   "name": "python3"
  },
  "language_info": {
   "codemirror_mode": {
    "name": "ipython",
    "version": 3
   },
   "file_extension": ".py",
   "mimetype": "text/x-python",
   "name": "python",
   "nbconvert_exporter": "python",
   "pygments_lexer": "ipython3",
   "version": "3.9.12"
  }
 },
 "nbformat": 4,
 "nbformat_minor": 5
}
