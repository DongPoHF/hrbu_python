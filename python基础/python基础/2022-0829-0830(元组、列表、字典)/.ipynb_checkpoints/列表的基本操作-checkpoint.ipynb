{
 "cells": [
  {
   "cell_type": "code",
   "execution_count": 1,
   "id": "7042643b",
   "metadata": {},
   "outputs": [],
   "source": [
    "#列表的操作\n",
    "list_k=[]\n",
    "list_k=list()\n",
    "#单一个值\n",
    "list_1=[1]"
   ]
  },
  {
   "cell_type": "code",
   "execution_count": 7,
   "id": "bf83a395",
   "metadata": {},
   "outputs": [
    {
     "data": {
      "text/plain": [
       "['齐齐哈尔', '牡丹江']"
      ]
     },
     "execution_count": 7,
     "metadata": {},
     "output_type": "execute_result"
    }
   ],
   "source": [
    "#基础操作\n",
    "lists=['哈尔滨','齐齐哈尔','牡丹江']\n",
    "lists[2]\n",
    "#改\n",
    "#lists[2]= 'aaaa'\n",
    "#lists\n",
    "\n",
    "#增加 普通操作无法实现 需通过函数\n",
    "\n",
    "#删除列表中的元素\n",
    "del lists[0]\n",
    "lists"
   ]
  },
  {
   "cell_type": "code",
   "execution_count": 10,
   "id": "7ed9859c",
   "metadata": {},
   "outputs": [
    {
     "data": {
      "text/plain": [
       "[2, 3, 4, 5, 6, 7, 2, 3, 4, 5, 6, 7]"
      ]
     },
     "execution_count": 10,
     "metadata": {},
     "output_type": "execute_result"
    }
   ],
   "source": [
    "#列表的序列操作\n",
    "#拼接 \n",
    "res1=[2,3,4]\n",
    "res2=[5,6,7]\n",
    "res = res1+res2\n",
    "res*2  #复制"
   ]
  },
  {
   "cell_type": "code",
   "execution_count": 11,
   "id": "935af116",
   "metadata": {},
   "outputs": [],
   "source": [
    "#索引操作\n",
    "#列表[索引]"
   ]
  },
  {
   "cell_type": "markdown",
   "id": "67249314",
   "metadata": {},
   "source": [
    "# 取片操作\n",
    "格式：列表[:] 获取整个列表<br>\n",
    "格式: 列表[:结束索引] 获取列表开头到结束索引之前<br>\n",
    "格式：列表[开始索引:] 获取开始索引到列表末尾的数据组成的列表<br>\n",
    "格式：列表[开始索引:结束索引] 获取开始索引和结束索引之间的数据组成的列表<br>\n",
    "格式：列表[开始索引：结束索引：间隔值] 获取开始索引和结束索引之间的数据按照间隔值获取"
   ]
  },
  {
   "cell_type": "code",
   "execution_count": null,
   "id": "20dc774e",
   "metadata": {},
   "outputs": [],
   "source": []
  }
 ],
 "metadata": {
  "kernelspec": {
   "display_name": "Python 3 (ipykernel)",
   "language": "python",
   "name": "python3"
  },
  "language_info": {
   "codemirror_mode": {
    "name": "ipython",
    "version": 3
   },
   "file_extension": ".py",
   "mimetype": "text/x-python",
   "name": "python",
   "nbconvert_exporter": "python",
   "pygments_lexer": "ipython3",
   "version": "3.9.12"
  }
 },
 "nbformat": 4,
 "nbformat_minor": 5
}
