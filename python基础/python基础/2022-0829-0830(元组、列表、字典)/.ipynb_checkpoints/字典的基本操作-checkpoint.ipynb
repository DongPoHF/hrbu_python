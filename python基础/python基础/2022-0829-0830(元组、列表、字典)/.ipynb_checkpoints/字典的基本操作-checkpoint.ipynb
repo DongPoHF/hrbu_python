{
 "cells": [
  {
   "cell_type": "code",
   "execution_count": 1,
   "id": "eab84718",
   "metadata": {},
   "outputs": [],
   "source": [
    "# 字典 dict\n",
    "#特性:以键值对方式存在的无序组合就是字典"
   ]
  },
  {
   "cell_type": "code",
   "execution_count": 2,
   "id": "198e5f49",
   "metadata": {},
   "outputs": [],
   "source": [
    "#创建字典\n",
    "dict_k= {}\n",
    "dict_k = dict()"
   ]
  },
  {
   "cell_type": "code",
   "execution_count": 12,
   "id": "9f762b7f",
   "metadata": {},
   "outputs": [
    {
     "data": {
      "text/plain": [
       "{'k1': 'v1', 'k2': 'v2'}"
      ]
     },
     "execution_count": 12,
     "metadata": {},
     "output_type": "execute_result"
    }
   ],
   "source": [
    "#创建多个元素的字典\n",
    "dicts = {'key1':'value1','k2':'v2'}\n",
    "\n",
    "dicts=dict({'key1':'value1','k2':'v2'})\n",
    "\n",
    "dicts=dict(k1='v1',k2='v2',k3='v3')\n",
    "\n",
    "dicts = dict([['k1','v1'],['k2','v2']])\n",
    "dicts = dict([('k1','v1'),('k2','v2')])\n",
    "dicts = dict((('k1','v1'),('k2','v2')))\n",
    "dicts = dict((['k1','v1'],['k2','v2']))\n",
    "\n",
    "dicts = dict(zip(('k1','k2'),('v1','v2')))\n",
    "dicts"
   ]
  },
  {
   "cell_type": "code",
   "execution_count": 2,
   "id": "baa3b050",
   "metadata": {},
   "outputs": [
    {
     "data": {
      "text/plain": [
       "{'k2': 'v2', 'k3': 'v3'}"
      ]
     },
     "execution_count": 2,
     "metadata": {},
     "output_type": "execute_result"
    }
   ],
   "source": [
    "# 字典的基本操作(增删改查)\n",
    "dicts={'k1': 'v1', 'k2': 'v2'}   #通过键去找值\n",
    "#访问字典的元素\n",
    "dicts['k1']\n",
    "#添加字典元素\n",
    "dicts['k3']='v3'\n",
    "#修改字典元素\n",
    "dicts['k1']='v001'\n",
    "#删除字典元素\n",
    "del dicts['k1']\n",
    "dicts"
   ]
  },
  {
   "cell_type": "code",
   "execution_count": 5,
   "id": "8629c48f",
   "metadata": {},
   "outputs": [
    {
     "data": {
      "text/plain": [
       "True"
      ]
     },
     "execution_count": 5,
     "metadata": {},
     "output_type": "execute_result"
    }
   ],
   "source": [
    "#字典的序列操作\n",
    "#成员检测(检测键)\n",
    "dicts\n",
    "'v1' not in dicts\n",
    "#序列函数(对键做操作)\n",
    "#len() 计算字典长度\n",
    "#max() 获取字典中最大的键\n",
    "#min() 获取字典中最小的键"
   ]
  },
  {
   "cell_type": "code",
   "execution_count": 10,
   "id": "4d23af94",
   "metadata": {},
   "outputs": [
    {
     "data": {
      "text/plain": [
       "dict_items([('k2', 'v2'), ('k3', 'v3')])"
      ]
     },
     "execution_count": 10,
     "metadata": {},
     "output_type": "execute_result"
    }
   ],
   "source": [
    "#字典的遍历\n",
    "# for key in dicts:\n",
    "#     print(dicts[key])\n",
    "\n",
    "\n",
    "# for key,value in dicts.items():\n",
    "#     print(key)\n",
    "#     print(value)\n",
    "\n",
    "dicts.items()"
   ]
  },
  {
   "cell_type": "code",
   "execution_count": 41,
   "id": "4544614a",
   "metadata": {},
   "outputs": [],
   "source": [
    "#字典的推导式\n",
    "#普通字典的推导式\n",
    "#变量 = {key:value for key value in 字典.items()}\n",
    "res = {key+'**': value for k,v in dicts.items()}\n",
    "\n",
    "#带有判断条件的字典推导式\n",
    "#变量 = {key:value for key value in 字典.items() if 判断条件}\n",
    "info = {\n",
    "    'name':'zs',\n",
    "    'age':20\n",
    "}\n",
    "res = {k:v for k,v in info.items() if k=='name'}\n",
    "\n",
    "#多个循环的字典内涵\n",
    "#变量={k1+k2: v1+v2 for k1,v1 in 字典1.items() for k2,v2 in 字典2.items() if 判断条件}"
   ]
  },
  {
   "cell_type": "code",
   "execution_count": 42,
   "id": "1b8cbf0f",
   "metadata": {},
   "outputs": [
    {
     "data": {
      "text/plain": [
       "{'name': 'zs', 'age': 20, 'school': 'hrbu'}"
      ]
     },
     "execution_count": 42,
     "metadata": {},
     "output_type": "execute_result"
    }
   ],
   "source": [
    "#字典的专用函数\n",
    "#功能：清空字典\n",
    "#格式：字典.clear()\n",
    "#返回值：None\n",
    "#注意：直接改变原有字典\n",
    "#info.clear()\n",
    "info\n",
    "\n",
    "#功能：复制字典\n",
    "#格式：字典.copy()\n",
    "#返回值：新的字典\n",
    "res= info.copy()\n",
    "\n",
    "#功能：根据键获取指定的值\n",
    "#格式：字典.get(键[默认值])\n",
    "#返回值：值(默认值)\n",
    "#注意:如果键不存在,则使用默认值，如果没有默认值返回None\n",
    "info.get('ages',18)\n",
    "\n",
    "\n",
    "#功能：将字典的键值转化为类似元组的形式方便遍历\n",
    "#格式：字典.items()\n",
    "#返回值:类似于元组的格式\n",
    "info.items()\n",
    "\n",
    "#功能：将字典的所有值组成一个序列\n",
    "#格式：字典.keys()\n",
    "#返回值：列表\n",
    "info.values()\n",
    "\n",
    "#pop()\n",
    "#功能：移除字典中指定的元素\n",
    "#格式：字典.pop(键[,默认值])\n",
    "#返回值：被移除的键对应的值\n",
    "#注意：如果键不存在，则报错，如果有默认值就返回默认值\n",
    "info.pop('ages','NULL')\n",
    "\n",
    "\n",
    "#功能：移除字典中的键值对\n",
    "#格式：字典.popitem()\n",
    "#返回值：键值对组成的元组\n",
    "#注意：弹出一个，原字典就少一个，字典为空不能弹出，并报错\n",
    "#info.popitem()\n",
    "\n",
    "#功能：添加一个元素\n",
    "#格式：字典.setdefault(键，值)\n",
    "#返回值：NONE\n",
    "#注意：添加时键存在不进行任何操作，键不存在则添加\n",
    "info.setdefault('school','hrbu')\n",
    "info\n",
    "\n",
    "#update\n",
    "#功能：修改字典中的值\n",
    "#方式1：字典.update(k=v)\n",
    "#方式2：字典.update({k:v})"
   ]
  },
  {
   "cell_type": "code",
   "execution_count": 47,
   "id": "3a5ecf19",
   "metadata": {},
   "outputs": [],
   "source": [
    "false = False\n",
    "true = True\n",
    "db_list = [{\"rating\":[\"9.3\",\"50\"],\"rank\":21,\"cover_url\":\"https://img1.doubanio.com\\/view\\/photo\\/s_ratio_poster\\/public\\/p2553104888.jpg\",\"is_playable\":false,\"id\":\"1291858\",\"types\":[\"剧情\",\"喜剧\"],\"regions\":[\"中国大陆\"],\"title\":\"鬼子来了\",\"url\":\"https:\\/\\/movie.douban.com\\/subject\\/1291858\\/\",\"release_date\":\"2000-05-12\",\"actor_count\":30,\"vote_count\":579568,\"score\":\"9.3\",\"actors\":[\"姜文\",\"香川照之\",\"袁丁\",\"姜宏波\",\"丛志军\",\"李丛喜\",\"泽田谦也\",\"李海滨\",\"蔡卫东\",\"陈述\",\"陈莲梅\",\"史建全\",\"陈强\",\"宫路佳具\",\"吴大维\",\"梶冈润一\",\"石山雄大\",\"述平\",\"姜武\",\"姜金才\",\"石山雄太\",\"山田将之\",\"贾幼然\",\"王义和\",\"杜世儒\",\"周海超\",\"白云生\",\"徐海东\",\"长野客弘\",\"鱼见亮介\"],\"is_watched\":false},{\"rating\":[\"9.3\",\"50\"],\"rank\":22,\"cover_url\":\"https://img9.doubanio.com\\/view\\/photo\\/s_ratio_poster\\/public\\/p1454261925.jpg\",\"is_playable\":true,\"id\":\"6786002\",\"types\":[\"剧情\",\"喜剧\"],\"regions\":[\"法国\"],\"title\":\"触不可及\",\"url\":\"https:\\/\\/movie.douban.com\\/subject\\/6786002\\/\",\"release_date\":\"2011-11-02\",\"actor_count\":17,\"vote_count\":1008172,\"score\":\"9.3\",\"actors\":[\"弗朗索瓦·克鲁塞\",\"奥玛·希\",\"安娜·勒尼\",\"奥德雷·弗勒罗\",\"约瑟芬娜·德·摩\",\"克洛蒂尔德·莫莱特\",\"阿尔芭·贝露琪\",\"萨丽马特·卡马特\",\"托马·索利韦尔\",\"让-弗朗索瓦·凯雷\",\"玛丽-洛尔·德库洛\",\"安托万·劳伦特\",\"Caroline Bourg\",\"海迪·布奇纳法\",\"艾米丽·卡恩\",\"多萝特博里埃\",\"皮埃尔-罗兰·巴纳隆\"],\"is_watched\":false},{\"rating\":[\"9.5\",\"50\"],\"rank\":23,\"cover_url\":\"https://img9.doubanio.com\\/view\\/photo\\/s_ratio_poster\\/public\\/p2528965424.jpg\",\"is_playable\":true,\"id\":\"1461403\",\"types\":[\"剧情\",\"历史\"],\"regions\":[\"中国大陆\"],\"title\":\"茶馆\",\"url\":\"https:\\/\\/movie.douban.com\\/subject\\/1461403\\/\",\"release_date\":\"1982\",\"actor_count\":36,\"vote_count\":113117,\"score\":\"9.5\",\"actors\":[\"于是之\",\"郑榕\",\"蓝天野\",\"英若诚\",\"黄宗洛\",\"童超\",\"金昭\",\"林连昆\",\"牛星丽\",\"谭宗尧\",\"童弟\",\"吴淑昆\",\"胡宗温\",\"程中\",\"李大千\",\"李源\",\"李翔\",\"张瞳\",\"任宝贤\",\"尚丽娟\",\"米铁增\",\"田春奎\",\"冯增祥\",\"雷飞\",\"林东升\",\"孟瑾\",\"孙峻峰\",\"平原\",\"曹世骧\",\"王大年\",\"王淑华\",\"张华\",\"丁海涛\",\"朱旭\",\"孙敬修\",\"董行佶\"],\"is_watched\":false},{\"rating\":[\"9.3\",\"50\"],\"rank\":24,\"cover_url\":\"https://img9.doubanio.com\\/view\\/photo\\/s_ratio_poster\\/public\\/p616779645.jpg\",\"is_playable\":true,\"id\":\"1291841\",\"types\":[\"剧情\",\"犯罪\"],\"regions\":[\"美国\"],\"title\":\"教父\",\"url\":\"https:\\/\\/movie.douban.com\\/subject\\/1291841\\/\",\"release_date\":\"1972-03-15\",\"actor_count\":34,\"vote_count\":893247,\"score\":\"9.3\",\"actors\":[\"马龙·白兰度\",\"阿尔·帕西诺\",\"詹姆斯·肯恩\",\"理查德·卡斯特尔诺\",\"罗伯特·杜瓦尔\",\"斯特林·海登\",\"约翰·马利\",\"理查德·康特\",\"艾尔·勒提埃里\",\"黛安·基顿\",\"阿贝·维高达\",\"塔莉娅·夏尔\",\"吉亚尼·罗素\",\"约翰·凯泽尔\",\"鲁迪·邦德\",\"兰尼·蒙大拿\",\"索菲亚·科波拉\",\"弗兰科·奇蒂\",\"西蒙蕾妲·瑟法奈尼\",\"理查德·布赖特\",\"朱莉·格雷格\",\"阿历克斯·罗克\",\"卡迈恩·科波拉\",\"萨罗·乌尔齐\",\"阿尔·马蒂诺\",\"摩甘娜金\",\"安杰洛·伊凡蒂\",\"柯拉朵加伊帕\",\"维托·斯科蒂\",\"约翰马迪诺\",\"维克多伦蒂纳\",\"托尼·乔治\",\"加里·弗雷德里克森\",\"桑尼格鲁索\"],\"is_watched\":false},{\"rating\":[\"9.3\",\"50\"],\"rank\":25,\"cover_url\":\"https://img9.doubanio.com\\/view\\/photo\\/s_ratio_poster\\/public\\/p1363250216.jpg\",\"is_playable\":false,\"id\":\"5912992\",\"types\":[\"剧情\"],\"regions\":[\"韩国\"],\"title\":\"熔炉\",\"url\":\"https:\\/\\/movie.douban.com\\/subject\\/5912992\\/\",\"release_date\":\"2011-09-22\",\"actor_count\":22,\"vote_count\":872280,\"score\":\"9.3\",\"actors\":[\"孔刘\",\"郑有美\",\"金贤秀\",\"郑仁絮\",\"白承焕\",\"张光\",\"金民尚\",\"林贤成\",\"金周灵\",\"严孝燮\",\"全国焕\",\"崔镇浩\",\"金志映\",\"严智星\",\"许在浩\",\"张素妍\",\"金智怜\",\"张宥\",\"朴惠珍\",\"林贤成\",\"郑亨锡\",\"洪锡然\"],\"is_watched\":false},{\"rating\":[\"9.5\",\"50\"],\"rank\":26,\"cover_url\":\"https://img1.doubanio.com\\/view\\/photo\\/s_ratio_poster\\/public\\/p2505048077.jpg\",\"is_playable\":true,\"id\":\"1307856\",\"types\":[\"剧情\"],\"regions\":[\"中国大陆\",\"中国香港\"],\"title\":\"背靠背，脸对脸\",\"url\":\"https:\\/\\/movie.douban.com\\/subject\\/1307856\\/\",\"release_date\":\"1994-09-10\",\"actor_count\":18,\"vote_count\":110046,\"score\":\"9.5\",\"actors\":[\"牛振华\",\"雷恪生\",\"李强\",\"句号\",\"王劲松\",\"戈治均\",\"佘南南\",\"张嘉益\",\"刘国祥\",\"徐学政\",\"林海海\",\"温谦\",\"马载军\",\"吴玮玲\",\"张艺\",\"韩炳杰\",\"杨亚洲\",\"王洪光\"],\"is_watched\":false},{\"rating\":[\"9.3\",\"50\"],\"rank\":27,\"cover_url\":\"https://img2.doubanio.com\\/view\\/photo\\/s_ratio_poster\\/public\\/p2642829472.jpg\",\"is_playable\":true,\"id\":\"1291552\",\"types\":[\"剧情\",\"动作\",\"奇幻\",\"冒险\"],\"regions\":[\"美国\",\"新西兰\"],\"title\":\"指环王3：王者无敌\",\"url\":\"https:\\/\\/movie.douban.com\\/subject\\/1291552\\/\",\"release_date\":\"2004-03-12\",\"actor_count\":67,\"vote_count\":746268,\"score\":\"9.3\",\"actors\":[\"伊利亚·伍德\",\"西恩·奥斯汀\",\"维果·莫腾森\",\"奥兰多·布鲁姆\",\"伊恩·麦克莱恩\",\"肖恩·宾\",\"多米尼克·莫纳汉\",\"丽芙·泰勒\",\"约翰·贝西\",\"凯特·布兰切特\",\"比利·博伊德\",\"萨德文·布罗菲\",\"阿利斯泰尔·布朗宁\",\"马尔顿·索克斯\",\"伯纳德·希尔\",\"伊安·霍姆\",\"布鲁斯·霍普金斯\",\"Ian Hughes\",\"劳伦斯·马克奥雷\",\"诺埃尔·阿普利比\",\"布雷特·麦肯齐\",\"Alexandra Astin\",\"Sarah McLeod\",\"Maisy McLeod-Riera\",\"约翰·诺贝尔\",\"Paul Norell\",\"米兰达·奥图\",\"布鲁斯·菲利普斯\",\"沙恩·朗吉\",\"约翰·瑞斯-戴维斯\",\"Todd Rippon\",\"安迪·瑟金斯\",\"Harry Sinclair\",\"乔尔·托贝克\",\"卡尔·厄本\",\"史蒂芬·乌瑞\",\"雨果·维文\",\"大卫·文翰\",\"阿兰·霍华德\",\"萨拉·贝克\",\"Robert Pollock\",\"佩特·史密斯\",\"杰德·布罗菲\",\"菲利普·格里夫\",\"布拉德·道里夫\",\"克里斯托弗·李\",\"布鲁斯·斯宾斯\",\"吉诺·阿赛维多\",\"Jarl Benzon\",\"Jørn Benzon\",\"Robert Catto\",\"Michael Elsworth\",\"彼得·杰克逊\",\"Sandro Kopp\",\"安德鲁·莱斯尼\",\"约瑟夫·米卡-亨特\",\"亨利·莫腾森\",\"克雷格·帕克\",\"克里斯蒂安·瑞沃斯\",\"迈克尔·斯曼内科 \",\"霍华德·肖\",\"约翰·斯蒂芬森\",\"理查德·泰勒\",\"张磊\",\"姜广涛\",\"周志强\",\"金永钢\"],\"is_watched\":false},{\"rating\":[\"9.3\",\"50\"],\"rank\":28,\"cover_url\":\"https://img3.doubanio.com\\/view\\/photo\\/s_ratio_poster\\/public\\/p1963126880.jpg\",\"is_playable\":true,\"id\":\"1300267\",\"types\":[\"剧情\",\"历史\",\"爱情\",\"战争\"],\"regions\":[\"美国\"],\"title\":\"乱世佳人\",\"url\":\"https:\\/\\/movie.douban.com\\/subject\\/1300267\\/\",\"release_date\":\"1939-12-15\",\"actor_count\":37,\"vote_count\":643324,\"score\":\"9.3\",\"actors\":[\"费雯·丽\",\"克拉克·盖博\",\"奥利维娅·德哈维兰\",\"托马斯·米切尔\",\"芭芭拉·欧内尔\",\"伊夫林·凯耶斯\",\"安·卢瑟福德\",\"乔治·里弗斯\",\"弗莱德·克莱恩\",\"海蒂·麦克丹尼尔斯\",\"奥斯卡·波尔克\",\"巴特弗莱·麦昆\",\"维克托·乔里\",\"埃弗雷特·布朗\",\"霍华德·C·希克曼\",\"艾丽西亚·瑞特\",\"莱斯利·霍华德\",\"兰德·布鲁克斯\",\"卡洛尔·奈\",\"劳拉·霍普·克鲁斯\",\"埃迪·安德森\",\"哈里·达文波特\",\"利昂娜·罗伯特\",\"简·达威尔\",\"欧娜·满森\",\"保罗·赫斯特\",\"伊莎贝尔·朱尔\",\"卡米·金·肯伦\",\"艾瑞克·林登\",\"J·M·克里根\",\"沃德·邦德\",\"莉莲·肯布尔-库珀\",\"李守贞\",\"唐烨\",\"吴文伦\",\"查曼若\",\"彭河\"],\"is_watched\":false},{\"rating\":[\"9.3\",\"50\"],\"rank\":29,\"cover_url\":\"https://img9.doubanio.com\\/view\\/photo\\/s_ratio_poster\\/public\\/p2118532944.jpg\",\"is_playable\":false,\"id\":\"21937452\",\"types\":[\"剧情\"],\"regions\":[\"韩国\"],\"title\":\"素媛\",\"url\":\"https:\\/\\/movie.douban.com\\/subject\\/21937452\\/\",\"release_date\":\"2013-10-02\",\"actor_count\":15,\"vote_count\":634797,\"score\":\"9.3\",\"actors\":[\"薛景求\",\"严志媛\",\"李来\",\"金海淑\",\"金相浩\",\"罗美兰\",\"杨真诚\",\"权泰元\",\"赵福来\",\"徐现宇\",\"宋英奎\",\"郑敏圣\",\"曹文义\",\"金道烨\",\"车美京\"],\"is_watched\":false},{\"rating\":[\"9.3\",\"50\"],\"rank\":30,\"cover_url\":\"https://img2.doubanio.com\\/view\\/photo\\/s_ratio_poster\\/public\\/p792376093.jpg\",\"is_playable\":true,\"id\":\"1296736\",\"types\":[\"剧情\",\"传记\",\"战争\",\"音乐\"],\"regions\":[\"英国\",\"法国\",\"波兰\",\"德国\"],\"title\":\"钢琴家\",\"url\":\"https:\\/\\/movie.douban.com\\/subject\\/1296736\\/\",\"release_date\":\"2002-05-24\",\"actor_count\":19,\"vote_count\":570163,\"score\":\"9.3\",\"actors\":[\"艾德里安·布洛迪\",\"托马斯·克莱舒曼\",\"艾米莉娅·福克斯\",\"米哈乌·热布罗夫斯基\",\"埃德·斯托帕德\",\"穆琳·利普曼\",\"弗兰克·芬莱\",\"茱莉亚·蕾娜\",\"杰西卡·凯特·梅耶尔\",\"理查德·赖丁斯\",\"泽比纽·扎马洲斯基\",\"安德鲁·蒂曼\",\"丹尼尔·卡尔塔吉罗内\",\"约翰·基奥\",\"露丝·普拉特\",\"雅努什·奥莱伊尼恰克\",\"帕韦尔·伯克齐克\",\"索菲娅·切尔文斯卡\",\"Emilio Fernandez\"],\"is_watched\":false},{\"rating\":[\"9.3\",\"50\"],\"rank\":31,\"cover_url\":\"https://img9.doubanio.com\\/view\\/photo\\/s_ratio_poster\\/public\\/p2554525534.jpg\",\"is_playable\":true,\"id\":\"25958717\",\"types\":[\"剧情\",\"冒险\",\"家庭\"],\"regions\":[\"德国\",\"瑞士\"],\"title\":\"海蒂和爷爷\",\"url\":\"https:\\/\\/movie.douban.com\\/subject\\/25958717\\/\",\"release_date\":\"2019-05-16\",\"actor_count\":20,\"vote_count\":521004,\"score\":\"9.3\",\"actors\":[\"阿努克·斯特芬\",\"布鲁诺·冈茨\",\"昆林·艾格匹\",\"安娜·申茨\",\"伊莎贝尔·奥特曼\",\"莉莲·奈福\",\"彼得·杰克林\",\"克里斯托夫·高格勒\",\"丽贝卡·因德穆\",\"莫妮卡·古布瑟\",\"阿瑟·比勒\",\"玛丽埃塔·耶米\",\"彼得·洛迈尔\",\"卡塔琳娜·舒特勒\",\"杰拉·哈斯\",\"迈克尔·克兰茨\",\"劳拉·帕克\",\"马库斯·赫林\",\"马克西姆·梅米特\",\"汉娜洛蕾·赫格\"],\"is_watched\":false},{\"rating\":[\"9.3\",\"50\"],\"rank\":32,\"cover_url\":\"https://img1.doubanio.com\\/view\\/photo\\/s_ratio_poster\\/public\\/p2194138787.jpg\",\"is_playable\":true,\"id\":\"1299131\",\"types\":[\"剧情\",\"犯罪\"],\"regions\":[\"美国\"],\"title\":\"教父2\",\"url\":\"https:\\/\\/movie.douban.com\\/subject\\/1299131\\/\",\"release_date\":\"1974-12-12\",\"actor_count\":63,\"vote_count\":506968,\"score\":\"9.3\",\"actors\":[\"阿尔·帕西诺\",\"罗伯特·杜瓦尔\",\"黛安·基顿\",\"罗伯特·德尼罗\",\"约翰·凯泽尔\",\"塔莉娅·夏尔\",\"李·斯特拉斯伯格\",\"迈克尔·V·格佐\",\"G•D•斯普拉德林\",\"理查德·布赖特\",\"加斯通·莫辛\",\"汤姆·罗斯奎\",\"布鲁诺·柯比\",\"弗兰克·西维罗\",\"弗朗西丝卡·德·萨维奥\",\"摩甘娜金\",\"玛丽亚娜·希尔\",\"莱奥波多·特里耶斯泰\",\"多米尼克·查尼斯\",\"Amerigo Tot\",\"特洛伊·多纳胡\",\"约翰·阿普雷亚\",\"乔·斯皮内尔\",\"阿贝·维高达\",\"吉亚尼·罗素\",\"Maria Carta\",\"菲伊·斯潘\",\"哈利·戴恩·斯坦通\",\"卡明·卡里迪\",\"丹尼·爱罗\",\"威廉·鲍尔斯\",\"约瑟夫·德拉·索尔特\",\"卡门·阿尔根齐亚诺\",\"乔·罗·格里普\",\"Ezio Flagello\",\"凯瑟琳·贝勒\",\"Saveria Mazzola\",\"Tito Alba\",\"彼得·多纳特\",\"汤姆·达尔格伦\",\"Phil Feldman\",\"罗杰·科曼\",\"伊凡·科尔\",\"艾丽卡·约恩\",\"Teresa Tirelli\",\"詹姆斯·肯恩\",\"Italia Coppola\",\"罗曼·科波拉\",\"索菲亚·科波拉\",\"朱莉·格雷格\",\"George Holmes\",\"Buck Houghton\",\"Shep Houghton\",\"小杉正一\",\"加里·库尔茨\",\"Laura Lyons\",\"理查德·麦瑟森\",\"约翰·梅根纳\",\"Harrison Ressler\",\"Al Roberts\",\"Hank Robinson\",\"Filomena Spagnuolo\",\"朱利安·沃洛辛\"],\"is_watched\":false},{\"rating\":[\"9.2\",\"50\"],\"rank\":33,\"cover_url\":\"https://img2.doubanio.com\\/view\\/photo\\/s_ratio_poster\\/public\\/p579729551.jpg\",\"is_playable\":true,\"id\":\"3793023\",\"types\":[\"剧情\",\"喜剧\",\"爱情\",\"歌舞\"],\"regions\":[\"印度\"],\"title\":\"三傻大闹宝莱坞\",\"url\":\"https:\\/\\/movie.douban.com\\/subject\\/3793023\\/\",\"release_date\":\"2011-12-08\",\"actor_count\":13,\"vote_count\":1747258,\"score\":\"9.2\",\"actors\":[\"阿米尔·汗\",\"卡琳娜·卡普尔\",\"马达范\",\"沙尔曼·乔希\",\"奥米·瓦依达\",\"博曼·伊拉尼\",\"莫娜·辛格\",\"拉杰夫·拉宾德拉纳特安\",\"Atul Tiwari\",\"阿里·法扎勒\",\"帕里卡沙特.萨赫尼\",\"Rakesh Sharma\",\"贾维德·杰弗里\"],\"is_watched\":false},{\"rating\":[\"9.2\",\"45\"],\"rank\":34,\"cover_url\":\"https://img9.doubanio.com\\/view\\/photo\\/s_ratio_poster\\/public\\/p2614359276.jpg\",\"is_playable\":true,\"id\":\"1849031\",\"types\":[\"剧情\",\"传记\",\"家庭\"],\"regions\":[\"美国\"],\"title\":\"当幸福来敲门\",\"url\":\"https:\\/\\/movie.douban.com\\/subject\\/1849031\\/\",\"release_date\":\"2008-01-17\",\"actor_count\":43,\"vote_count\":1422719,\"score\":\"9.2\",\"actors\":[\"威尔·史密斯\",\"贾登·史密斯\",\"坦迪·牛顿\",\"布莱恩·豪威 \",\"詹姆斯·凯伦\",\"丹·卡斯泰兰尼塔\",\"柯特·富勒\",\"塔卡尤·费舍尔\",\"凯文·韦斯特\",\"乔治·张\",\"戴维·迈克尔·西尔弗曼\",\"多米尼克·博夫\",\"杰弗·卡伦\",\"乔伊芙·拉文\",\"斯科特·克拉斯\",\"希瑟·坎特\",\"约翰·帕特里克·舒拉克\",\"大卫·皮尔\",\"伊斯特·斯高特\",\"罗明\",\"亚当·王\",\"拉希达·克伦迪宁\",\"大卫·芬恩\",\"扎克·布拉夫\",\"莫莉·塞拉斯基\",\"加瑞特·法贝斯\",\"克里斯·加德纳\",\"马克·克里斯托弗·劳伦斯\",\"乔治·马奎尔\",\"扎卡里·卡伯森\",\"戴维·阿伦·霍奇斯\",\"亚历山大·库科尔\",\"多恩·安德鲁·西蒙斯\",\"阿米尔·塔莱\",\"塞雷娜·锡德\",\"凯文·克鲁克\",\"詹姆斯·科纳\",\"亚当·德尔·里奥\",\"里克·坎普\",\"威廉·保罗·史密斯\",\"塞西尔·威廉斯\",\"维克托·莱德·维斯勒\",\"艾丽莎·安德瑞格\"],\"is_watched\":false},{\"rating\":[\"9.4\",\"50\"],\"rank\":35,\"cover_url\":\"https://img9.doubanio.com\\/view\\/photo\\/s_ratio_poster\\/public\\/p1516628925.jpg\",\"is_playable\":false,\"id\":\"5450891\",\"types\":[\"剧情\",\"爱情\",\"灾难\"],\"regions\":[\"美国\"],\"title\":\"泰坦尼克号 3D版\",\"url\":\"https:\\/\\/movie.douban.com\\/subject\\/5450891\\/\",\"release_date\":\"2012-04-10\",\"actor_count\":37,\"vote_count\":206460,\"score\":\"9.4\",\"actors\":[\"莱昂纳多·迪卡普里奥\",\"凯特·温丝莱特\",\"比利·赞恩\",\"凯西·贝茨\",\"弗兰西丝·费舍\",\"格劳瑞亚·斯图尔特\",\"比尔·帕克斯顿\",\"伯纳德·希尔\",\"大卫·沃纳\",\"维克多·加博\",\"乔纳森·海德\",\"苏茜·爱米斯\",\"刘易斯·阿伯内西\",\"尼古拉斯·卡斯柯恩\",\"阿那托利·萨加洛维奇\",\"丹尼·努齐\",\"杰森·贝瑞\",\"伊万·斯图尔特\",\"迈克尔·英塞恩\",\"博纳德·福克斯\",\"夏洛特·查顿\",\"季冠霖\",\"艾瑞克·布里登\",\"罗恩·多纳基\",\"詹妮特·戈德斯坦恩\",\"Linda Kerns\",\"西蒙·克雷恩\",\"克雷格·凯利\",\"德里克·李\",\"保罗·赫伯特\",\"马丁·贾维斯\",\"詹姆斯·卡梅隆\",\"马克·林赛·查普曼\",\"爱德华德·弗莱彻\",\"艾恩·格拉法德\",\"罗切尔·罗斯\",\"史蒂文·奎里\"],\"is_watched\":false},{\"rating\":[\"9.2\",\"45\"],\"rank\":36,\"cover_url\":\"https://img2.doubanio.com\\/view\\/photo\\/s_ratio_poster\\/public\\/p1910899751.jpg\",\"is_playable\":false,\"id\":\"1291818\",\"types\":[\"剧情\",\"家庭\"],\"regions\":[\"中国台湾\",\"美国\"],\"title\":\"饮食男女\",\"url\":\"https:\\/\\/movie.douban.com\\/subject\\/1291818\\/\",\"release_date\":\"1994-08-03\",\"actor_count\":20,\"vote_count\":570027,\"score\":\"9.2\",\"actors\":[\"郎雄\",\"杨贵媚\",\"吴倩莲\",\"王渝文\",\"张艾嘉\",\"归亚蕾\",\"赵文瑄\",\"陈昭荣\",\"陈捷文\",\"卢金城\",\"唐语谦\",\"洪其德\",\"王瑞\",\"杜满生\",\"王玨\",\"陈妤\",\"左正芬\",\"许敬民\",\"聂卓晶\",\"丁仲\"],\"is_watched\":false},{\"rating\":[\"9.2\",\"50\"],\"rank\":37,\"cover_url\":\"https://img2.doubanio.com\\/view\\/photo\\/s_ratio_poster\\/public\\/p462657443.jpg\",\"is_playable\":true,\"id\":\"1851857\",\"types\":[\"剧情\",\"动作\",\"科幻\",\"犯罪\",\"惊悚\"],\"regions\":[\"美国\",\"英国\"],\"title\":\"蝙蝠侠：黑暗骑士\",\"url\":\"https:\\/\\/movie.douban.com\\/subject\\/1851857\\/\",\"release_date\":\"2008-07-14\",\"actor_count\":40,\"vote_count\":986417,\"score\":\"9.2\",\"actors\":[\"克里斯蒂安·贝尔\",\"希斯·莱杰\",\"艾伦·艾克哈特\",\"迈克尔·凯恩\",\"玛吉·吉伦哈尔\",\"加里·奥德曼\",\"摩根·弗里曼\",\"莫尼克·加布里埃拉·库尔内\",\"罗恩·迪恩\",\"基里安·墨菲\",\"黄经汉\",\"内斯特·卡博内尔\",\"埃里克·罗伯茨\",\"里特奇·科斯特\",\"安东尼·迈克尔·豪尔\",\"基斯·斯扎拉巴基克\",\"柯林·麦克法兰\",\"约书亚·哈尔托\",\"美琳达·麦格劳\",\"内森·甘宝\",\"迈克尔·维约\",\"迈克尔·斯托扬诺夫\",\"威廉·斯米利\",\"丹尼·高德林\",\"迈克尔·加·怀特\",\"马修·奥尼尔\",\"威廉·菲克纳\",\"欧鲁米基·欧拉乌米\",\"格雷格·比姆\",\"爱利克·赫尔曼\",\"毕崔斯·罗森\",\"文森佐·尼克力\",\"陈冠希\",\"亚当·卡莱佩里斯\",\"罗南·萨莫尔斯\",\"玛丽扎·卡布蕾拉\",\"Tina Simmons\",\"大卫·达斯马齐连\",\"利萨·麦克阿里斯特\",\"理查德·迪兰\"],\"is_watched\":false},{\"rating\":[\"9.2\",\"45\"],\"rank\":38,\"cover_url\":\"https://img9.doubanio.com\\/view\\/photo\\/s_ratio_poster\\/public\\/p2640236255.jpg\",\"is_playable\":true,\"id\":\"1291572\",\"types\":[\"剧情\",\"动作\",\"奇幻\",\"冒险\"],\"regions\":[\"美国\",\"新西兰\"],\"title\":\"指环王2：双塔奇兵\",\"url\":\"https:\\/\\/movie.douban.com\\/subject\\/1291572\\/\",\"release_date\":\"2003-04-25\",\"actor_count\":58,\"vote_count\":697279,\"score\":\"9.2\",\"actors\":[\"伊利亚·伍德\",\"西恩·奥斯汀\",\"多米尼克·莫纳汉\",\"奥兰多·布鲁姆\",\"维果·莫腾森\",\"伊恩·麦克莱恩\",\"凯特·布兰切特\",\"比利·博伊德\",\"杰德·布罗菲\",\"丽芙·泰勒\",\"安迪·瑟金斯\",\"米兰达·奥图\",\"雨果·维文\",\"布拉德·道里夫\",\"卡卢姆·吉廷斯\",\"伯纳德·希尔\",\"布鲁斯·霍普金斯\",\"克里斯托弗·李\",\"纳撒尼尔·利斯\",\"罗宾·马尔科姆\",\"约翰·贝西\",\"萨拉·贝克\",\"克雷格·帕克\",\"布鲁斯·菲利普斯\",\"Robert Pollock\",\"约翰·瑞斯-戴维斯\",\"奥利维亚·田內\",\"卡尔·厄本\",\"史蒂芬·乌瑞\",\"大卫·文翰\",\"菲利普·格里夫\",\"肖恩·宾\",\"约翰·诺贝尔\",\"Jarl Benzon\",\"Jørn Benzon\",\"Ben Britton\",\"阿利斯泰尔·布朗宁\",\"Sean Button\",\"Robert Catto\",\"罗德尼·库克\",\"卡尔洛斯·德林克沃特\",\"西奥沙福瓦\",\"本·弗兰舍姆\",\"Jonathan Harding\",\"Lucas Hayward\",\"丹·汉纳\",\"保罗·霍姆斯\",\"杰森霍德\",\"彼得·杰克逊\",\"Sam Kelly\",\"Sandro Kopp\",\"姜广涛\",\"张磊\",\"陆建艺\",\"金永钢\",\"劳伦斯·马克奥雷\",\"布鲁克·奥佩斯\",\"周志强\"],\"is_watched\":false},{\"rating\":[\"9.2\",\"45\"],\"rank\":39,\"cover_url\":\"https://img3.doubanio.com\\/view\\/photo\\/s_ratio_poster\\/public\\/p2653054340.jpg\",\"is_playable\":true,\"id\":\"1291828\",\"types\":[\"剧情\",\"爱情\"],\"regions\":[\"意大利\",\"法国\"],\"title\":\"天堂电影院\",\"url\":\"https:\\/\\/movie.douban.com\\/subject\\/1291828\\/\",\"release_date\":\"2021-06-11\",\"actor_count\":19,\"vote_count\":641545,\"score\":\"9.2\",\"actors\":[\"菲利普·努瓦雷\",\"萨瓦特利·卡西欧\",\"雅克·贝汉\",\"马克·莱昂纳蒂\",\"莱奥波多·特里耶斯泰\",\"安东内拉·阿蒂利\",\"恩佐·卡拉瓦勒\",\"艾萨·丹尼埃利\",\"里奥·故罗塔\",\"普佩拉·玛奇奥\",\"阿格妮丝·那诺\",\"塔诺·希玛罗萨\",\"尼古拉·迪·平托\",\"罗伯塔·蕾娜\",\"尼诺·戴罗佐\",\"玛丽娜·朱迪切\",\"比阿特丽斯·帕姆\",\"布丽吉特·佛西\",\"朱塞佩·托纳多雷\"],\"is_watched\":false},{\"rating\":[\"9.3\",\"50\"],\"rank\":40,\"cover_url\":\"https://img1.doubanio.com\\/view\\/photo\\/s_ratio_poster\\/public\\/p2263408369.jpg\",\"is_playable\":true,\"id\":\"1294371\",\"types\":[\"剧情\",\"喜剧\",\"爱情\"],\"regions\":[\"美国\"],\"title\":\"摩登时代\",\"url\":\"https:\\/\\/movie.douban.com\\/subject\\/1294371\\/\",\"release_date\":\"1936-02-25\",\"actor_count\":37,\"vote_count\":276876,\"score\":\"9.3\",\"actors\":[\"查理·卓别林\",\"宝莲·高黛\",\"亨利·伯格曼\",\"蒂尼·桑福德\",\"切斯特·康克林\",\"汉克·曼\",\"斯坦利·布莱斯通\",\"阿尔·欧内斯特·加西亚\",\"理查德·亚历山大\",\"塞西尔·雷诺兹\",\"米拉·麦金尼\",\"默多克·麦夸里\",\"威尔弗雷德·卢卡斯\",\"爱德华·勒桑\",\"弗雷德·马拉泰斯塔\",\"萨米·斯坦\",\"特德·奥利弗\",\"诺曼·安斯利\",\"博比·巴伯\",\"海尼·康克林\",\"格洛丽亚·德黑文\",\"帕特·弗莱厄蒂\",\"弗兰克·哈格尼\",\"帕特·哈蒙\",\"劳埃德·英格拉哈姆\",\"沃尔特·詹姆斯\",\"爱德华·金博尔\",\"杰克·洛\",\"巴迪·梅辛杰\",\"布鲁斯·米切尔\",\"弗兰克·莫兰\",\"詹姆斯·C·莫顿\",\"路易·纳托\",\"J·C·纽金特\",\"拉斯·鲍威尔\",\"约翰兰德\",\"哈里·威尔逊\"],\"is_watched\":false}]"
   ]
  },
  {
   "cell_type": "code",
   "execution_count": 48,
   "id": "abbe776f",
   "metadata": {},
   "outputs": [
    {
     "data": {
      "text/plain": [
       "20"
      ]
     },
     "execution_count": 48,
     "metadata": {},
     "output_type": "execute_result"
    }
   ],
   "source": [
    "len(db_list)"
   ]
  },
  {
   "cell_type": "code",
   "execution_count": 52,
   "id": "81a51143",
   "metadata": {},
   "outputs": [
    {
     "name": "stdout",
     "output_type": "stream",
     "text": [
      "['中国大陆']\n",
      "['法国']\n",
      "['中国大陆']\n",
      "['美国']\n",
      "['韩国']\n",
      "['中国大陆', '中国香港']\n",
      "['美国', '新西兰']\n",
      "['美国']\n",
      "['韩国']\n",
      "['英国', '法国', '波兰', '德国']\n",
      "['德国', '瑞士']\n",
      "['美国']\n",
      "['印度']\n",
      "['美国']\n",
      "['美国']\n",
      "['中国台湾', '美国']\n",
      "['美国', '英国']\n",
      "['美国', '新西兰']\n",
      "['意大利', '法国']\n",
      "['美国']\n"
     ]
    }
   ],
   "source": [
    "for i in db_list:\n",
    "    rating=i['rating'][0]\n",
    "    star=i['rating'][1]\n",
    "    pic_url=i['cover_url']\n",
    "    type = i['types']\n",
    "    area=i['regions']\n",
    "    title=i['title']\n",
    "    print(area)"
   ]
  },
  {
   "cell_type": "code",
   "execution_count": null,
   "id": "0d3f9d0d",
   "metadata": {},
   "outputs": [],
   "source": []
  }
 ],
 "metadata": {
  "kernelspec": {
   "display_name": "Python 3 (ipykernel)",
   "language": "python",
   "name": "python3"
  },
  "language_info": {
   "codemirror_mode": {
    "name": "ipython",
    "version": 3
   },
   "file_extension": ".py",
   "mimetype": "text/x-python",
   "name": "python",
   "nbconvert_exporter": "python",
   "pygments_lexer": "ipython3",
   "version": "3.9.12"
  }
 },
 "nbformat": 4,
 "nbformat_minor": 5
}
