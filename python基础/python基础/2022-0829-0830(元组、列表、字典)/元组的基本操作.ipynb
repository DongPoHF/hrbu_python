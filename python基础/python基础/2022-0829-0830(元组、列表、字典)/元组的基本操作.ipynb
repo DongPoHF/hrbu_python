{
 "cells": [
  {
   "cell_type": "code",
   "execution_count": 1,
   "id": "a0abc1ed",
   "metadata": {},
   "outputs": [],
   "source": [
    "#元组操作\n",
    "#特性:元组不可修改\n",
    "#列表 能擦能改\n",
    "#元组 不能擦改\n",
    "\n",
    "tuple_1=('a')\n",
    "tuple_1 = 'a'\n",
    "\n",
    "#多个元素的元组\n",
    "tuple_n=(1,2,3,4)\n",
    "tuple_n=1,2,3,4"
   ]
  },
  {
   "cell_type": "code",
   "execution_count": 2,
   "id": "a2d3bb0b",
   "metadata": {},
   "outputs": [
    {
     "data": {
      "text/plain": [
       "'陈思成'"
      ]
     },
     "execution_count": 2,
     "metadata": {},
     "output_type": "execute_result"
    }
   ],
   "source": [
    "#基本操作\n",
    "tuple_n=('aaaa','陈思成','吐槽')\n",
    "tuple_n[1]"
   ]
  },
  {
   "cell_type": "code",
   "execution_count": 4,
   "id": "4e1f4908",
   "metadata": {},
   "outputs": [
    {
     "data": {
      "text/plain": [
       "('aaaa', '陈思成', '吐槽', '娱乐新闻')"
      ]
     },
     "execution_count": 4,
     "metadata": {},
     "output_type": "execute_result"
    }
   ],
   "source": [
    "#序列操作\n",
    "#元组相加 拼接\n",
    "tuple_2 = ('娱乐新闻',)\n",
    "res = tuple_n + tuple_2\n",
    "res"
   ]
  },
  {
   "cell_type": "code",
   "execution_count": 5,
   "id": "e74e5e89",
   "metadata": {},
   "outputs": [],
   "source": [
    "#分片操作"
   ]
  },
  {
   "cell_type": "code",
   "execution_count": 7,
   "id": "b8e5751e",
   "metadata": {},
   "outputs": [
    {
     "data": {
      "text/plain": [
       "False"
      ]
     },
     "execution_count": 7,
     "metadata": {},
     "output_type": "execute_result"
    }
   ],
   "source": [
    "#成员检测\n",
    "'娱乐新闻'  not in res    #in  /  not in\n",
    "#序列函数\n",
    "'''\n",
    "len()获取元组的长度\n",
    "max()获取元组中的最大值\n",
    "min()获取元族中的最小值\n",
    "'''"
   ]
  },
  {
   "cell_type": "code",
   "execution_count": 12,
   "id": "31315eb2",
   "metadata": {},
   "outputs": [
    {
     "name": "stdout",
     "output_type": "stream",
     "text": [
      "aaaa\n",
      "陈思成\n",
      "er\n",
      "吐槽\n",
      "娱乐新闻\n"
     ]
    },
    {
     "data": {
      "text/plain": [
       "'er'"
      ]
     },
     "execution_count": 12,
     "metadata": {},
     "output_type": "execute_result"
    }
   ],
   "source": [
    "#元组的遍历\n",
    "# for i in res:\n",
    "#     print(i)\n",
    "\n",
    "# i= 0\n",
    "# while i<len(res):\n",
    "#     print(res[i])\n",
    "#     i+=1\n",
    "\n",
    "res=(('aaaa', '陈思成','er'),( '吐槽', '娱乐新闻'))\n",
    "# for i,j in res:\n",
    "#     print(i)\n",
    "#     print(j)\n",
    "for i in res:\n",
    "    for j in i:\n",
    "        print(j)\n",
    "res[0][2]"
   ]
  },
  {
   "cell_type": "code",
   "execution_count": 14,
   "id": "225a6a84",
   "metadata": {},
   "outputs": [
    {
     "data": {
      "text/plain": [
       "<generator object <genexpr> at 0x000001E2C9894BA0>"
      ]
     },
     "execution_count": 14,
     "metadata": {},
     "output_type": "execute_result"
    }
   ],
   "source": [
    "#元组的推导式 得到的结果是一个生成器 而不是元组本身\n",
    "tuple_n\n",
    "result = (i for i in tuple_n)\n",
    "result"
   ]
  },
  {
   "cell_type": "markdown",
   "id": "f51c71c9",
   "metadata": {},
   "source": [
    "## 元组的推导式\n",
    "格式：变量=(i for i in 元组) <br>\n",
    "结果：不是元组而是一个生成器<br>\n",
    "\n",
    "## 带判断的条件格式\n",
    "格式：变量=(i for i in 元组 if 条件表达式)<br>\n",
    "结果：不是元组而是一个生成器<br>\n",
    "\n",
    "## 多循环的推导式\n",
    "格式：变量=(x+y x for x in 元组1 for y in 元组2)<br>\n",
    "结果：不是元组而是一个生成器<br> x+y可以是其他操作\n",
    "\n",
    "## 带条件 多循环的推导式\n",
    "格式：变量=(x+y x for x in 元组1 for y in 元组2 if 条件表达式)<br>\n",
    "结果：不是元组而是一个生成器<br> x+y可以是其他操作"
   ]
  },
  {
   "cell_type": "code",
   "execution_count": 17,
   "id": "2b784627",
   "metadata": {},
   "outputs": [
    {
     "data": {
      "text/plain": [
       "1"
      ]
     },
     "execution_count": 17,
     "metadata": {},
     "output_type": "execute_result"
    }
   ],
   "source": [
    "#元组函数\n",
    "#index() 获取指定的值在元组中的索引值\n",
    "tuple_n.index('aaaa')\n",
    "\n",
    "\n",
    "#count()\n",
    "tuple_n.count('aaaa')"
   ]
  },
  {
   "cell_type": "code",
   "execution_count": null,
   "id": "49e4ac72",
   "metadata": {},
   "outputs": [],
   "source": []
  }
 ],
 "metadata": {
  "kernelspec": {
   "display_name": "Python 3 (ipykernel)",
   "language": "python",
   "name": "python3"
  },
  "language_info": {
   "codemirror_mode": {
    "name": "ipython",
    "version": 3
   },
   "file_extension": ".py",
   "mimetype": "text/x-python",
   "name": "python",
   "nbconvert_exporter": "python",
   "pygments_lexer": "ipython3",
   "version": "3.9.12"
  }
 },
 "nbformat": 4,
 "nbformat_minor": 5
}
