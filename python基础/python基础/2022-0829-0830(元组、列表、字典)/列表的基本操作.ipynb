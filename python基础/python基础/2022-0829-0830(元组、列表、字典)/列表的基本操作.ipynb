{
 "cells": [
  {
   "cell_type": "code",
   "execution_count": 1,
   "id": "28fe7eb9",
   "metadata": {},
   "outputs": [],
   "source": [
    "#列表的操作\n",
    "list_k=[]\n",
    "list_k=list()\n",
    "#单一个值\n",
    "list_1=[1]"
   ]
  },
  {
   "cell_type": "code",
   "execution_count": 7,
   "id": "a688ca69",
   "metadata": {},
   "outputs": [
    {
     "data": {
      "text/plain": [
       "['齐齐哈尔', '牡丹江']"
      ]
     },
     "execution_count": 7,
     "metadata": {},
     "output_type": "execute_result"
    }
   ],
   "source": [
    "#基础操作\n",
    "lists=['哈尔滨','齐齐哈尔','牡丹江']\n",
    "lists[2]\n",
    "#改\n",
    "#lists[2]= 'aaaa'\n",
    "#lists\n",
    "\n",
    "#增加 普通操作无法实现 需通过函数\n",
    "\n",
    "#删除列表中的元素\n",
    "del lists[0]\n",
    "lists"
   ]
  },
  {
   "cell_type": "code",
   "execution_count": 10,
   "id": "ae96d5ae",
   "metadata": {},
   "outputs": [
    {
     "data": {
      "text/plain": [
       "[2, 3, 4, 5, 6, 7, 2, 3, 4, 5, 6, 7]"
      ]
     },
     "execution_count": 10,
     "metadata": {},
     "output_type": "execute_result"
    }
   ],
   "source": [
    "#列表的序列操作\n",
    "#拼接 \n",
    "res1=[2,3,4]\n",
    "res2=[5,6,7]\n",
    "res = res1+res2\n",
    "res*2  #复制"
   ]
  },
  {
   "cell_type": "code",
   "execution_count": 11,
   "id": "3504a34b",
   "metadata": {},
   "outputs": [],
   "source": [
    "#索引操作\n",
    "#列表[索引]"
   ]
  },
  {
   "cell_type": "markdown",
   "id": "2cbab6dc",
   "metadata": {},
   "source": [
    "# 取片操作\n",
    "格式：列表[:] 获取整个列表<br>\n",
    "格式: 列表[:结束索引] 获取列表开头到结束索引之前<br>\n",
    "格式：列表[开始索引:] 获取开始索引到列表末尾的数据组成的列表<br>\n",
    "格式：列表[开始索引:结束索引] 获取开始索引和结束索引之间的数据组成的列表<br>\n",
    "格式：列表[开始索引：结束索引：间隔值] 获取开始索引和结束索引之间的数据按照间隔值获取"
   ]
  },
  {
   "cell_type": "code",
   "execution_count": 16,
   "id": "34af4f8d",
   "metadata": {},
   "outputs": [
    {
     "data": {
      "text/plain": [
       "['zhangsan', 'lisi', 'wangwu', 'liuyou', 'wwu', 'lucy', 'jack']"
      ]
     },
     "execution_count": 16,
     "metadata": {},
     "output_type": "execute_result"
    }
   ],
   "source": [
    "lists=['zhangsan','lisi','wangwu','liuyou','wwu','lucy','jack']\n",
    "#lists[0:]\n",
    "#lists[0:7:2]\n",
    "#lists[:7]\n",
    "#lists[:6]\n",
    "lists[:]"
   ]
  },
  {
   "cell_type": "code",
   "execution_count": 22,
   "id": "123556ad",
   "metadata": {},
   "outputs": [
    {
     "name": "stdout",
     "output_type": "stream",
     "text": [
      "ok\n"
     ]
    }
   ],
   "source": [
    "#成员检测\n",
    "lists=['a','b','c']\n",
    "#print('d' not in lists)\n",
    "if 'd' not in lists:\n",
    "    print('ok')"
   ]
  },
  {
   "cell_type": "code",
   "execution_count": 25,
   "id": "f9852e6a",
   "metadata": {},
   "outputs": [
    {
     "data": {
      "text/plain": [
       "20"
      ]
     },
     "execution_count": 25,
     "metadata": {},
     "output_type": "execute_result"
    }
   ],
   "source": [
    "#列表中序列的操作函数 (整数)  list() 空列表/转换类型\n",
    "#len()\n",
    "lists=['a','b','c']\n",
    "lists_num=[20,21,22]\n",
    "len(lists)\n",
    "max(lists_num)\n",
    "min(lists_num)"
   ]
  },
  {
   "cell_type": "code",
   "execution_count": 34,
   "id": "6bcfcf96",
   "metadata": {},
   "outputs": [
    {
     "name": "stdout",
     "output_type": "stream",
     "text": [
      "水浒传 : 施耐庵\n",
      "西游记 : 吴承恩\n"
     ]
    }
   ],
   "source": [
    "#列表遍历操作\n",
    "lists=['a','b','c']\n",
    "#for i in lists:\n",
    " #   print(i)\n",
    "#i = 0\n",
    "#while i <len(lists):\n",
    "#    print(lists[i])\n",
    "#   i+=1\n",
    "#lists_test=[[1,2,3],[9,8]]\n",
    "#for i in lists_test:\n",
    " #   for j in i:\n",
    "  #      print(j)\n",
    "lists_test1=[[1,2],[9,8]]\n",
    "#for i,j in lists_test1:\n",
    " #   print(i)\n",
    "  #  print(j)\n",
    "book=['水浒传','西游记']\n",
    "writer=['施耐庵','吴承恩']\n",
    "for b,w in zip(book,writer):\n",
    "    print(b,':',w)"
   ]
  },
  {
   "cell_type": "code",
   "execution_count": 48,
   "id": "a04d6fbb",
   "metadata": {
    "collapsed": true
   },
   "outputs": [
    {
     "data": {
      "text/plain": [
       "['柳树:zhang',\n",
       " '柳树:li',\n",
       " '柳树:wang',\n",
       " '柳树:liu',\n",
       " '杨树:zhang',\n",
       " '杨树:li',\n",
       " '杨树:wang',\n",
       " '杨树:liu',\n",
       " '榆树:zhang',\n",
       " '榆树:li',\n",
       " '榆树:wang',\n",
       " '榆树:liu']"
      ]
     },
     "execution_count": 48,
     "metadata": {},
     "output_type": "execute_result"
    }
   ],
   "source": [
    "#列表内涵/列表的推导式\n",
    "book=['水浒传','西游记']\n",
    "books=['《'+i+'》' for i in book]\n",
    "books\n",
    "\n",
    "#带有判断条件的列表推导式\n",
    "books=['《'+i+'》' for i in book if i=='水浒传']  #三部分 i：变量处理 for：遍历 if：判断\n",
    "books\n",
    "\n",
    "book=['水浒传','西游记']\n",
    "writer=['施耐庵','吴承恩']\n",
    "#多个例如同时循环的列表推导式   组合 4个\n",
    "book_info=[b+':'+w for b in book for w in writer if b=='水浒传']\n",
    "book_info\n",
    "##############\n",
    "tree=['柳树','杨树','榆树']\n",
    "people=['zhang','li','wang','liu']\n",
    "method=[t+':'+p for t in tree for p in people ]\n",
    "method"
   ]
  },
  {
   "cell_type": "code",
   "execution_count": 80,
   "id": "f21d58e3",
   "metadata": {},
   "outputs": [
    {
     "data": {
      "text/plain": [
       "[{'name': 'zhang', 'age': 23},\n",
       " {'name': 'ls', 'age': 29},\n",
       " {'name': 'zl', 'age': 43},\n",
       " {'name': 'ww', 'age': 46}]"
      ]
     },
     "execution_count": 80,
     "metadata": {},
     "output_type": "execute_result"
    }
   ],
   "source": [
    "#列表专用函数\n",
    "# 追加\n",
    "book=['水浒传','西游记','水浒传']\n",
    "book.append('三国演义')\n",
    "book.append('红楼梦')\n",
    "book.append('论语')    #n次追加\n",
    "book\n",
    "\n",
    "#清空\n",
    "# book.clear()\n",
    "# book\n",
    "\n",
    "#copy   extend\n",
    "books=book.copy()\n",
    "books\n",
    "\n",
    "#count\n",
    "books.count('西游记')\n",
    "\n",
    "#index   第一次出现的位置\n",
    "books.index('水浒传')  \n",
    "\n",
    "#insert 插入\n",
    "books.insert(0,'道德经')\n",
    "books\n",
    "\n",
    "#pop(index) 移除元素  不给索引移除最后一个元素  \n",
    "books.pop(0)\n",
    "#print(books)\n",
    "\n",
    "#remove(value)\n",
    "books.remove('西游记')\n",
    "books\n",
    "\n",
    "#reverse(列表的反转)\n",
    "books.reverse()\n",
    "books\n",
    "\n",
    "#sort\n",
    "nums = [2,8,2,4,8,2,0,9,5,3]\n",
    "nums.sort(reverse=True)\n",
    "\n",
    "stu_info= [ {'name':'zhang','age':23},\n",
    "          {'name':'ls','age':29},\n",
    "           {'name':'ww','age':46},\n",
    "           {'name':'zl','age':43}        \n",
    "          ]\n",
    "stu_info.sort(key=lambda x:x['age'])\n",
    "stu_info"
   ]
  },
  {
   "cell_type": "code",
   "execution_count": null,
   "id": "c8c06d72",
   "metadata": {},
   "outputs": [],
   "source": []
  }
 ],
 "metadata": {
  "kernelspec": {
   "display_name": "Python 3 (ipykernel)",
   "language": "python",
   "name": "python3"
  },
  "language_info": {
   "codemirror_mode": {
    "name": "ipython",
    "version": 3
   },
   "file_extension": ".py",
   "mimetype": "text/x-python",
   "name": "python",
   "nbconvert_exporter": "python",
   "pygments_lexer": "ipython3",
   "version": "3.9.12"
  }
 },
 "nbformat": 4,
 "nbformat_minor": 5
}
