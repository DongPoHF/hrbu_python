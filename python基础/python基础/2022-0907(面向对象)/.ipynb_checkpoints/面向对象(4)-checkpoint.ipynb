{
 "cells": [
  {
   "cell_type": "code",
   "execution_count": 1,
   "id": "6ec27c37",
   "metadata": {},
   "outputs": [],
   "source": [
    "# 继承\n",
    "# 继承就是可以获取另外一个类的成员属性和成员方法\n",
    "#作用增加代码的复用性，节省不必要的重复代码，提高开发效率吧，同时可以设置类与类之间的关系"
   ]
  },
  {
   "cell_type": "code",
   "execution_count": 2,
   "id": "582dc8ab",
   "metadata": {},
   "outputs": [],
   "source": [
    "# 继承的两个概念\n",
    "# 父类\n",
    "#用于被继承的类，称为父类，也叫做基类，或者叫超类\n",
    "#子类\n",
    "#继承其他类的类，称为子类，也叫做派生类"
   ]
  },
  {
   "cell_type": "code",
   "execution_count": 9,
   "id": "fc1bc517",
   "metadata": {},
   "outputs": [],
   "source": [
    "#单继承\n",
    "class Father:\n",
    "    face = '圆脸'\n",
    "    \n",
    "    def sound(self):\n",
    "        print('声音沙哑')"
   ]
  },
  {
   "cell_type": "code",
   "execution_count": 12,
   "id": "e6c6689e",
   "metadata": {},
   "outputs": [],
   "source": [
    "class Son(Father):\n",
    "    name='张三'\n",
    "    def sex(self):\n",
    "        print('girl')"
   ]
  },
  {
   "cell_type": "code",
   "execution_count": 11,
   "id": "88152f9b",
   "metadata": {},
   "outputs": [
    {
     "data": {
      "text/plain": [
       "'圆脸'"
      ]
     },
     "execution_count": 11,
     "metadata": {},
     "output_type": "execute_result"
    }
   ],
   "source": [
    "zs=Son()\n",
    "zs.face"
   ]
  },
  {
   "cell_type": "code",
   "execution_count": 8,
   "id": "a5f82a4a",
   "metadata": {},
   "outputs": [
    {
     "name": "stdout",
     "output_type": "stream",
     "text": [
      "声音沙哑\n"
     ]
    }
   ],
   "source": [
    "zs.sound()"
   ]
  },
  {
   "cell_type": "code",
   "execution_count": 13,
   "id": "63194920",
   "metadata": {},
   "outputs": [],
   "source": [
    "#继承的特征\n",
    "# 1.所有的类都继承自object类\n",
    "# 2.子类继承父类可以访问父类当中的所有成员。(私有化的封装排除在外)\n",
    "# 3.子类继承父类并不会将父类的所有成员都复制到子类当中，访问父类的成员是间接的通过父类访问的\n",
    "# 4.子类可以有独有的属性和方法\n",
    "# 5.子类可以重载父类的方法，只需要设置和父类指定成员相同的名称即可，重载之后的成员，子类只会访问当前类的成员，不会调用父类\n",
    "# 6.子类如果重载了父类，并且还想将父类的方法借调过来使用，可以使用以下方法：\n",
    "# 父类名.方法()[适合类]   super().方法 [适合对象]"
   ]
  },
  {
   "cell_type": "code",
   "execution_count": 14,
   "id": "0331ac02",
   "metadata": {},
   "outputs": [],
   "source": [
    "# class MyNN(torch):\n",
    "#     def __init__(self):\n",
    "#         super.__init__()"
   ]
  },
  {
   "cell_type": "code",
   "execution_count": 15,
   "id": "01105c5e",
   "metadata": {},
   "outputs": [],
   "source": [
    "# 单继承\n",
    "#单继承：每个类只能继承一个类的方式称为单继承\n",
    "#多继承：每个类可以同时继承多个类的方式称为多继承"
   ]
  },
  {
   "cell_type": "code",
   "execution_count": 16,
   "id": "a0e5d023",
   "metadata": {},
   "outputs": [],
   "source": [
    "#多继承\n",
    "class Mother:\n",
    "    face='精致的脸庞'\n",
    "    def sound(self):\n",
    "        print('语气温和')\n",
    "class Father:\n",
    "    eye = '大眼睛'\n",
    "    def height(self):\n",
    "        print('身材修长')"
   ]
  },
  {
   "cell_type": "code",
   "execution_count": 18,
   "id": "1580b93c",
   "metadata": {},
   "outputs": [],
   "source": [
    "#子类\n",
    "class Son(Mother,Father):\n",
    "    pass\n",
    "zs=Son()"
   ]
  },
  {
   "cell_type": "code",
   "execution_count": 19,
   "id": "16e7fe8a",
   "metadata": {},
   "outputs": [
    {
     "data": {
      "text/plain": [
       "'精致的脸庞'"
      ]
     },
     "execution_count": 19,
     "metadata": {},
     "output_type": "execute_result"
    }
   ],
   "source": [
    "zs.face"
   ]
  },
  {
   "cell_type": "code",
   "execution_count": 20,
   "id": "1e3542d7",
   "metadata": {},
   "outputs": [
    {
     "data": {
      "text/plain": [
       "'大眼睛'"
      ]
     },
     "execution_count": 20,
     "metadata": {},
     "output_type": "execute_result"
    }
   ],
   "source": [
    "zs.eye"
   ]
  },
  {
   "cell_type": "code",
   "execution_count": 23,
   "id": "ec6466f8",
   "metadata": {},
   "outputs": [],
   "source": [
    "#菱形继承/钻石继承\n",
    "#动物类：\n",
    "class Animal:\n",
    "    #成员方法\n",
    "    def say(self):\n",
    "        print('Animal张开嘴')\n",
    "        print('Animal闭上嘴')\n",
    "#人类\n",
    "class Human(Animal):\n",
    "    def say(self):\n",
    "        print('人类在说话')\n",
    "        Animal.say(self)\n",
    "        print('人类说话完毕')\n",
    "# zs=Human()\n",
    "# zs.say()\n",
    "#鸟类\n",
    "class Bird(Animal):\n",
    "    def say(self):\n",
    "        print('鸟类说话')\n",
    "        Animal.say(self)\n",
    "        print('鸟类说话完毕')\n",
    "#鸟人类\n",
    "class HumanBird(Human,Bird):\n",
    "    def say(self):\n",
    "        print('鸟人来说话')\n",
    "        #调用人类的发言方式\n",
    "        Human.say(self)\n",
    "        Bird.say(self)\n",
    "        print('鸟人类说话完毕')"
   ]
  },
  {
   "cell_type": "code",
   "execution_count": 24,
   "id": "e3d5c4f7",
   "metadata": {},
   "outputs": [
    {
     "name": "stdout",
     "output_type": "stream",
     "text": [
      "鸟人来说话\n",
      "人类在说话\n",
      "Animal张开嘴\n",
      "Animal闭上嘴\n",
      "人类说话完毕\n",
      "鸟类说话\n",
      "Animal张开嘴\n",
      "Animal闭上嘴\n",
      "鸟类说话完毕\n",
      "鸟人类说话完毕\n"
     ]
    }
   ],
   "source": [
    "hm = HumanBird()\n",
    "hm.say()"
   ]
  },
  {
   "attachments": {
    "image.png": {
     "image/png": "[encoded data removed]"
    }
   },
   "cell_type": "markdown",
   "id": "8aff34f0",
   "metadata": {},
   "source": [
    "##### 菱形继承的问题\n",
    "![image.png](attachment:image.png)\n",
    "如果BC类同时继承了A类，D类又继承了BC两个类的情况下(菱形继承)<br>\n",
    "在调用BC中某个同名的方法的时候会导致A类的该方法被多次调用，会产生逻辑问题！"
   ]
  },
  {
   "cell_type": "code",
   "execution_count": 25,
   "id": "61f41a75",
   "metadata": {},
   "outputs": [
    {
     "data": {
      "text/plain": [
       "(__main__.HumanBird, __main__.Human, __main__.Bird, __main__.Animal, object)"
      ]
     },
     "execution_count": 25,
     "metadata": {},
     "output_type": "execute_result"
    }
   ],
   "source": [
    "# MRO列表\n",
    "# 解释： Method Realtion Order 用来制作一个继承关系的列表\n",
    "#python3 中只用C3计算法来计算MRO列表(计算过程忽略)\n",
    "#MRO列表的制作原则\n",
    "# 1.子类永远排在父类的前面\n",
    "# 2.如果继承了多个父类，那么按照MRO列表中的顺序映射在列表中\n",
    "# 3.如果多个类继承了一个父类，孙子类中只会选取第一个父类中的该方法.\n",
    "HumanBird.__mro__"
   ]
  },
  {
   "cell_type": "code",
   "execution_count": 34,
   "id": "17142033",
   "metadata": {},
   "outputs": [],
   "source": [
    "# super()\n",
    "# super不是一个关键字，也不是一个函数，它是一个类\n",
    "# super()的作用不是查找父类，而是查找MRO列表的上一个类\n",
    "# super()和父类没有任何实质关系，只是有时候可以调用到父类而已\n",
    "\n",
    "#在单继承的情况下，super()永远调用父类\n",
    "\n",
    "#菱形继承/钻石继承\n",
    "#动物类：\n",
    "class Animal:\n",
    "    #成员方法\n",
    "    def say(self):\n",
    "        print('Animal张开嘴')\n",
    "        print('Animal闭上嘴')\n",
    "#人类\n",
    "class Human(Animal):\n",
    "    def say(self):\n",
    "        print('人类在说话')\n",
    "        super().say()\n",
    "        print('人类说话完毕')\n",
    "# zs=Human()\n",
    "# zs.say()\n",
    "#鸟类\n",
    "class Bird(Animal):\n",
    "    def say(self):\n",
    "        print('鸟类说话')\n",
    "        super().say()\n",
    "        print('鸟类说话完毕')\n",
    "#鸟人类\n",
    "class HumanBird(Human,Bird):\n",
    "    def say(self):\n",
    "        print('鸟人类说话')\n",
    "        #调用人类的发言方式\n",
    "       # super().say()\n",
    "        super().say()\n",
    "        print('鸟人类说话完毕')"
   ]
  },
  {
   "cell_type": "code",
   "execution_count": 35,
   "id": "40a333f0",
   "metadata": {},
   "outputs": [
    {
     "data": {
      "text/plain": [
       "(__main__.HumanBird, __main__.Human, __main__.Bird, __main__.Animal, object)"
      ]
     },
     "execution_count": 35,
     "metadata": {},
     "output_type": "execute_result"
    }
   ],
   "source": [
    "#是super() 处理后的多继承\n",
    "HumanBird.__mro__"
   ]
  },
  {
   "cell_type": "code",
   "execution_count": 36,
   "id": "8bdb798f",
   "metadata": {},
   "outputs": [
    {
     "name": "stdout",
     "output_type": "stream",
     "text": [
      "鸟人类说话\n",
      "人类在说话\n",
      "鸟类说话\n",
      "Animal张开嘴\n",
      "Animal闭上嘴\n",
      "鸟类说话完毕\n",
      "人类说话完毕\n",
      "鸟人类说话完毕\n"
     ]
    }
   ],
   "source": [
    "hb = HumanBird()\n",
    "hb.say()"
   ]
  }
 ],
 "metadata": {
  "kernelspec": {
   "display_name": "Python 3 (ipykernel)",
   "language": "python",
   "name": "python3"
  },
  "language_info": {
   "codemirror_mode": {
    "name": "ipython",
    "version": 3
   },
   "file_extension": ".py",
   "mimetype": "text/x-python",
   "name": "python",
   "nbconvert_exporter": "python",
   "pygments_lexer": "ipython3",
   "version": "3.9.12"
  }
 },
 "nbformat": 4,
 "nbformat_minor": 5
}
