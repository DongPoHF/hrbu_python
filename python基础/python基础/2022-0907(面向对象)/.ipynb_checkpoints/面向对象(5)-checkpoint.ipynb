{
 "cells": [
  {
   "cell_type": "code",
   "execution_count": 1,
   "id": "045cfbcc",
   "metadata": {},
   "outputs": [],
   "source": [
    "#常用的魔术方法\n",
    "#魔术方法就是一个类/对象中的方法，和普通方法唯一不同的是，普通方法需要调用，魔术方法是在特定时刻发生"
   ]
  },
  {
   "cell_type": "code",
   "execution_count": 12,
   "id": "2f801638",
   "metadata": {},
   "outputs": [
    {
     "name": "stdout",
     "output_type": "stream",
     "text": [
      "你触发了init方法\n"
     ]
    },
    {
     "data": {
      "text/plain": [
       "{'name': '张三', 'age': 29, 'work': '老师'}"
      ]
     },
     "execution_count": 12,
     "metadata": {},
     "output_type": "execute_result"
    }
   ],
   "source": [
    "# init\n",
    "#初始化魔术方法\n",
    "# 触发时机：初始化对象时触发\n",
    "#参数：至少有一个self，接受对象\n",
    "#返回值：无\n",
    "#作用：初始化对象的成员\n",
    "#注意：使用该方法都是直接写入对象当中，类中无法拥有\n",
    "class Test:\n",
    "    def __init__(self,name,age,work):\n",
    "        print('你触发了init方法')\n",
    "        self.name = name\n",
    "        self.age = age\n",
    "        self.work = work\n",
    "    #普通成员方法\n",
    "    def test(self):\n",
    "        print('normal func')\n",
    "    # 自我介绍\n",
    "    def info(self):\n",
    "        print('我的名字叫做{}'.format(self.name))\n",
    "        print('我今年{}'.format(self.age))\n",
    "        print('我的职业是{}'.format(self.work))\n",
    "    \n",
    "    #简历的整理\n",
    "    def jl(self):\n",
    "        print('~~~个人简历~~~')\n",
    "        print(' 姓名:',self.name)\n",
    "        print(' 年龄:',self.age)\n",
    "        print(' 职业:',self.work)\n",
    "        \n",
    "    \n",
    "# 张三\n",
    "zs = Test('张三',29,'老师')\n",
    "zs.__dict__"
   ]
  },
  {
   "cell_type": "code",
   "execution_count": 10,
   "id": "8545b28d",
   "metadata": {},
   "outputs": [
    {
     "name": "stdout",
     "output_type": "stream",
     "text": [
      "我的名字叫做张三\n",
      "我今年29\n",
      "我的职业是老师\n"
     ]
    }
   ],
   "source": [
    "zs.info()"
   ]
  },
  {
   "cell_type": "code",
   "execution_count": 13,
   "id": "2459d65b",
   "metadata": {},
   "outputs": [
    {
     "name": "stdout",
     "output_type": "stream",
     "text": [
      "~~~个人简历~~~\n",
      " 姓名: 张三\n",
      " 年龄: 29\n",
      " 职业: 老师\n"
     ]
    }
   ],
   "source": [
    "zs.jl()"
   ]
  },
  {
   "cell_type": "code",
   "execution_count": 14,
   "id": "9f7d3ccd",
   "metadata": {},
   "outputs": [
    {
     "name": "stdout",
     "output_type": "stream",
     "text": [
      "你触发了init方法\n"
     ]
    }
   ],
   "source": [
    "ls = Test('李四',27,'程序员')"
   ]
  },
  {
   "cell_type": "code",
   "execution_count": 15,
   "id": "eb458413",
   "metadata": {},
   "outputs": [
    {
     "name": "stdout",
     "output_type": "stream",
     "text": [
      "~~~个人简历~~~\n",
      " 姓名: 李四\n",
      " 年龄: 27\n",
      " 职业: 程序员\n"
     ]
    }
   ],
   "source": [
    "ls.jl()"
   ]
  },
  {
   "cell_type": "code",
   "execution_count": 23,
   "id": "e4d0458c",
   "metadata": {},
   "outputs": [
    {
     "name": "stdout",
     "output_type": "stream",
     "text": [
      "<class '__main__.Human'>\n",
      "ok\n"
     ]
    }
   ],
   "source": [
    "# __new__\n",
    "#实例化魔术方法\n",
    "#触发时机：实例化时触发\n",
    "#参数：至少一个cls接受当前类\n",
    "#返回值必须返回对象的实例\n",
    "#作用：实例化对象\n",
    "class Human:\n",
    "    # 成员属性\n",
    "    c = 'c'\n",
    "    age= '0'\n",
    "    \n",
    "#     def __init__(self):\n",
    "#         print(self)\n",
    "#         print('ok init')\n",
    "    # 方法\n",
    "    def __new__(cls):\n",
    "        print(cls)\n",
    "        print('ok')\n",
    "zs=Human() "
   ]
  },
  {
   "cell_type": "code",
   "execution_count": 24,
   "id": "5dcd9a4c",
   "metadata": {},
   "outputs": [],
   "source": [
    "# __del__\n",
    "#析构模式方法\n",
    "#触发时机：当对象没有用(没有任何变量引用)的时候触发\n",
    "#参数：self\n",
    "#返回值：无\n",
    "#作用：使用对象的资源回收\n",
    "#注意：del不一定能触发当前方法，只有当前对象没有任何变量接收时才会触发"
   ]
  },
  {
   "cell_type": "code",
   "execution_count": 25,
   "id": "8bef345a",
   "metadata": {},
   "outputs": [],
   "source": [
    "# __call__\n",
    "# 调用对象魔术方法\n",
    "# 触发时机：将对象当作函数调用时触发\n",
    "#返回值：视情况而定\n",
    "#作用：可以将复杂的步骤合并操作，减少调用步骤，方便使用\n",
    "class Test():\n",
    "    def __call__(self):\n",
    "        print('ok')\n",
    "    def test(self):\n",
    "        print('2ok2')\n",
    "uu = Test()"
   ]
  },
  {
   "cell_type": "code",
   "execution_count": 26,
   "id": "4830ee59",
   "metadata": {},
   "outputs": [
    {
     "name": "stdout",
     "output_type": "stream",
     "text": [
      "ok\n"
     ]
    }
   ],
   "source": [
    "uu()"
   ]
  },
  {
   "cell_type": "code",
   "execution_count": 31,
   "id": "d09c913a",
   "metadata": {},
   "outputs": [],
   "source": [
    "# __len__\n",
    "#触发时机：使用len(对象)时候触发\n",
    "#参数：self\n",
    "#作用：视情况而定\n",
    "#返回值：返回值必须是整数，否则语法报错 !!!!!\n",
    "class Test():\n",
    "    def __call__(self):\n",
    "        print('ok')\n",
    "    \n",
    "    def __len__(self):\n",
    "        print('chufa')\n",
    "        print(self.__dict__)\n",
    "        return len(self.__dict__)\n",
    "    \n",
    "    def test(self):\n",
    "        print('2ok2')\n",
    "uu = Test()"
   ]
  },
  {
   "cell_type": "code",
   "execution_count": 32,
   "id": "2227abb0",
   "metadata": {
    "collapsed": true
   },
   "outputs": [
    {
     "name": "stdout",
     "output_type": "stream",
     "text": [
      "chufa\n",
      "{}\n"
     ]
    },
    {
     "data": {
      "text/plain": [
       "0"
      ]
     },
     "execution_count": 32,
     "metadata": {},
     "output_type": "execute_result"
    }
   ],
   "source": [
    "len(uu)"
   ]
  },
  {
   "cell_type": "code",
   "execution_count": null,
   "id": "e833bbd1",
   "metadata": {},
   "outputs": [],
   "source": []
  }
 ],
 "metadata": {
  "kernelspec": {
   "display_name": "Python 3 (ipykernel)",
   "language": "python",
   "name": "python3"
  },
  "language_info": {
   "codemirror_mode": {
    "name": "ipython",
    "version": 3
   },
   "file_extension": ".py",
   "mimetype": "text/x-python",
   "name": "python",
   "nbconvert_exporter": "python",
   "pygments_lexer": "ipython3",
   "version": "3.9.12"
  }
 },
 "nbformat": 4,
 "nbformat_minor": 5
}
