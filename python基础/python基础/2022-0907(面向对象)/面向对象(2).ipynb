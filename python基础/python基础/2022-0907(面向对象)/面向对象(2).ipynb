{
 "cells": [
  {
   "cell_type": "code",
   "execution_count": 9,
   "id": "cbcb3dae",
   "metadata": {},
   "outputs": [],
   "source": [
    "#实例化对象\n",
    "class Bird:\n",
    "    #成员属性(类中变量)\n",
    "    name='鸟类'\n",
    "    age='很久之前就有鸟类'\n",
    "    \n",
    "#     成员方法(类中的函数)\n",
    "#     关于self  \n",
    "#     他不是一个关键字 是一个随意书写的参数字符串\n",
    "#     1.英文单词的意义：自己\n",
    "#     2.如果存在对象即成员属性必须填一个参数self\n",
    "    def sound(self):\n",
    "        print(self)\n",
    "        print('发出清脆响亮的叫声')\n",
    "    \n",
    "    def fly(self):\n",
    "        print('山东翅膀飞翔')"
   ]
  },
  {
   "cell_type": "code",
   "execution_count": 10,
   "id": "38931356",
   "metadata": {},
   "outputs": [],
   "source": [
    "maque = Bird()"
   ]
  },
  {
   "cell_type": "code",
   "execution_count": 11,
   "id": "8db7a198",
   "metadata": {},
   "outputs": [
    {
     "data": {
      "text/plain": [
       "'鸟类'"
      ]
     },
     "execution_count": 11,
     "metadata": {},
     "output_type": "execute_result"
    }
   ],
   "source": [
    "#对象 --->成员的操作\n",
    "#访问对象中的成员属性\n",
    "maque.name"
   ]
  },
  {
   "cell_type": "code",
   "execution_count": 12,
   "id": "82f4892e",
   "metadata": {},
   "outputs": [
    {
     "name": "stdout",
     "output_type": "stream",
     "text": [
      "<__main__.Bird object at 0x000002021E546DF0>\n",
      "发出清脆响亮的叫声\n"
     ]
    }
   ],
   "source": [
    "#访问对象中的成员方法\n",
    "maque.sound()"
   ]
  },
  {
   "cell_type": "code",
   "execution_count": 15,
   "id": "5e74d111",
   "metadata": {},
   "outputs": [
    {
     "data": {
      "text/plain": [
       "'很久之前就有鸟类'"
      ]
     },
     "execution_count": 15,
     "metadata": {},
     "output_type": "execute_result"
    }
   ],
   "source": [
    "#修改对象成员\n",
    "#成员属性\n",
    "maque.name = '麻雀'\n",
    "maque.name\n",
    "#成员方法\n",
    "#对象.成员方法名 = 新值(lambda)\n",
    "\n",
    "#删除对象的成员\n",
    "del maque.age"
   ]
  },
  {
   "cell_type": "code",
   "execution_count": 16,
   "id": "5550ee11",
   "metadata": {},
   "outputs": [],
   "source": [
    "#添加成员\n",
    "maque.test = 'test'\n",
    "#添加成员方法(lambda)"
   ]
  },
  {
   "cell_type": "code",
   "execution_count": 17,
   "id": "8f7e0be8",
   "metadata": {},
   "outputs": [
    {
     "data": {
      "text/plain": [
       "'test'"
      ]
     },
     "execution_count": 17,
     "metadata": {},
     "output_type": "execute_result"
    }
   ],
   "source": [
    "maque.test"
   ]
  },
  {
   "cell_type": "code",
   "execution_count": 32,
   "id": "5ad27b7b",
   "metadata": {},
   "outputs": [],
   "source": [
    "class Bird:\n",
    "    name='鸟类'\n",
    "    age='很久之前就有鸟类'\n",
    "    def sound():\n",
    "        print('发出清脆响亮的叫声')   \n",
    "    def fly():\n",
    "        print('山东翅膀飞翔')"
   ]
  },
  {
   "cell_type": "code",
   "execution_count": 33,
   "id": "830cdb07",
   "metadata": {},
   "outputs": [
    {
     "name": "stdout",
     "output_type": "stream",
     "text": [
      "发出清脆响亮的叫声\n"
     ]
    }
   ],
   "source": [
    "#类的成员操作\n",
    "Bird.name\n",
    "Bird.sound()\n",
    "\n",
    "#修改类中的成员\n",
    "Bird.name= '鸟类类'\n",
    "Bird.name\n",
    "\n",
    "#删除\n",
    "# del Bird.name\n",
    "\n",
    "#添加成员\n",
    "Bird.test= 'test'"
   ]
  },
  {
   "cell_type": "code",
   "execution_count": 37,
   "id": "b78534bc",
   "metadata": {},
   "outputs": [
    {
     "name": "stdout",
     "output_type": "stream",
     "text": [
      "<__main__.Bird object at 0x000002021E546DF0>\n"
     ]
    }
   ],
   "source": [
    "#类的相关操作\n",
    "#实例化对象\n",
    "# 对象变量 = 类()\n",
    "#print(type(Bird))\n",
    "#<class 'type'> 类的类型\n",
    "#print(Bird) 类的值就是类本身\n",
    "# print(type(maque)) \n",
    "print(maque)"
   ]
  },
  {
   "cell_type": "code",
   "execution_count": 38,
   "id": "40a5ac14",
   "metadata": {},
   "outputs": [
    {
     "data": {
      "text/plain": [
       "mappingproxy({'__module__': '__main__',\n",
       "              'name': '鸟类类',\n",
       "              'age': '很久之前就有鸟类',\n",
       "              'sound': <function __main__.Bird.sound()>,\n",
       "              'fly': <function __main__.Bird.fly()>,\n",
       "              '__dict__': <attribute '__dict__' of 'Bird' objects>,\n",
       "              '__weakref__': <attribute '__weakref__' of 'Bird' objects>,\n",
       "              '__doc__': None,\n",
       "              'test': 'test'})"
      ]
     },
     "execution_count": 38,
     "metadata": {},
     "output_type": "execute_result"
    }
   ],
   "source": [
    "Bird.__dict__"
   ]
  },
  {
   "cell_type": "code",
   "execution_count": 39,
   "id": "10437b5c",
   "metadata": {},
   "outputs": [
    {
     "data": {
      "text/plain": [
       "{'name': '麻雀', 'test': 'test'}"
      ]
     },
     "execution_count": 39,
     "metadata": {},
     "output_type": "execute_result"
    }
   ],
   "source": [
    "maque.__dict__"
   ]
  }
 ],
 "metadata": {
  "kernelspec": {
   "display_name": "Python 3 (ipykernel)",
   "language": "python",
   "name": "python3"
  },
  "language_info": {
   "codemirror_mode": {
    "name": "ipython",
    "version": 3
   },
   "file_extension": ".py",
   "mimetype": "text/x-python",
   "name": "python",
   "nbconvert_exporter": "python",
   "pygments_lexer": "ipython3",
   "version": "3.9.12"
  }
 },
 "nbformat": 4,
 "nbformat_minor": 5
}
