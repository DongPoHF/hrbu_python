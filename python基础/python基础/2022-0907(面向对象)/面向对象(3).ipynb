{
 "cells": [
  {
   "cell_type": "markdown",
   "id": "8f04a8e2",
   "metadata": {},
   "source": [
    "### 面向对象的三大特性\n",
    "#### 封装 继承 多态"
   ]
  },
  {
   "cell_type": "markdown",
   "id": "46dacf6a",
   "metadata": {},
   "source": [
    "### 封装\n",
    "#### 封装就是对类和对象的成员访问进行限制,设定可以访问的方式和不可访问的方式\n",
    "#### 1.私有化封装  --> private\n",
    "#### 2.受保护的封装 --> protected\n",
    "####  3.公众封装 --> public"
   ]
  },
  {
   "cell_type": "code",
   "execution_count": 3,
   "id": "faae0708",
   "metadata": {},
   "outputs": [],
   "source": [
    "# 私有化封装 private\n",
    "#私有化封装是最高级别的封装，私有化封装之后的成员，只能在类中/对象中访问，类的外部，\n",
    "#子类中都不可以访问到\n",
    "#私有化封装格式：在成员名称前添加两个“__”即可\n",
    "# 例如 test --> __test   testFunc() -->__testFunc()\n",
    "#私有化封装权限一览表\n",
    "# 封装之后的访问权限\n",
    "# 类中/对象中   可以访问\n",
    "# 类外/对象外   不可以访问\n",
    "# 子类/子类对象  不可以访问"
   ]
  },
  {
   "cell_type": "code",
   "execution_count": 11,
   "id": "3bfcac15",
   "metadata": {},
   "outputs": [],
   "source": [
    "class Person:\n",
    "    #成员属性\n",
    "    name='人类'\n",
    "    age='llag'\n",
    "    \n",
    "    #成员方法\n",
    "    def talk(self):\n",
    "        print('我们有语言和文字以及手势')\n",
    "        \n",
    "    def run(self):\n",
    "        print('直立行走')\n",
    "        \n",
    "    #私有化封装\n",
    "    def __heart(self):\n",
    "        print('心脏的构造你要看人就X了')"
   ]
  },
  {
   "cell_type": "code",
   "execution_count": 12,
   "id": "42489c25",
   "metadata": {
    "collapsed": true
   },
   "outputs": [
    {
     "ename": "AttributeError",
     "evalue": "'Person' object has no attribute 'heart'",
     "output_type": "error",
     "traceback": [
      "\u001b[1;31m---------------------------------------------------------------------------\u001b[0m",
      "\u001b[1;31mAttributeError\u001b[0m                            Traceback (most recent call last)",
      "Input \u001b[1;32mIn [12]\u001b[0m, in \u001b[0;36m<cell line: 2>\u001b[1;34m()\u001b[0m\n\u001b[0;32m      1\u001b[0m zs\u001b[38;5;241m=\u001b[39mPerson()\n\u001b[1;32m----> 2\u001b[0m \u001b[43mzs\u001b[49m\u001b[38;5;241;43m.\u001b[39;49m\u001b[43mheart\u001b[49m()\n",
      "\u001b[1;31mAttributeError\u001b[0m: 'Person' object has no attribute 'heart'"
     ]
    }
   ],
   "source": [
    "# zs=Person()\n",
    "# zs.heart()"
   ]
  },
  {
   "cell_type": "code",
   "execution_count": 13,
   "id": "af0ed900",
   "metadata": {},
   "outputs": [],
   "source": [
    "#受保护的封装\n",
    "#受保护的封装是一定级别，封装之后，只有部分位置可以访问(类和子类)，部分位置(类外部)不可以访问\n",
    "#格式：在成员名称前添加一个_即可\n",
    "#例如：受保护  money  --> _money\n",
    "\n",
    "#受保护的封装权限一览表\n",
    "# 封装之后的访问权限\n",
    "# 类中/对象中   可以访问\n",
    "# 类外/对象外   不可以访问\n",
    "# 子类/子类对象 可以访问"
   ]
  },
  {
   "cell_type": "code",
   "execution_count": 14,
   "id": "b1e21eb4",
   "metadata": {},
   "outputs": [],
   "source": [
    "class Person:\n",
    "    #成员属性\n",
    "    name='人类'\n",
    "    age='llag'\n",
    "    \n",
    "    #受保护封装\n",
    "    _money='别偷我，我不花就一直是我的'\n",
    "    \n",
    "    #成员方法\n",
    "    def talk(self):\n",
    "        print('我们有语言和文字以及手势')\n",
    "        \n",
    "    def run(self):\n",
    "        print('直立行走')\n",
    "        \n",
    "    #私有化封装\n",
    "    def __heart(self):\n",
    "        print('心脏的构造你要看人就X了')"
   ]
  },
  {
   "cell_type": "code",
   "execution_count": 16,
   "id": "36daa368",
   "metadata": {},
   "outputs": [],
   "source": [
    "zs=Person()\n",
    "#zs.money"
   ]
  },
  {
   "cell_type": "code",
   "execution_count": 17,
   "id": "4ba8171e",
   "metadata": {},
   "outputs": [
    {
     "ename": "AttributeError",
     "evalue": "type object 'Person' has no attribute 'money'",
     "output_type": "error",
     "traceback": [
      "\u001b[1;31m---------------------------------------------------------------------------\u001b[0m",
      "\u001b[1;31mAttributeError\u001b[0m                            Traceback (most recent call last)",
      "Input \u001b[1;32mIn [17]\u001b[0m, in \u001b[0;36m<cell line: 1>\u001b[1;34m()\u001b[0m\n\u001b[1;32m----> 1\u001b[0m \u001b[43mPerson\u001b[49m\u001b[38;5;241;43m.\u001b[39;49m\u001b[43mmoney\u001b[49m\n",
      "\u001b[1;31mAttributeError\u001b[0m: type object 'Person' has no attribute 'money'"
     ]
    }
   ],
   "source": [
    "Person.money"
   ]
  },
  {
   "cell_type": "code",
   "execution_count": 18,
   "id": "c2b3a40d",
   "metadata": {},
   "outputs": [],
   "source": [
    "# 公共封装 public\n",
    "# 所有的成员默认都是公共级别的封装，可以在类中，类外及子类中正常访问\n",
    "#公共的封装权限一览表\n",
    "# 封装之后的访问权限\n",
    "# 类中/对象中   可以访问\n",
    "# 类外/对象外   可以访问\n",
    "# 子类/子类对象 可以访问"
   ]
  },
  {
   "cell_type": "code",
   "execution_count": null,
   "id": "b7158a7f",
   "metadata": {},
   "outputs": [],
   "source": []
  }
 ],
 "metadata": {
  "kernelspec": {
   "display_name": "Python 3 (ipykernel)",
   "language": "python",
   "name": "python3"
  },
  "language_info": {
   "codemirror_mode": {
    "name": "ipython",
    "version": 3
   },
   "file_extension": ".py",
   "mimetype": "text/x-python",
   "name": "python",
   "nbconvert_exporter": "python",
   "pygments_lexer": "ipython3",
   "version": "3.9.12"
  }
 },
 "nbformat": 4,
 "nbformat_minor": 5
}
